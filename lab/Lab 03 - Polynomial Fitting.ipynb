{
 "cells": [
  {
   "cell_type": "markdown",
   "metadata": {
    "collapsed": true,
    "pycharm": {
     "name": "#%% md\n"
    }
   },
   "source": [
    "# Lab 03 - Polynomial Fitting\n",
    "In the previous lab we discussed linear regression and the OLS estimator for solving the minimization of the RSS. As we\n",
    "mentioned, regression problems are a very wide family of settings and algorithms which we use to try to estimate the relation between a set of explanatory variables and a **continuous** response (i.e. $\\mathcal{Y}\\in\\mathbb{R}^p$). In the following lab we will discuss one such setting called \"Polynomial Fitting\". \n",
    "\n",
    "Sometimes, the data (and the relation between the explanatory variables and response) can be described by some polynomial\n",
    "of some degree. Here, we only focus on the case where it is a polynomial of a single variable. That is: \n",
    "$$ p_k\\left(x\\right)=\\sum_{i=0}^{k}\\alpha_i x^i\\quad\\alpha_0,\\ldots,\\alpha_k\\in\\mathbb{R} $$\n",
    "\n",
    "So our hypothesis class is of the form:\n",
    "$$ \\mathcal{H}^k_{poly}=\\left\\{p_k\\,\\Big|\\, p_k\\left(x\\right)=\\sum_{i=0}^{k}\\alpha_i x^i\\quad\\alpha_0,\\ldots,\\alpha_k\\in\\mathbb{R}\\right\\} $$\n",
    "\n",
    "Notice that similar to linear regression, each hypothesis in the class is defined by a coefficients vector. Below are two\n",
    "examples (simulated and real) for datasets where the relation between the explanatory variable and response is polynomial."
   ]
  },
  {
   "cell_type": "code",
   "execution_count": 19,
   "metadata": {},
   "outputs": [],
   "source": [
    "import sys\n",
    "sys.path.append(\"../\")\n",
    "from utils import *"
   ]
  },
  {
   "cell_type": "code",
   "execution_count": 20,
   "metadata": {
    "pycharm": {
     "name": "#%%\n"
    }
   },
   "outputs": [
    {
     "data": {
      "application/vnd.plotly.v1+json": {
       "data": [
        {
         "marker": {
          "color": "black",
          "opacity": 0.7
         },
         "mode": "markers",
         "showlegend": false,
         "x": [
          -1.2,
          -1.0358974358974358,
          -0.8717948717948718,
          -0.7076923076923076,
          -0.5435897435897435,
          -0.37948717948717947,
          -0.21538461538461529,
          -0.05128205128205132,
          0.11282051282051286,
          0.27692307692307705,
          0.441025641025641,
          0.6051282051282052,
          0.7692307692307694,
          0.9333333333333333,
          1.0974358974358973,
          1.2615384615384617,
          1.4256410256410257,
          1.5897435897435896,
          1.753846153846154,
          1.917948717948718
         ],
         "y": [
          5.8096,
          3.8381753317244733,
          2.522800884051074,
          1.7092797030916282,
          1.2608197821340592,
          1.058034061642376,
          0.9989404292566787,
          0.9989617197931566,
          0.9909257152440888,
          0.9250651447778439,
          0.7690176847388803,
          0.5078259586477458,
          0.14393753720107805,
          -0.3027950617283952,
          -0.7951143730918573,
          -1.278357984664403,
          -1.6804585370450331,
          -1.911943723656666,
          -1.8659362907461214,
          -1.418154037384138
         ],
         "type": "scatter",
         "xaxis": "x",
         "yaxis": "y"
        },
        {
         "marker": {
          "color": "black",
          "opacity": 0.7
         },
         "mode": "markers",
         "showlegend": false,
         "x": [
          "Business Analyst",
          "Junior Consultant",
          "Senior Consultant",
          "Manager",
          "Country Manager",
          "Region Manager",
          "Partner",
          "Senior Partner",
          "C-level",
          "CEO"
         ],
         "y": [
          45000,
          50000,
          60000,
          80000,
          110000,
          150000,
          200000,
          300000,
          500000,
          1000000
         ],
         "type": "scatter",
         "xaxis": "x2",
         "yaxis": "y2"
        }
       ],
       "layout": {
        "template": {
         "data": {
          "barpolar": [
           {
            "marker": {
             "line": {
              "color": "white",
              "width": 0.5
             },
             "pattern": {
              "fillmode": "overlay",
              "size": 10,
              "solidity": 0.2
             }
            },
            "type": "barpolar"
           }
          ],
          "bar": [
           {
            "error_x": {
             "color": "rgb(36,36,36)"
            },
            "error_y": {
             "color": "rgb(36,36,36)"
            },
            "marker": {
             "line": {
              "color": "white",
              "width": 0.5
             },
             "pattern": {
              "fillmode": "overlay",
              "size": 10,
              "solidity": 0.2
             }
            },
            "type": "bar"
           }
          ],
          "carpet": [
           {
            "aaxis": {
             "endlinecolor": "rgb(36,36,36)",
             "gridcolor": "white",
             "linecolor": "white",
             "minorgridcolor": "white",
             "startlinecolor": "rgb(36,36,36)"
            },
            "baxis": {
             "endlinecolor": "rgb(36,36,36)",
             "gridcolor": "white",
             "linecolor": "white",
             "minorgridcolor": "white",
             "startlinecolor": "rgb(36,36,36)"
            },
            "type": "carpet"
           }
          ],
          "choropleth": [
           {
            "colorbar": {
             "outlinewidth": 1,
             "tickcolor": "rgb(36,36,36)",
             "ticks": "outside"
            },
            "type": "choropleth"
           }
          ],
          "contourcarpet": [
           {
            "colorbar": {
             "outlinewidth": 1,
             "tickcolor": "rgb(36,36,36)",
             "ticks": "outside"
            },
            "type": "contourcarpet"
           }
          ],
          "contour": [
           {
            "colorbar": {
             "outlinewidth": 1,
             "tickcolor": "rgb(36,36,36)",
             "ticks": "outside"
            },
            "colorscale": [
             [
              0.0,
              "#440154"
             ],
             [
              0.1111111111111111,
              "#482878"
             ],
             [
              0.2222222222222222,
              "#3e4989"
             ],
             [
              0.3333333333333333,
              "#31688e"
             ],
             [
              0.4444444444444444,
              "#26828e"
             ],
             [
              0.5555555555555556,
              "#1f9e89"
             ],
             [
              0.6666666666666666,
              "#35b779"
             ],
             [
              0.7777777777777778,
              "#6ece58"
             ],
             [
              0.8888888888888888,
              "#b5de2b"
             ],
             [
              1.0,
              "#fde725"
             ]
            ],
            "type": "contour"
           }
          ],
          "heatmapgl": [
           {
            "colorbar": {
             "outlinewidth": 1,
             "tickcolor": "rgb(36,36,36)",
             "ticks": "outside"
            },
            "colorscale": [
             [
              0.0,
              "#440154"
             ],
             [
              0.1111111111111111,
              "#482878"
             ],
             [
              0.2222222222222222,
              "#3e4989"
             ],
             [
              0.3333333333333333,
              "#31688e"
             ],
             [
              0.4444444444444444,
              "#26828e"
             ],
             [
              0.5555555555555556,
              "#1f9e89"
             ],
             [
              0.6666666666666666,
              "#35b779"
             ],
             [
              0.7777777777777778,
              "#6ece58"
             ],
             [
              0.8888888888888888,
              "#b5de2b"
             ],
             [
              1.0,
              "#fde725"
             ]
            ],
            "type": "heatmapgl"
           }
          ],
          "heatmap": [
           {
            "colorbar": {
             "outlinewidth": 1,
             "tickcolor": "rgb(36,36,36)",
             "ticks": "outside"
            },
            "colorscale": [
             [
              0.0,
              "#440154"
             ],
             [
              0.1111111111111111,
              "#482878"
             ],
             [
              0.2222222222222222,
              "#3e4989"
             ],
             [
              0.3333333333333333,
              "#31688e"
             ],
             [
              0.4444444444444444,
              "#26828e"
             ],
             [
              0.5555555555555556,
              "#1f9e89"
             ],
             [
              0.6666666666666666,
              "#35b779"
             ],
             [
              0.7777777777777778,
              "#6ece58"
             ],
             [
              0.8888888888888888,
              "#b5de2b"
             ],
             [
              1.0,
              "#fde725"
             ]
            ],
            "type": "heatmap"
           }
          ],
          "histogram2dcontour": [
           {
            "colorbar": {
             "outlinewidth": 1,
             "tickcolor": "rgb(36,36,36)",
             "ticks": "outside"
            },
            "colorscale": [
             [
              0.0,
              "#440154"
             ],
             [
              0.1111111111111111,
              "#482878"
             ],
             [
              0.2222222222222222,
              "#3e4989"
             ],
             [
              0.3333333333333333,
              "#31688e"
             ],
             [
              0.4444444444444444,
              "#26828e"
             ],
             [
              0.5555555555555556,
              "#1f9e89"
             ],
             [
              0.6666666666666666,
              "#35b779"
             ],
             [
              0.7777777777777778,
              "#6ece58"
             ],
             [
              0.8888888888888888,
              "#b5de2b"
             ],
             [
              1.0,
              "#fde725"
             ]
            ],
            "type": "histogram2dcontour"
           }
          ],
          "histogram2d": [
           {
            "colorbar": {
             "outlinewidth": 1,
             "tickcolor": "rgb(36,36,36)",
             "ticks": "outside"
            },
            "colorscale": [
             [
              0.0,
              "#440154"
             ],
             [
              0.1111111111111111,
              "#482878"
             ],
             [
              0.2222222222222222,
              "#3e4989"
             ],
             [
              0.3333333333333333,
              "#31688e"
             ],
             [
              0.4444444444444444,
              "#26828e"
             ],
             [
              0.5555555555555556,
              "#1f9e89"
             ],
             [
              0.6666666666666666,
              "#35b779"
             ],
             [
              0.7777777777777778,
              "#6ece58"
             ],
             [
              0.8888888888888888,
              "#b5de2b"
             ],
             [
              1.0,
              "#fde725"
             ]
            ],
            "type": "histogram2d"
           }
          ],
          "histogram": [
           {
            "marker": {
             "line": {
              "color": "white",
              "width": 0.6
             }
            },
            "type": "histogram"
           }
          ],
          "mesh3d": [
           {
            "colorbar": {
             "outlinewidth": 1,
             "tickcolor": "rgb(36,36,36)",
             "ticks": "outside"
            },
            "type": "mesh3d"
           }
          ],
          "parcoords": [
           {
            "line": {
             "colorbar": {
              "outlinewidth": 1,
              "tickcolor": "rgb(36,36,36)",
              "ticks": "outside"
             }
            },
            "type": "parcoords"
           }
          ],
          "pie": [
           {
            "automargin": true,
            "type": "pie"
           }
          ],
          "scatter3d": [
           {
            "line": {
             "colorbar": {
              "outlinewidth": 1,
              "tickcolor": "rgb(36,36,36)",
              "ticks": "outside"
             }
            },
            "marker": {
             "colorbar": {
              "outlinewidth": 1,
              "tickcolor": "rgb(36,36,36)",
              "ticks": "outside"
             }
            },
            "type": "scatter3d"
           }
          ],
          "scattercarpet": [
           {
            "marker": {
             "colorbar": {
              "outlinewidth": 1,
              "tickcolor": "rgb(36,36,36)",
              "ticks": "outside"
             }
            },
            "type": "scattercarpet"
           }
          ],
          "scattergeo": [
           {
            "marker": {
             "colorbar": {
              "outlinewidth": 1,
              "tickcolor": "rgb(36,36,36)",
              "ticks": "outside"
             }
            },
            "type": "scattergeo"
           }
          ],
          "scattergl": [
           {
            "marker": {
             "colorbar": {
              "outlinewidth": 1,
              "tickcolor": "rgb(36,36,36)",
              "ticks": "outside"
             }
            },
            "type": "scattergl"
           }
          ],
          "scattermapbox": [
           {
            "marker": {
             "colorbar": {
              "outlinewidth": 1,
              "tickcolor": "rgb(36,36,36)",
              "ticks": "outside"
             }
            },
            "type": "scattermapbox"
           }
          ],
          "scatterpolargl": [
           {
            "marker": {
             "colorbar": {
              "outlinewidth": 1,
              "tickcolor": "rgb(36,36,36)",
              "ticks": "outside"
             }
            },
            "type": "scatterpolargl"
           }
          ],
          "scatterpolar": [
           {
            "marker": {
             "colorbar": {
              "outlinewidth": 1,
              "tickcolor": "rgb(36,36,36)",
              "ticks": "outside"
             }
            },
            "type": "scatterpolar"
           }
          ],
          "scatter": [
           {
            "marker": {
             "colorbar": {
              "outlinewidth": 1,
              "tickcolor": "rgb(36,36,36)",
              "ticks": "outside"
             }
            },
            "type": "scatter"
           }
          ],
          "scatterternary": [
           {
            "marker": {
             "colorbar": {
              "outlinewidth": 1,
              "tickcolor": "rgb(36,36,36)",
              "ticks": "outside"
             }
            },
            "type": "scatterternary"
           }
          ],
          "surface": [
           {
            "colorbar": {
             "outlinewidth": 1,
             "tickcolor": "rgb(36,36,36)",
             "ticks": "outside"
            },
            "colorscale": [
             [
              0.0,
              "#440154"
             ],
             [
              0.1111111111111111,
              "#482878"
             ],
             [
              0.2222222222222222,
              "#3e4989"
             ],
             [
              0.3333333333333333,
              "#31688e"
             ],
             [
              0.4444444444444444,
              "#26828e"
             ],
             [
              0.5555555555555556,
              "#1f9e89"
             ],
             [
              0.6666666666666666,
              "#35b779"
             ],
             [
              0.7777777777777778,
              "#6ece58"
             ],
             [
              0.8888888888888888,
              "#b5de2b"
             ],
             [
              1.0,
              "#fde725"
             ]
            ],
            "type": "surface"
           }
          ],
          "table": [
           {
            "cells": {
             "fill": {
              "color": "rgb(237,237,237)"
             },
             "line": {
              "color": "white"
             }
            },
            "header": {
             "fill": {
              "color": "rgb(217,217,217)"
             },
             "line": {
              "color": "white"
             }
            },
            "type": "table"
           }
          ]
         },
         "layout": {
          "annotationdefaults": {
           "arrowhead": 0,
           "arrowwidth": 1
          },
          "autotypenumbers": "strict",
          "coloraxis": {
           "colorbar": {
            "outlinewidth": 1,
            "tickcolor": "rgb(36,36,36)",
            "ticks": "outside"
           }
          },
          "colorscale": {
           "diverging": [
            [
             0.0,
             "rgb(103,0,31)"
            ],
            [
             0.1,
             "rgb(178,24,43)"
            ],
            [
             0.2,
             "rgb(214,96,77)"
            ],
            [
             0.3,
             "rgb(244,165,130)"
            ],
            [
             0.4,
             "rgb(253,219,199)"
            ],
            [
             0.5,
             "rgb(247,247,247)"
            ],
            [
             0.6,
             "rgb(209,229,240)"
            ],
            [
             0.7,
             "rgb(146,197,222)"
            ],
            [
             0.8,
             "rgb(67,147,195)"
            ],
            [
             0.9,
             "rgb(33,102,172)"
            ],
            [
             1.0,
             "rgb(5,48,97)"
            ]
           ],
           "sequential": [
            [
             0.0,
             "#440154"
            ],
            [
             0.1111111111111111,
             "#482878"
            ],
            [
             0.2222222222222222,
             "#3e4989"
            ],
            [
             0.3333333333333333,
             "#31688e"
            ],
            [
             0.4444444444444444,
             "#26828e"
            ],
            [
             0.5555555555555556,
             "#1f9e89"
            ],
            [
             0.6666666666666666,
             "#35b779"
            ],
            [
             0.7777777777777778,
             "#6ece58"
            ],
            [
             0.8888888888888888,
             "#b5de2b"
            ],
            [
             1.0,
             "#fde725"
            ]
           ],
           "sequentialminus": [
            [
             0.0,
             "#440154"
            ],
            [
             0.1111111111111111,
             "#482878"
            ],
            [
             0.2222222222222222,
             "#3e4989"
            ],
            [
             0.3333333333333333,
             "#31688e"
            ],
            [
             0.4444444444444444,
             "#26828e"
            ],
            [
             0.5555555555555556,
             "#1f9e89"
            ],
            [
             0.6666666666666666,
             "#35b779"
            ],
            [
             0.7777777777777778,
             "#6ece58"
            ],
            [
             0.8888888888888888,
             "#b5de2b"
            ],
            [
             1.0,
             "#fde725"
            ]
           ]
          },
          "colorway": [
           "#1F77B4",
           "#FF7F0E",
           "#2CA02C",
           "#D62728",
           "#9467BD",
           "#8C564B",
           "#E377C2",
           "#7F7F7F",
           "#BCBD22",
           "#17BECF"
          ],
          "font": {
           "color": "rgb(36,36,36)"
          },
          "geo": {
           "bgcolor": "white",
           "lakecolor": "white",
           "landcolor": "white",
           "showlakes": true,
           "showland": true,
           "subunitcolor": "white"
          },
          "hoverlabel": {
           "align": "left"
          },
          "hovermode": "closest",
          "mapbox": {
           "style": "light"
          },
          "paper_bgcolor": "white",
          "plot_bgcolor": "white",
          "polar": {
           "angularaxis": {
            "gridcolor": "rgb(232,232,232)",
            "linecolor": "rgb(36,36,36)",
            "showgrid": false,
            "showline": true,
            "ticks": "outside"
           },
           "bgcolor": "white",
           "radialaxis": {
            "gridcolor": "rgb(232,232,232)",
            "linecolor": "rgb(36,36,36)",
            "showgrid": false,
            "showline": true,
            "ticks": "outside"
           }
          },
          "scene": {
           "xaxis": {
            "backgroundcolor": "white",
            "gridcolor": "rgb(232,232,232)",
            "gridwidth": 2,
            "linecolor": "rgb(36,36,36)",
            "showbackground": true,
            "showgrid": false,
            "showline": true,
            "ticks": "outside",
            "zeroline": false,
            "zerolinecolor": "rgb(36,36,36)"
           },
           "yaxis": {
            "backgroundcolor": "white",
            "gridcolor": "rgb(232,232,232)",
            "gridwidth": 2,
            "linecolor": "rgb(36,36,36)",
            "showbackground": true,
            "showgrid": false,
            "showline": true,
            "ticks": "outside",
            "zeroline": false,
            "zerolinecolor": "rgb(36,36,36)"
           },
           "zaxis": {
            "backgroundcolor": "white",
            "gridcolor": "rgb(232,232,232)",
            "gridwidth": 2,
            "linecolor": "rgb(36,36,36)",
            "showbackground": true,
            "showgrid": false,
            "showline": true,
            "ticks": "outside",
            "zeroline": false,
            "zerolinecolor": "rgb(36,36,36)"
           }
          },
          "shapedefaults": {
           "fillcolor": "black",
           "line": {
            "width": 0
           },
           "opacity": 0.3
          },
          "ternary": {
           "aaxis": {
            "gridcolor": "rgb(232,232,232)",
            "linecolor": "rgb(36,36,36)",
            "showgrid": false,
            "showline": true,
            "ticks": "outside"
           },
           "baxis": {
            "gridcolor": "rgb(232,232,232)",
            "linecolor": "rgb(36,36,36)",
            "showgrid": false,
            "showline": true,
            "ticks": "outside"
           },
           "bgcolor": "white",
           "caxis": {
            "gridcolor": "rgb(232,232,232)",
            "linecolor": "rgb(36,36,36)",
            "showgrid": false,
            "showline": true,
            "ticks": "outside"
           }
          },
          "title": {
           "x": 0.05
          },
          "xaxis": {
           "automargin": true,
           "gridcolor": "rgb(232,232,232)",
           "linecolor": "rgb(36,36,36)",
           "showgrid": false,
           "showline": true,
           "ticks": "outside",
           "title": {
            "standoff": 15
           },
           "zeroline": false,
           "zerolinecolor": "rgb(36,36,36)"
          },
          "yaxis": {
           "automargin": true,
           "gridcolor": "rgb(232,232,232)",
           "linecolor": "rgb(36,36,36)",
           "showgrid": false,
           "showline": true,
           "ticks": "outside",
           "title": {
            "standoff": 15
           },
           "zeroline": false,
           "zerolinecolor": "rgb(36,36,36)"
          },
          "margin": {
           "b": 0,
           "l": 20,
           "r": 20,
           "t": 40
          }
         }
        },
        "xaxis": {
         "anchor": "y",
         "domain": [
          0.0,
          0.45
         ]
        },
        "yaxis": {
         "anchor": "x",
         "domain": [
          0.0,
          1.0
         ]
        },
        "xaxis2": {
         "anchor": "y2",
         "domain": [
          0.55,
          1.0
         ]
        },
        "yaxis2": {
         "anchor": "x2",
         "domain": [
          0.0,
          1.0
         ]
        },
        "annotations": [
         {
          "font": {
           "size": 16
          },
          "showarrow": false,
          "text": "$\\text{Simulated Data: }y=x^4-2x^3-0.5x^2+1$",
          "x": 0.225,
          "xanchor": "center",
          "xref": "paper",
          "y": 1.0,
          "yanchor": "bottom",
          "yref": "paper"
         },
         {
          "font": {
           "size": 16
          },
          "showarrow": false,
          "text": "$\\text{Positions Salary}$",
          "x": 0.775,
          "xanchor": "center",
          "xref": "paper",
          "y": 1.0,
          "yanchor": "bottom",
          "yref": "paper"
         }
        ],
        "margin": {
         "t": 100
        },
        "title": {
         "text": "$\\text{(1) Datasets For Polynomial Fitting}$"
        }
       },
       "config": {
        "plotlyServerURL": "https://plot.ly"
       }
      },
      "text/html": "<div>                            <div id=\"4a4a5957-613a-412e-8387-6440dbd34b01\" class=\"plotly-graph-div\" style=\"height:525px; width:100%;\"></div>            <script type=\"text/javascript\">                require([\"plotly\"], function(Plotly) {                    window.PLOTLYENV=window.PLOTLYENV || {};                                    if (document.getElementById(\"4a4a5957-613a-412e-8387-6440dbd34b01\")) {                    Plotly.newPlot(                        \"4a4a5957-613a-412e-8387-6440dbd34b01\",                        [{\"marker\":{\"color\":\"black\",\"opacity\":0.7},\"mode\":\"markers\",\"showlegend\":false,\"x\":[-1.2,-1.0358974358974358,-0.8717948717948718,-0.7076923076923076,-0.5435897435897435,-0.37948717948717947,-0.21538461538461529,-0.05128205128205132,0.11282051282051286,0.27692307692307705,0.441025641025641,0.6051282051282052,0.7692307692307694,0.9333333333333333,1.0974358974358973,1.2615384615384617,1.4256410256410257,1.5897435897435896,1.753846153846154,1.917948717948718],\"y\":[5.8096,3.8381753317244733,2.522800884051074,1.7092797030916282,1.2608197821340592,1.058034061642376,0.9989404292566787,0.9989617197931566,0.9909257152440888,0.9250651447778439,0.7690176847388803,0.5078259586477458,0.14393753720107805,-0.3027950617283952,-0.7951143730918573,-1.278357984664403,-1.6804585370450331,-1.911943723656666,-1.8659362907461214,-1.418154037384138],\"type\":\"scatter\",\"xaxis\":\"x\",\"yaxis\":\"y\"},{\"marker\":{\"color\":\"black\",\"opacity\":0.7},\"mode\":\"markers\",\"showlegend\":false,\"x\":[\"Business Analyst\",\"Junior Consultant\",\"Senior Consultant\",\"Manager\",\"Country Manager\",\"Region Manager\",\"Partner\",\"Senior Partner\",\"C-level\",\"CEO\"],\"y\":[45000,50000,60000,80000,110000,150000,200000,300000,500000,1000000],\"type\":\"scatter\",\"xaxis\":\"x2\",\"yaxis\":\"y2\"}],                        {\"template\":{\"data\":{\"barpolar\":[{\"marker\":{\"line\":{\"color\":\"white\",\"width\":0.5},\"pattern\":{\"fillmode\":\"overlay\",\"size\":10,\"solidity\":0.2}},\"type\":\"barpolar\"}],\"bar\":[{\"error_x\":{\"color\":\"rgb(36,36,36)\"},\"error_y\":{\"color\":\"rgb(36,36,36)\"},\"marker\":{\"line\":{\"color\":\"white\",\"width\":0.5},\"pattern\":{\"fillmode\":\"overlay\",\"size\":10,\"solidity\":0.2}},\"type\":\"bar\"}],\"carpet\":[{\"aaxis\":{\"endlinecolor\":\"rgb(36,36,36)\",\"gridcolor\":\"white\",\"linecolor\":\"white\",\"minorgridcolor\":\"white\",\"startlinecolor\":\"rgb(36,36,36)\"},\"baxis\":{\"endlinecolor\":\"rgb(36,36,36)\",\"gridcolor\":\"white\",\"linecolor\":\"white\",\"minorgridcolor\":\"white\",\"startlinecolor\":\"rgb(36,36,36)\"},\"type\":\"carpet\"}],\"choropleth\":[{\"colorbar\":{\"outlinewidth\":1,\"tickcolor\":\"rgb(36,36,36)\",\"ticks\":\"outside\"},\"type\":\"choropleth\"}],\"contourcarpet\":[{\"colorbar\":{\"outlinewidth\":1,\"tickcolor\":\"rgb(36,36,36)\",\"ticks\":\"outside\"},\"type\":\"contourcarpet\"}],\"contour\":[{\"colorbar\":{\"outlinewidth\":1,\"tickcolor\":\"rgb(36,36,36)\",\"ticks\":\"outside\"},\"colorscale\":[[0.0,\"#440154\"],[0.1111111111111111,\"#482878\"],[0.2222222222222222,\"#3e4989\"],[0.3333333333333333,\"#31688e\"],[0.4444444444444444,\"#26828e\"],[0.5555555555555556,\"#1f9e89\"],[0.6666666666666666,\"#35b779\"],[0.7777777777777778,\"#6ece58\"],[0.8888888888888888,\"#b5de2b\"],[1.0,\"#fde725\"]],\"type\":\"contour\"}],\"heatmapgl\":[{\"colorbar\":{\"outlinewidth\":1,\"tickcolor\":\"rgb(36,36,36)\",\"ticks\":\"outside\"},\"colorscale\":[[0.0,\"#440154\"],[0.1111111111111111,\"#482878\"],[0.2222222222222222,\"#3e4989\"],[0.3333333333333333,\"#31688e\"],[0.4444444444444444,\"#26828e\"],[0.5555555555555556,\"#1f9e89\"],[0.6666666666666666,\"#35b779\"],[0.7777777777777778,\"#6ece58\"],[0.8888888888888888,\"#b5de2b\"],[1.0,\"#fde725\"]],\"type\":\"heatmapgl\"}],\"heatmap\":[{\"colorbar\":{\"outlinewidth\":1,\"tickcolor\":\"rgb(36,36,36)\",\"ticks\":\"outside\"},\"colorscale\":[[0.0,\"#440154\"],[0.1111111111111111,\"#482878\"],[0.2222222222222222,\"#3e4989\"],[0.3333333333333333,\"#31688e\"],[0.4444444444444444,\"#26828e\"],[0.5555555555555556,\"#1f9e89\"],[0.6666666666666666,\"#35b779\"],[0.7777777777777778,\"#6ece58\"],[0.8888888888888888,\"#b5de2b\"],[1.0,\"#fde725\"]],\"type\":\"heatmap\"}],\"histogram2dcontour\":[{\"colorbar\":{\"outlinewidth\":1,\"tickcolor\":\"rgb(36,36,36)\",\"ticks\":\"outside\"},\"colorscale\":[[0.0,\"#440154\"],[0.1111111111111111,\"#482878\"],[0.2222222222222222,\"#3e4989\"],[0.3333333333333333,\"#31688e\"],[0.4444444444444444,\"#26828e\"],[0.5555555555555556,\"#1f9e89\"],[0.6666666666666666,\"#35b779\"],[0.7777777777777778,\"#6ece58\"],[0.8888888888888888,\"#b5de2b\"],[1.0,\"#fde725\"]],\"type\":\"histogram2dcontour\"}],\"histogram2d\":[{\"colorbar\":{\"outlinewidth\":1,\"tickcolor\":\"rgb(36,36,36)\",\"ticks\":\"outside\"},\"colorscale\":[[0.0,\"#440154\"],[0.1111111111111111,\"#482878\"],[0.2222222222222222,\"#3e4989\"],[0.3333333333333333,\"#31688e\"],[0.4444444444444444,\"#26828e\"],[0.5555555555555556,\"#1f9e89\"],[0.6666666666666666,\"#35b779\"],[0.7777777777777778,\"#6ece58\"],[0.8888888888888888,\"#b5de2b\"],[1.0,\"#fde725\"]],\"type\":\"histogram2d\"}],\"histogram\":[{\"marker\":{\"line\":{\"color\":\"white\",\"width\":0.6}},\"type\":\"histogram\"}],\"mesh3d\":[{\"colorbar\":{\"outlinewidth\":1,\"tickcolor\":\"rgb(36,36,36)\",\"ticks\":\"outside\"},\"type\":\"mesh3d\"}],\"parcoords\":[{\"line\":{\"colorbar\":{\"outlinewidth\":1,\"tickcolor\":\"rgb(36,36,36)\",\"ticks\":\"outside\"}},\"type\":\"parcoords\"}],\"pie\":[{\"automargin\":true,\"type\":\"pie\"}],\"scatter3d\":[{\"line\":{\"colorbar\":{\"outlinewidth\":1,\"tickcolor\":\"rgb(36,36,36)\",\"ticks\":\"outside\"}},\"marker\":{\"colorbar\":{\"outlinewidth\":1,\"tickcolor\":\"rgb(36,36,36)\",\"ticks\":\"outside\"}},\"type\":\"scatter3d\"}],\"scattercarpet\":[{\"marker\":{\"colorbar\":{\"outlinewidth\":1,\"tickcolor\":\"rgb(36,36,36)\",\"ticks\":\"outside\"}},\"type\":\"scattercarpet\"}],\"scattergeo\":[{\"marker\":{\"colorbar\":{\"outlinewidth\":1,\"tickcolor\":\"rgb(36,36,36)\",\"ticks\":\"outside\"}},\"type\":\"scattergeo\"}],\"scattergl\":[{\"marker\":{\"colorbar\":{\"outlinewidth\":1,\"tickcolor\":\"rgb(36,36,36)\",\"ticks\":\"outside\"}},\"type\":\"scattergl\"}],\"scattermapbox\":[{\"marker\":{\"colorbar\":{\"outlinewidth\":1,\"tickcolor\":\"rgb(36,36,36)\",\"ticks\":\"outside\"}},\"type\":\"scattermapbox\"}],\"scatterpolargl\":[{\"marker\":{\"colorbar\":{\"outlinewidth\":1,\"tickcolor\":\"rgb(36,36,36)\",\"ticks\":\"outside\"}},\"type\":\"scatterpolargl\"}],\"scatterpolar\":[{\"marker\":{\"colorbar\":{\"outlinewidth\":1,\"tickcolor\":\"rgb(36,36,36)\",\"ticks\":\"outside\"}},\"type\":\"scatterpolar\"}],\"scatter\":[{\"marker\":{\"colorbar\":{\"outlinewidth\":1,\"tickcolor\":\"rgb(36,36,36)\",\"ticks\":\"outside\"}},\"type\":\"scatter\"}],\"scatterternary\":[{\"marker\":{\"colorbar\":{\"outlinewidth\":1,\"tickcolor\":\"rgb(36,36,36)\",\"ticks\":\"outside\"}},\"type\":\"scatterternary\"}],\"surface\":[{\"colorbar\":{\"outlinewidth\":1,\"tickcolor\":\"rgb(36,36,36)\",\"ticks\":\"outside\"},\"colorscale\":[[0.0,\"#440154\"],[0.1111111111111111,\"#482878\"],[0.2222222222222222,\"#3e4989\"],[0.3333333333333333,\"#31688e\"],[0.4444444444444444,\"#26828e\"],[0.5555555555555556,\"#1f9e89\"],[0.6666666666666666,\"#35b779\"],[0.7777777777777778,\"#6ece58\"],[0.8888888888888888,\"#b5de2b\"],[1.0,\"#fde725\"]],\"type\":\"surface\"}],\"table\":[{\"cells\":{\"fill\":{\"color\":\"rgb(237,237,237)\"},\"line\":{\"color\":\"white\"}},\"header\":{\"fill\":{\"color\":\"rgb(217,217,217)\"},\"line\":{\"color\":\"white\"}},\"type\":\"table\"}]},\"layout\":{\"annotationdefaults\":{\"arrowhead\":0,\"arrowwidth\":1},\"autotypenumbers\":\"strict\",\"coloraxis\":{\"colorbar\":{\"outlinewidth\":1,\"tickcolor\":\"rgb(36,36,36)\",\"ticks\":\"outside\"}},\"colorscale\":{\"diverging\":[[0.0,\"rgb(103,0,31)\"],[0.1,\"rgb(178,24,43)\"],[0.2,\"rgb(214,96,77)\"],[0.3,\"rgb(244,165,130)\"],[0.4,\"rgb(253,219,199)\"],[0.5,\"rgb(247,247,247)\"],[0.6,\"rgb(209,229,240)\"],[0.7,\"rgb(146,197,222)\"],[0.8,\"rgb(67,147,195)\"],[0.9,\"rgb(33,102,172)\"],[1.0,\"rgb(5,48,97)\"]],\"sequential\":[[0.0,\"#440154\"],[0.1111111111111111,\"#482878\"],[0.2222222222222222,\"#3e4989\"],[0.3333333333333333,\"#31688e\"],[0.4444444444444444,\"#26828e\"],[0.5555555555555556,\"#1f9e89\"],[0.6666666666666666,\"#35b779\"],[0.7777777777777778,\"#6ece58\"],[0.8888888888888888,\"#b5de2b\"],[1.0,\"#fde725\"]],\"sequentialminus\":[[0.0,\"#440154\"],[0.1111111111111111,\"#482878\"],[0.2222222222222222,\"#3e4989\"],[0.3333333333333333,\"#31688e\"],[0.4444444444444444,\"#26828e\"],[0.5555555555555556,\"#1f9e89\"],[0.6666666666666666,\"#35b779\"],[0.7777777777777778,\"#6ece58\"],[0.8888888888888888,\"#b5de2b\"],[1.0,\"#fde725\"]]},\"colorway\":[\"#1F77B4\",\"#FF7F0E\",\"#2CA02C\",\"#D62728\",\"#9467BD\",\"#8C564B\",\"#E377C2\",\"#7F7F7F\",\"#BCBD22\",\"#17BECF\"],\"font\":{\"color\":\"rgb(36,36,36)\"},\"geo\":{\"bgcolor\":\"white\",\"lakecolor\":\"white\",\"landcolor\":\"white\",\"showlakes\":true,\"showland\":true,\"subunitcolor\":\"white\"},\"hoverlabel\":{\"align\":\"left\"},\"hovermode\":\"closest\",\"mapbox\":{\"style\":\"light\"},\"paper_bgcolor\":\"white\",\"plot_bgcolor\":\"white\",\"polar\":{\"angularaxis\":{\"gridcolor\":\"rgb(232,232,232)\",\"linecolor\":\"rgb(36,36,36)\",\"showgrid\":false,\"showline\":true,\"ticks\":\"outside\"},\"bgcolor\":\"white\",\"radialaxis\":{\"gridcolor\":\"rgb(232,232,232)\",\"linecolor\":\"rgb(36,36,36)\",\"showgrid\":false,\"showline\":true,\"ticks\":\"outside\"}},\"scene\":{\"xaxis\":{\"backgroundcolor\":\"white\",\"gridcolor\":\"rgb(232,232,232)\",\"gridwidth\":2,\"linecolor\":\"rgb(36,36,36)\",\"showbackground\":true,\"showgrid\":false,\"showline\":true,\"ticks\":\"outside\",\"zeroline\":false,\"zerolinecolor\":\"rgb(36,36,36)\"},\"yaxis\":{\"backgroundcolor\":\"white\",\"gridcolor\":\"rgb(232,232,232)\",\"gridwidth\":2,\"linecolor\":\"rgb(36,36,36)\",\"showbackground\":true,\"showgrid\":false,\"showline\":true,\"ticks\":\"outside\",\"zeroline\":false,\"zerolinecolor\":\"rgb(36,36,36)\"},\"zaxis\":{\"backgroundcolor\":\"white\",\"gridcolor\":\"rgb(232,232,232)\",\"gridwidth\":2,\"linecolor\":\"rgb(36,36,36)\",\"showbackground\":true,\"showgrid\":false,\"showline\":true,\"ticks\":\"outside\",\"zeroline\":false,\"zerolinecolor\":\"rgb(36,36,36)\"}},\"shapedefaults\":{\"fillcolor\":\"black\",\"line\":{\"width\":0},\"opacity\":0.3},\"ternary\":{\"aaxis\":{\"gridcolor\":\"rgb(232,232,232)\",\"linecolor\":\"rgb(36,36,36)\",\"showgrid\":false,\"showline\":true,\"ticks\":\"outside\"},\"baxis\":{\"gridcolor\":\"rgb(232,232,232)\",\"linecolor\":\"rgb(36,36,36)\",\"showgrid\":false,\"showline\":true,\"ticks\":\"outside\"},\"bgcolor\":\"white\",\"caxis\":{\"gridcolor\":\"rgb(232,232,232)\",\"linecolor\":\"rgb(36,36,36)\",\"showgrid\":false,\"showline\":true,\"ticks\":\"outside\"}},\"title\":{\"x\":0.05},\"xaxis\":{\"automargin\":true,\"gridcolor\":\"rgb(232,232,232)\",\"linecolor\":\"rgb(36,36,36)\",\"showgrid\":false,\"showline\":true,\"ticks\":\"outside\",\"title\":{\"standoff\":15},\"zeroline\":false,\"zerolinecolor\":\"rgb(36,36,36)\"},\"yaxis\":{\"automargin\":true,\"gridcolor\":\"rgb(232,232,232)\",\"linecolor\":\"rgb(36,36,36)\",\"showgrid\":false,\"showline\":true,\"ticks\":\"outside\",\"title\":{\"standoff\":15},\"zeroline\":false,\"zerolinecolor\":\"rgb(36,36,36)\"},\"margin\":{\"b\":0,\"l\":20,\"r\":20,\"t\":40}}},\"xaxis\":{\"anchor\":\"y\",\"domain\":[0.0,0.45]},\"yaxis\":{\"anchor\":\"x\",\"domain\":[0.0,1.0]},\"xaxis2\":{\"anchor\":\"y2\",\"domain\":[0.55,1.0]},\"yaxis2\":{\"anchor\":\"x2\",\"domain\":[0.0,1.0]},\"annotations\":[{\"font\":{\"size\":16},\"showarrow\":false,\"text\":\"$\\\\text{Simulated Data: }y=x^4-2x^3-0.5x^2+1$\",\"x\":0.225,\"xanchor\":\"center\",\"xref\":\"paper\",\"y\":1.0,\"yanchor\":\"bottom\",\"yref\":\"paper\"},{\"font\":{\"size\":16},\"showarrow\":false,\"text\":\"$\\\\text{Positions Salary}$\",\"x\":0.775,\"xanchor\":\"center\",\"xref\":\"paper\",\"y\":1.0,\"yanchor\":\"bottom\",\"yref\":\"paper\"}],\"margin\":{\"t\":100},\"title\":{\"text\":\"$\\\\text{(1) Datasets For Polynomial Fitting}$\"}},                        {\"responsive\": true}                    ).then(function(){\n                            \nvar gd = document.getElementById('4a4a5957-613a-412e-8387-6440dbd34b01');\nvar x = new MutationObserver(function (mutations, observer) {{\n        var display = window.getComputedStyle(gd).display;\n        if (!display || display === 'none') {{\n            console.log([gd, 'removed!']);\n            Plotly.purge(gd);\n            observer.disconnect();\n        }}\n}});\n\n// Listen for the removal of the full notebook cells\nvar notebookContainer = gd.closest('#notebook-container');\nif (notebookContainer) {{\n    x.observe(notebookContainer, {childList: true});\n}}\n\n// Listen for the clearing of the current output cell\nvar outputEl = gd.closest('.output');\nif (outputEl) {{\n    x.observe(outputEl, {childList: true});\n}}\n\n                        })                };                });            </script>        </div>"
     },
     "metadata": {},
     "output_type": "display_data"
    }
   ],
   "source": [
    "response = lambda x: x**4 - 2*x**3 - .5*x**2 + 1\n",
    "\n",
    "x = np.linspace(-1.2, 2, 40)[0::2]\n",
    "y_ = response(x)\n",
    "\n",
    "df = pd.read_csv(\"../datasets/Position_Salaries.csv\", skiprows=2, index_col=0)\n",
    "x2, y2 = df.index, df.Salary\n",
    "\n",
    "make_subplots(1, 2, subplot_titles=(r\"$\\text{Simulated Data: }y=x^4-2x^3-0.5x^2+1$\", r\"$\\text{Positions Salary}$\"))\\\n",
    "    .add_traces([go.Scatter(x=x, y=y_, mode=\"markers\", marker=dict(color=\"black\", opacity=.7), showlegend=False),\n",
    "                 go.Scatter(x=x2, y=y2, mode=\"markers\",marker=dict(color=\"black\", opacity=.7), showlegend=False)], \n",
    "                rows=[1,1], cols=[1,2])\\\n",
    "    .update_layout(title=r\"$\\text{(1) Datasets For Polynomial Fitting}$\", margin=dict(t=100)).show()\n",
    "\n"
   ]
  },
  {
   "cell_type": "markdown",
   "metadata": {
    "pycharm": {
     "name": "#%% md\n"
    }
   },
   "source": [
    "As we have discussed in class, solving a polynomial fitting problem can be done by first manipulating the input data,\n",
    "such that we represent each sample $x_i\\in\\mathbb{R}$ as a vector $\\mathbf{x}_i=\\left(x^0,x^1,\\ldots,x^k\\right)$. Then,\n",
    "we treat the data as a design matrix $\\mathbf{X}\\in\\mathbb{R}^{m\\times k}$ of a linear regression problem.\n",
    "\n",
    "For the simulated dataset above, which is of a polynomial of degree 4, the design matrix looks as follows: \n"
   ]
  },
  {
   "cell_type": "code",
   "execution_count": 21,
   "metadata": {
    "pycharm": {
     "name": "#%%\n"
    }
   },
   "outputs": [
    {
     "data": {
      "text/plain": "       $x^0$     $x^1$     $x^2$     $x^3$     $x^4$\n$x_1$    1.0 -1.200000  1.440000 -1.728000  2.073600\n$x_2$    1.0 -1.035897  1.073083 -1.111604  1.151508\n$x_3$    1.0 -0.871795  0.760026 -0.662587  0.577640\n$x_4$    1.0 -0.707692  0.500828 -0.354432  0.250829\n$x_5$    1.0 -0.543590  0.295490 -0.160625  0.087314",
      "text/html": "<div>\n<style scoped>\n    .dataframe tbody tr th:only-of-type {\n        vertical-align: middle;\n    }\n\n    .dataframe tbody tr th {\n        vertical-align: top;\n    }\n\n    .dataframe thead th {\n        text-align: right;\n    }\n</style>\n<table border=\"1\" class=\"dataframe\">\n  <thead>\n    <tr style=\"text-align: right;\">\n      <th></th>\n      <th>$x^0$</th>\n      <th>$x^1$</th>\n      <th>$x^2$</th>\n      <th>$x^3$</th>\n      <th>$x^4$</th>\n    </tr>\n  </thead>\n  <tbody>\n    <tr>\n      <th>$x_1$</th>\n      <td>1.0</td>\n      <td>-1.200000</td>\n      <td>1.440000</td>\n      <td>-1.728000</td>\n      <td>2.073600</td>\n    </tr>\n    <tr>\n      <th>$x_2$</th>\n      <td>1.0</td>\n      <td>-1.035897</td>\n      <td>1.073083</td>\n      <td>-1.111604</td>\n      <td>1.151508</td>\n    </tr>\n    <tr>\n      <th>$x_3$</th>\n      <td>1.0</td>\n      <td>-0.871795</td>\n      <td>0.760026</td>\n      <td>-0.662587</td>\n      <td>0.577640</td>\n    </tr>\n    <tr>\n      <th>$x_4$</th>\n      <td>1.0</td>\n      <td>-0.707692</td>\n      <td>0.500828</td>\n      <td>-0.354432</td>\n      <td>0.250829</td>\n    </tr>\n    <tr>\n      <th>$x_5$</th>\n      <td>1.0</td>\n      <td>-0.543590</td>\n      <td>0.295490</td>\n      <td>-0.160625</td>\n      <td>0.087314</td>\n    </tr>\n  </tbody>\n</table>\n</div>"
     },
     "execution_count": 21,
     "metadata": {},
     "output_type": "execute_result"
    }
   ],
   "source": [
    "from sklearn.preprocessing import PolynomialFeatures\n",
    "m, k, X = 5, 4, x.reshape(-1, 1)\n",
    "pd.DataFrame(PolynomialFeatures(k).fit_transform(X[:m]), \n",
    "             columns=[rf\"$x^{{0}}$\".format(i) for i in range(0, k+1)],\n",
    "             index=[rf\"$x_{{0}}$\".format(i) for i in range(1, m+1)])"
   ]
  },
  {
   "cell_type": "markdown",
   "metadata": {
    "pycharm": {
     "name": "#%% md\n"
    }
   },
   "source": [
    "## Fitting A Polynomial Of Different Degrees\n",
    "\n",
    "Next, let us fit polynomials of different degrees and different noise properties to study how it influences the learned model.\n",
    "We begin with the noise-less case where we fit for different values of $k$. As we increase $k$ we manage to fit a model\n",
    "that describes the data in a better way, reflected by the decrease in the MSE.\n",
    "\n",
    "*Notice that in both the `PolynomialFeatures` and `LinearRegression` functions we can add the bias/intercept parameter. As in this case it makes no difference, we will include the bias in the polynomial features transformation and fit a linear regression **without** an intercept. The bias parameter of the polynomial features (i.e. $x^0$) will in reality be the intercept of the linear regression.*"
   ]
  },
  {
   "cell_type": "code",
   "execution_count": 22,
   "metadata": {
    "pycharm": {
     "name": "#%%\n"
    }
   },
   "outputs": [
    {
     "data": {
      "application/vnd.plotly.v1+json": {
       "data": [
        {
         "marker": {
          "color": "black",
          "opacity": 0.7
         },
         "mode": "markers",
         "name": "Real Points",
         "showlegend": false,
         "x": [
          -1.2,
          -1.0358974358974358,
          -0.8717948717948718,
          -0.7076923076923076,
          -0.5435897435897435,
          -0.37948717948717947,
          -0.21538461538461529,
          -0.05128205128205132,
          0.11282051282051286,
          0.27692307692307705,
          0.441025641025641,
          0.6051282051282052,
          0.7692307692307694,
          0.9333333333333333,
          1.0974358974358973,
          1.2615384615384617,
          1.4256410256410257,
          1.5897435897435896,
          1.753846153846154,
          1.917948717948718
         ],
         "y": [
          5.8096,
          3.8381753317244733,
          2.522800884051074,
          1.7092797030916282,
          1.2608197821340592,
          1.058034061642376,
          0.9989404292566787,
          0.9989617197931566,
          0.9909257152440888,
          0.9250651447778439,
          0.7690176847388803,
          0.5078259586477458,
          0.14393753720107805,
          -0.3027950617283952,
          -0.7951143730918573,
          -1.278357984664403,
          -1.6804585370450331,
          -1.911943723656666,
          -1.8659362907461214,
          -1.418154037384138
         ],
         "type": "scatter",
         "xaxis": "x",
         "yaxis": "y"
        },
        {
         "marker": {
          "color": "blue",
          "opacity": 0.7
         },
         "mode": "markers",
         "name": "Predicted Points",
         "showlegend": false,
         "x": [
          -1.2,
          -1.0358974358974358,
          -0.8717948717948718,
          -0.7076923076923076,
          -0.5435897435897435,
          -0.37948717948717947,
          -0.21538461538461529,
          -0.05128205128205132,
          0.11282051282051286,
          0.27692307692307705,
          0.441025641025641,
          0.6051282051282052,
          0.7692307692307694,
          0.9333333333333333,
          1.0974358974358973,
          1.2615384615384617,
          1.4256410256410257,
          1.5897435897435896,
          1.753846153846154,
          1.917948717948718
         ],
         "y": [
          4.121178320220213,
          3.6219091504794303,
          3.1443226121336756,
          2.6884187051829462,
          2.2541974296272453,
          1.8416587854665716,
          1.4508027727009243,
          1.0816293913303048,
          0.7341386413547119,
          0.40833052277414594,
          0.10420503558860762,
          -0.17823782020190398,
          -0.4389980445973886,
          -0.6780756375978456,
          -0.8954705992032758,
          -1.0911829294136792,
          -1.2652126282290554,
          -1.4175596956494037,
          -1.5482241316747258,
          -1.6572059363050213
         ],
         "type": "scatter",
         "xaxis": "x",
         "yaxis": "y"
        },
        {
         "marker": {
          "color": "black",
          "opacity": 0.7
         },
         "mode": "markers",
         "name": "Real Points",
         "showlegend": false,
         "x": [
          -1.2,
          -1.0358974358974358,
          -0.8717948717948718,
          -0.7076923076923076,
          -0.5435897435897435,
          -0.37948717948717947,
          -0.21538461538461529,
          -0.05128205128205132,
          0.11282051282051286,
          0.27692307692307705,
          0.441025641025641,
          0.6051282051282052,
          0.7692307692307694,
          0.9333333333333333,
          1.0974358974358973,
          1.2615384615384617,
          1.4256410256410257,
          1.5897435897435896,
          1.753846153846154,
          1.917948717948718
         ],
         "y": [
          5.8096,
          3.8381753317244733,
          2.522800884051074,
          1.7092797030916282,
          1.2608197821340592,
          1.058034061642376,
          0.9989404292566787,
          0.9989617197931566,
          0.9909257152440888,
          0.9250651447778439,
          0.7690176847388803,
          0.5078259586477458,
          0.14393753720107805,
          -0.3027950617283952,
          -0.7951143730918573,
          -1.278357984664403,
          -1.6804585370450331,
          -1.911943723656666,
          -1.8659362907461214,
          -1.418154037384138
         ],
         "type": "scatter",
         "xaxis": "x2",
         "yaxis": "y2"
        },
        {
         "marker": {
          "color": "blue",
          "opacity": 0.7
         },
         "mode": "markers",
         "name": "Predicted Points",
         "showlegend": false,
         "x": [
          -1.2,
          -1.0358974358974358,
          -0.8717948717948718,
          -0.7076923076923076,
          -0.5435897435897435,
          -0.37948717948717947,
          -0.21538461538461529,
          -0.05128205128205132,
          0.11282051282051286,
          0.27692307692307705,
          0.441025641025641,
          0.6051282051282052,
          0.7692307692307694,
          0.9333333333333333,
          1.0974358974358973,
          1.2615384615384617,
          1.4256410256410257,
          1.5897435897435896,
          1.753846153846154,
          1.917948717948718
         ],
         "y": [
          4.845863210649663,
          3.8888983206376486,
          3.0807537620960046,
          2.4064721585452764,
          1.8510961335060143,
          1.399668310498765,
          1.037231313044077,
          0.7488277646624982,
          0.5195002888745762,
          0.33429150920085926,
          0.17824404916189568,
          0.03640053227823292,
          -0.10619641792958073,
          -0.2645041779409974,
          -0.4534801242354689,
          -0.6880816332924482,
          -0.9832660815913852,
          -1.3539908456117344,
          -1.815213301832947,
          -2.381890826734473
         ],
         "type": "scatter",
         "xaxis": "x2",
         "yaxis": "y2"
        },
        {
         "marker": {
          "color": "black",
          "opacity": 0.7
         },
         "mode": "markers",
         "name": "Real Points",
         "showlegend": false,
         "x": [
          -1.2,
          -1.0358974358974358,
          -0.8717948717948718,
          -0.7076923076923076,
          -0.5435897435897435,
          -0.37948717948717947,
          -0.21538461538461529,
          -0.05128205128205132,
          0.11282051282051286,
          0.27692307692307705,
          0.441025641025641,
          0.6051282051282052,
          0.7692307692307694,
          0.9333333333333333,
          1.0974358974358973,
          1.2615384615384617,
          1.4256410256410257,
          1.5897435897435896,
          1.753846153846154,
          1.917948717948718
         ],
         "y": [
          5.8096,
          3.8381753317244733,
          2.522800884051074,
          1.7092797030916282,
          1.2608197821340592,
          1.058034061642376,
          0.9989404292566787,
          0.9989617197931566,
          0.9909257152440888,
          0.9250651447778439,
          0.7690176847388803,
          0.5078259586477458,
          0.14393753720107805,
          -0.3027950617283952,
          -0.7951143730918573,
          -1.278357984664403,
          -1.6804585370450331,
          -1.911943723656666,
          -1.8659362907461214,
          -1.418154037384138
         ],
         "type": "scatter",
         "xaxis": "x3",
         "yaxis": "y3"
        },
        {
         "marker": {
          "color": "blue",
          "opacity": 0.7
         },
         "mode": "markers",
         "name": "Predicted Points",
         "showlegend": false,
         "x": [
          -1.2,
          -1.0358974358974358,
          -0.8717948717948718,
          -0.7076923076923076,
          -0.5435897435897435,
          -0.37948717948717947,
          -0.21538461538461529,
          -0.05128205128205132,
          0.11282051282051286,
          0.27692307692307705,
          0.441025641025641,
          0.6051282051282052,
          0.7692307692307694,
          0.9333333333333333,
          1.0974358974358973,
          1.2615384615384617,
          1.4256410256410257,
          1.5897435897435896,
          1.753846153846154,
          1.917948717948718
         ],
         "y": [
          5.8096,
          3.8381753317244733,
          2.522800884051074,
          1.7092797030916287,
          1.26081978213406,
          1.0580340616423773,
          0.9989404292566801,
          0.9989617197931581,
          0.9909257152440903,
          0.9250651447778453,
          0.7690176847388817,
          0.5078259586477468,
          0.1439375372010787,
          -0.30279506172839477,
          -0.7951143730918568,
          -1.2783579846644035,
          -1.680458537045034,
          -1.911943723656666,
          -1.8659362907461219,
          -1.418154037384138
         ],
         "type": "scatter",
         "xaxis": "x3",
         "yaxis": "y3"
        },
        {
         "marker": {
          "color": "black",
          "opacity": 0.7
         },
         "mode": "markers",
         "name": "Real Points",
         "showlegend": false,
         "x": [
          -1.2,
          -1.0358974358974358,
          -0.8717948717948718,
          -0.7076923076923076,
          -0.5435897435897435,
          -0.37948717948717947,
          -0.21538461538461529,
          -0.05128205128205132,
          0.11282051282051286,
          0.27692307692307705,
          0.441025641025641,
          0.6051282051282052,
          0.7692307692307694,
          0.9333333333333333,
          1.0974358974358973,
          1.2615384615384617,
          1.4256410256410257,
          1.5897435897435896,
          1.753846153846154,
          1.917948717948718
         ],
         "y": [
          5.8096,
          3.8381753317244733,
          2.522800884051074,
          1.7092797030916282,
          1.2608197821340592,
          1.058034061642376,
          0.9989404292566787,
          0.9989617197931566,
          0.9909257152440888,
          0.9250651447778439,
          0.7690176847388803,
          0.5078259586477458,
          0.14393753720107805,
          -0.3027950617283952,
          -0.7951143730918573,
          -1.278357984664403,
          -1.6804585370450331,
          -1.911943723656666,
          -1.8659362907461214,
          -1.418154037384138
         ],
         "type": "scatter",
         "xaxis": "x4",
         "yaxis": "y4"
        },
        {
         "marker": {
          "color": "blue",
          "opacity": 0.7
         },
         "mode": "markers",
         "name": "Predicted Points",
         "showlegend": false,
         "x": [
          -1.2,
          -1.0358974358974358,
          -0.8717948717948718,
          -0.7076923076923076,
          -0.5435897435897435,
          -0.37948717948717947,
          -0.21538461538461529,
          -0.05128205128205132,
          0.11282051282051286,
          0.27692307692307705,
          0.441025641025641,
          0.6051282051282052,
          0.7692307692307694,
          0.9333333333333333,
          1.0974358974358973,
          1.2615384615384617,
          1.4256410256410257,
          1.5897435897435896,
          1.753846153846154,
          1.917948717948718
         ],
         "y": [
          5.809599999999991,
          3.8381753317244676,
          2.5228008840510707,
          1.7092797030916267,
          1.260819782134059,
          1.0580340616423767,
          0.9989404292566804,
          0.9989617197931585,
          0.990925715244091,
          0.9250651447778461,
          0.7690176847388823,
          0.5078259586477474,
          0.14393753720107916,
          -0.30279506172839477,
          -0.7951143730918577,
          -1.278357984664404,
          -1.680458537045035,
          -1.9119437236566688,
          -1.8659362907461237,
          -1.418154037384138
         ],
         "type": "scatter",
         "xaxis": "x4",
         "yaxis": "y4"
        }
       ],
       "layout": {
        "template": {
         "data": {
          "barpolar": [
           {
            "marker": {
             "line": {
              "color": "white",
              "width": 0.5
             },
             "pattern": {
              "fillmode": "overlay",
              "size": 10,
              "solidity": 0.2
             }
            },
            "type": "barpolar"
           }
          ],
          "bar": [
           {
            "error_x": {
             "color": "rgb(36,36,36)"
            },
            "error_y": {
             "color": "rgb(36,36,36)"
            },
            "marker": {
             "line": {
              "color": "white",
              "width": 0.5
             },
             "pattern": {
              "fillmode": "overlay",
              "size": 10,
              "solidity": 0.2
             }
            },
            "type": "bar"
           }
          ],
          "carpet": [
           {
            "aaxis": {
             "endlinecolor": "rgb(36,36,36)",
             "gridcolor": "white",
             "linecolor": "white",
             "minorgridcolor": "white",
             "startlinecolor": "rgb(36,36,36)"
            },
            "baxis": {
             "endlinecolor": "rgb(36,36,36)",
             "gridcolor": "white",
             "linecolor": "white",
             "minorgridcolor": "white",
             "startlinecolor": "rgb(36,36,36)"
            },
            "type": "carpet"
           }
          ],
          "choropleth": [
           {
            "colorbar": {
             "outlinewidth": 1,
             "tickcolor": "rgb(36,36,36)",
             "ticks": "outside"
            },
            "type": "choropleth"
           }
          ],
          "contourcarpet": [
           {
            "colorbar": {
             "outlinewidth": 1,
             "tickcolor": "rgb(36,36,36)",
             "ticks": "outside"
            },
            "type": "contourcarpet"
           }
          ],
          "contour": [
           {
            "colorbar": {
             "outlinewidth": 1,
             "tickcolor": "rgb(36,36,36)",
             "ticks": "outside"
            },
            "colorscale": [
             [
              0.0,
              "#440154"
             ],
             [
              0.1111111111111111,
              "#482878"
             ],
             [
              0.2222222222222222,
              "#3e4989"
             ],
             [
              0.3333333333333333,
              "#31688e"
             ],
             [
              0.4444444444444444,
              "#26828e"
             ],
             [
              0.5555555555555556,
              "#1f9e89"
             ],
             [
              0.6666666666666666,
              "#35b779"
             ],
             [
              0.7777777777777778,
              "#6ece58"
             ],
             [
              0.8888888888888888,
              "#b5de2b"
             ],
             [
              1.0,
              "#fde725"
             ]
            ],
            "type": "contour"
           }
          ],
          "heatmapgl": [
           {
            "colorbar": {
             "outlinewidth": 1,
             "tickcolor": "rgb(36,36,36)",
             "ticks": "outside"
            },
            "colorscale": [
             [
              0.0,
              "#440154"
             ],
             [
              0.1111111111111111,
              "#482878"
             ],
             [
              0.2222222222222222,
              "#3e4989"
             ],
             [
              0.3333333333333333,
              "#31688e"
             ],
             [
              0.4444444444444444,
              "#26828e"
             ],
             [
              0.5555555555555556,
              "#1f9e89"
             ],
             [
              0.6666666666666666,
              "#35b779"
             ],
             [
              0.7777777777777778,
              "#6ece58"
             ],
             [
              0.8888888888888888,
              "#b5de2b"
             ],
             [
              1.0,
              "#fde725"
             ]
            ],
            "type": "heatmapgl"
           }
          ],
          "heatmap": [
           {
            "colorbar": {
             "outlinewidth": 1,
             "tickcolor": "rgb(36,36,36)",
             "ticks": "outside"
            },
            "colorscale": [
             [
              0.0,
              "#440154"
             ],
             [
              0.1111111111111111,
              "#482878"
             ],
             [
              0.2222222222222222,
              "#3e4989"
             ],
             [
              0.3333333333333333,
              "#31688e"
             ],
             [
              0.4444444444444444,
              "#26828e"
             ],
             [
              0.5555555555555556,
              "#1f9e89"
             ],
             [
              0.6666666666666666,
              "#35b779"
             ],
             [
              0.7777777777777778,
              "#6ece58"
             ],
             [
              0.8888888888888888,
              "#b5de2b"
             ],
             [
              1.0,
              "#fde725"
             ]
            ],
            "type": "heatmap"
           }
          ],
          "histogram2dcontour": [
           {
            "colorbar": {
             "outlinewidth": 1,
             "tickcolor": "rgb(36,36,36)",
             "ticks": "outside"
            },
            "colorscale": [
             [
              0.0,
              "#440154"
             ],
             [
              0.1111111111111111,
              "#482878"
             ],
             [
              0.2222222222222222,
              "#3e4989"
             ],
             [
              0.3333333333333333,
              "#31688e"
             ],
             [
              0.4444444444444444,
              "#26828e"
             ],
             [
              0.5555555555555556,
              "#1f9e89"
             ],
             [
              0.6666666666666666,
              "#35b779"
             ],
             [
              0.7777777777777778,
              "#6ece58"
             ],
             [
              0.8888888888888888,
              "#b5de2b"
             ],
             [
              1.0,
              "#fde725"
             ]
            ],
            "type": "histogram2dcontour"
           }
          ],
          "histogram2d": [
           {
            "colorbar": {
             "outlinewidth": 1,
             "tickcolor": "rgb(36,36,36)",
             "ticks": "outside"
            },
            "colorscale": [
             [
              0.0,
              "#440154"
             ],
             [
              0.1111111111111111,
              "#482878"
             ],
             [
              0.2222222222222222,
              "#3e4989"
             ],
             [
              0.3333333333333333,
              "#31688e"
             ],
             [
              0.4444444444444444,
              "#26828e"
             ],
             [
              0.5555555555555556,
              "#1f9e89"
             ],
             [
              0.6666666666666666,
              "#35b779"
             ],
             [
              0.7777777777777778,
              "#6ece58"
             ],
             [
              0.8888888888888888,
              "#b5de2b"
             ],
             [
              1.0,
              "#fde725"
             ]
            ],
            "type": "histogram2d"
           }
          ],
          "histogram": [
           {
            "marker": {
             "line": {
              "color": "white",
              "width": 0.6
             }
            },
            "type": "histogram"
           }
          ],
          "mesh3d": [
           {
            "colorbar": {
             "outlinewidth": 1,
             "tickcolor": "rgb(36,36,36)",
             "ticks": "outside"
            },
            "type": "mesh3d"
           }
          ],
          "parcoords": [
           {
            "line": {
             "colorbar": {
              "outlinewidth": 1,
              "tickcolor": "rgb(36,36,36)",
              "ticks": "outside"
             }
            },
            "type": "parcoords"
           }
          ],
          "pie": [
           {
            "automargin": true,
            "type": "pie"
           }
          ],
          "scatter3d": [
           {
            "line": {
             "colorbar": {
              "outlinewidth": 1,
              "tickcolor": "rgb(36,36,36)",
              "ticks": "outside"
             }
            },
            "marker": {
             "colorbar": {
              "outlinewidth": 1,
              "tickcolor": "rgb(36,36,36)",
              "ticks": "outside"
             }
            },
            "type": "scatter3d"
           }
          ],
          "scattercarpet": [
           {
            "marker": {
             "colorbar": {
              "outlinewidth": 1,
              "tickcolor": "rgb(36,36,36)",
              "ticks": "outside"
             }
            },
            "type": "scattercarpet"
           }
          ],
          "scattergeo": [
           {
            "marker": {
             "colorbar": {
              "outlinewidth": 1,
              "tickcolor": "rgb(36,36,36)",
              "ticks": "outside"
             }
            },
            "type": "scattergeo"
           }
          ],
          "scattergl": [
           {
            "marker": {
             "colorbar": {
              "outlinewidth": 1,
              "tickcolor": "rgb(36,36,36)",
              "ticks": "outside"
             }
            },
            "type": "scattergl"
           }
          ],
          "scattermapbox": [
           {
            "marker": {
             "colorbar": {
              "outlinewidth": 1,
              "tickcolor": "rgb(36,36,36)",
              "ticks": "outside"
             }
            },
            "type": "scattermapbox"
           }
          ],
          "scatterpolargl": [
           {
            "marker": {
             "colorbar": {
              "outlinewidth": 1,
              "tickcolor": "rgb(36,36,36)",
              "ticks": "outside"
             }
            },
            "type": "scatterpolargl"
           }
          ],
          "scatterpolar": [
           {
            "marker": {
             "colorbar": {
              "outlinewidth": 1,
              "tickcolor": "rgb(36,36,36)",
              "ticks": "outside"
             }
            },
            "type": "scatterpolar"
           }
          ],
          "scatter": [
           {
            "marker": {
             "colorbar": {
              "outlinewidth": 1,
              "tickcolor": "rgb(36,36,36)",
              "ticks": "outside"
             }
            },
            "type": "scatter"
           }
          ],
          "scatterternary": [
           {
            "marker": {
             "colorbar": {
              "outlinewidth": 1,
              "tickcolor": "rgb(36,36,36)",
              "ticks": "outside"
             }
            },
            "type": "scatterternary"
           }
          ],
          "surface": [
           {
            "colorbar": {
             "outlinewidth": 1,
             "tickcolor": "rgb(36,36,36)",
             "ticks": "outside"
            },
            "colorscale": [
             [
              0.0,
              "#440154"
             ],
             [
              0.1111111111111111,
              "#482878"
             ],
             [
              0.2222222222222222,
              "#3e4989"
             ],
             [
              0.3333333333333333,
              "#31688e"
             ],
             [
              0.4444444444444444,
              "#26828e"
             ],
             [
              0.5555555555555556,
              "#1f9e89"
             ],
             [
              0.6666666666666666,
              "#35b779"
             ],
             [
              0.7777777777777778,
              "#6ece58"
             ],
             [
              0.8888888888888888,
              "#b5de2b"
             ],
             [
              1.0,
              "#fde725"
             ]
            ],
            "type": "surface"
           }
          ],
          "table": [
           {
            "cells": {
             "fill": {
              "color": "rgb(237,237,237)"
             },
             "line": {
              "color": "white"
             }
            },
            "header": {
             "fill": {
              "color": "rgb(217,217,217)"
             },
             "line": {
              "color": "white"
             }
            },
            "type": "table"
           }
          ]
         },
         "layout": {
          "annotationdefaults": {
           "arrowhead": 0,
           "arrowwidth": 1
          },
          "autotypenumbers": "strict",
          "coloraxis": {
           "colorbar": {
            "outlinewidth": 1,
            "tickcolor": "rgb(36,36,36)",
            "ticks": "outside"
           }
          },
          "colorscale": {
           "diverging": [
            [
             0.0,
             "rgb(103,0,31)"
            ],
            [
             0.1,
             "rgb(178,24,43)"
            ],
            [
             0.2,
             "rgb(214,96,77)"
            ],
            [
             0.3,
             "rgb(244,165,130)"
            ],
            [
             0.4,
             "rgb(253,219,199)"
            ],
            [
             0.5,
             "rgb(247,247,247)"
            ],
            [
             0.6,
             "rgb(209,229,240)"
            ],
            [
             0.7,
             "rgb(146,197,222)"
            ],
            [
             0.8,
             "rgb(67,147,195)"
            ],
            [
             0.9,
             "rgb(33,102,172)"
            ],
            [
             1.0,
             "rgb(5,48,97)"
            ]
           ],
           "sequential": [
            [
             0.0,
             "#440154"
            ],
            [
             0.1111111111111111,
             "#482878"
            ],
            [
             0.2222222222222222,
             "#3e4989"
            ],
            [
             0.3333333333333333,
             "#31688e"
            ],
            [
             0.4444444444444444,
             "#26828e"
            ],
            [
             0.5555555555555556,
             "#1f9e89"
            ],
            [
             0.6666666666666666,
             "#35b779"
            ],
            [
             0.7777777777777778,
             "#6ece58"
            ],
            [
             0.8888888888888888,
             "#b5de2b"
            ],
            [
             1.0,
             "#fde725"
            ]
           ],
           "sequentialminus": [
            [
             0.0,
             "#440154"
            ],
            [
             0.1111111111111111,
             "#482878"
            ],
            [
             0.2222222222222222,
             "#3e4989"
            ],
            [
             0.3333333333333333,
             "#31688e"
            ],
            [
             0.4444444444444444,
             "#26828e"
            ],
            [
             0.5555555555555556,
             "#1f9e89"
            ],
            [
             0.6666666666666666,
             "#35b779"
            ],
            [
             0.7777777777777778,
             "#6ece58"
            ],
            [
             0.8888888888888888,
             "#b5de2b"
            ],
            [
             1.0,
             "#fde725"
            ]
           ]
          },
          "colorway": [
           "#1F77B4",
           "#FF7F0E",
           "#2CA02C",
           "#D62728",
           "#9467BD",
           "#8C564B",
           "#E377C2",
           "#7F7F7F",
           "#BCBD22",
           "#17BECF"
          ],
          "font": {
           "color": "rgb(36,36,36)"
          },
          "geo": {
           "bgcolor": "white",
           "lakecolor": "white",
           "landcolor": "white",
           "showlakes": true,
           "showland": true,
           "subunitcolor": "white"
          },
          "hoverlabel": {
           "align": "left"
          },
          "hovermode": "closest",
          "mapbox": {
           "style": "light"
          },
          "paper_bgcolor": "white",
          "plot_bgcolor": "white",
          "polar": {
           "angularaxis": {
            "gridcolor": "rgb(232,232,232)",
            "linecolor": "rgb(36,36,36)",
            "showgrid": false,
            "showline": true,
            "ticks": "outside"
           },
           "bgcolor": "white",
           "radialaxis": {
            "gridcolor": "rgb(232,232,232)",
            "linecolor": "rgb(36,36,36)",
            "showgrid": false,
            "showline": true,
            "ticks": "outside"
           }
          },
          "scene": {
           "xaxis": {
            "backgroundcolor": "white",
            "gridcolor": "rgb(232,232,232)",
            "gridwidth": 2,
            "linecolor": "rgb(36,36,36)",
            "showbackground": true,
            "showgrid": false,
            "showline": true,
            "ticks": "outside",
            "zeroline": false,
            "zerolinecolor": "rgb(36,36,36)"
           },
           "yaxis": {
            "backgroundcolor": "white",
            "gridcolor": "rgb(232,232,232)",
            "gridwidth": 2,
            "linecolor": "rgb(36,36,36)",
            "showbackground": true,
            "showgrid": false,
            "showline": true,
            "ticks": "outside",
            "zeroline": false,
            "zerolinecolor": "rgb(36,36,36)"
           },
           "zaxis": {
            "backgroundcolor": "white",
            "gridcolor": "rgb(232,232,232)",
            "gridwidth": 2,
            "linecolor": "rgb(36,36,36)",
            "showbackground": true,
            "showgrid": false,
            "showline": true,
            "ticks": "outside",
            "zeroline": false,
            "zerolinecolor": "rgb(36,36,36)"
           }
          },
          "shapedefaults": {
           "fillcolor": "black",
           "line": {
            "width": 0
           },
           "opacity": 0.3
          },
          "ternary": {
           "aaxis": {
            "gridcolor": "rgb(232,232,232)",
            "linecolor": "rgb(36,36,36)",
            "showgrid": false,
            "showline": true,
            "ticks": "outside"
           },
           "baxis": {
            "gridcolor": "rgb(232,232,232)",
            "linecolor": "rgb(36,36,36)",
            "showgrid": false,
            "showline": true,
            "ticks": "outside"
           },
           "bgcolor": "white",
           "caxis": {
            "gridcolor": "rgb(232,232,232)",
            "linecolor": "rgb(36,36,36)",
            "showgrid": false,
            "showline": true,
            "ticks": "outside"
           }
          },
          "title": {
           "x": 0.05
          },
          "xaxis": {
           "automargin": true,
           "gridcolor": "rgb(232,232,232)",
           "linecolor": "rgb(36,36,36)",
           "showgrid": false,
           "showline": true,
           "ticks": "outside",
           "title": {
            "standoff": 15
           },
           "zeroline": false,
           "zerolinecolor": "rgb(36,36,36)"
          },
          "yaxis": {
           "automargin": true,
           "gridcolor": "rgb(232,232,232)",
           "linecolor": "rgb(36,36,36)",
           "showgrid": false,
           "showline": true,
           "ticks": "outside",
           "title": {
            "standoff": 15
           },
           "zeroline": false,
           "zerolinecolor": "rgb(36,36,36)"
          },
          "margin": {
           "b": 0,
           "l": 20,
           "r": 20,
           "t": 40
          }
         }
        },
        "xaxis": {
         "anchor": "y",
         "domain": [
          0.0,
          0.2125
         ]
        },
        "yaxis": {
         "anchor": "x",
         "domain": [
          0.0,
          1.0
         ],
         "title": {
          "text": "$\\widehat{y}$"
         }
        },
        "xaxis2": {
         "anchor": "y2",
         "domain": [
          0.2625,
          0.475
         ]
        },
        "yaxis2": {
         "anchor": "x2",
         "domain": [
          0.0,
          1.0
         ]
        },
        "xaxis3": {
         "anchor": "y3",
         "domain": [
          0.525,
          0.7375
         ]
        },
        "yaxis3": {
         "anchor": "x3",
         "domain": [
          0.0,
          1.0
         ]
        },
        "xaxis4": {
         "anchor": "y4",
         "domain": [
          0.7875,
          1.0
         ]
        },
        "yaxis4": {
         "anchor": "x4",
         "domain": [
          0.0,
          1.0
         ]
        },
        "annotations": [
         {
          "font": {
           "size": 16
          },
          "showarrow": false,
          "text": "$k=2, MSE=0.42$",
          "x": 0.10625,
          "xanchor": "center",
          "xref": "paper",
          "y": 1.0,
          "yanchor": "bottom",
          "yref": "paper"
         },
         {
          "font": {
           "size": 16
          },
          "showarrow": false,
          "text": "$k=3, MSE=0.28$",
          "x": 0.36875,
          "xanchor": "center",
          "xref": "paper",
          "y": 1.0,
          "yanchor": "bottom",
          "yref": "paper"
         },
         {
          "font": {
           "size": 16
          },
          "showarrow": false,
          "text": "$k=4, MSE=0.0$",
          "x": 0.6312500000000001,
          "xanchor": "center",
          "xref": "paper",
          "y": 1.0,
          "yanchor": "bottom",
          "yref": "paper"
         },
         {
          "font": {
           "size": 16
          },
          "showarrow": false,
          "text": "$k=5, MSE=0.0$",
          "x": 0.89375,
          "xanchor": "center",
          "xref": "paper",
          "y": 1.0,
          "yanchor": "bottom",
          "yref": "paper"
         }
        ],
        "margin": {
         "t": 60
        },
        "title": {
         "text": "$\\text{(2) Simulated Data - Fitting Polynomials of Different Degrees}$"
        },
        "height": 300
       },
       "config": {
        "plotlyServerURL": "https://plot.ly"
       }
      },
      "text/html": "<div>                            <div id=\"28139c09-0df4-45c2-8ad3-8615b9e3e2b3\" class=\"plotly-graph-div\" style=\"height:300px; width:100%;\"></div>            <script type=\"text/javascript\">                require([\"plotly\"], function(Plotly) {                    window.PLOTLYENV=window.PLOTLYENV || {};                                    if (document.getElementById(\"28139c09-0df4-45c2-8ad3-8615b9e3e2b3\")) {                    Plotly.newPlot(                        \"28139c09-0df4-45c2-8ad3-8615b9e3e2b3\",                        [{\"marker\":{\"color\":\"black\",\"opacity\":0.7},\"mode\":\"markers\",\"name\":\"Real Points\",\"showlegend\":false,\"x\":[-1.2,-1.0358974358974358,-0.8717948717948718,-0.7076923076923076,-0.5435897435897435,-0.37948717948717947,-0.21538461538461529,-0.05128205128205132,0.11282051282051286,0.27692307692307705,0.441025641025641,0.6051282051282052,0.7692307692307694,0.9333333333333333,1.0974358974358973,1.2615384615384617,1.4256410256410257,1.5897435897435896,1.753846153846154,1.917948717948718],\"y\":[5.8096,3.8381753317244733,2.522800884051074,1.7092797030916282,1.2608197821340592,1.058034061642376,0.9989404292566787,0.9989617197931566,0.9909257152440888,0.9250651447778439,0.7690176847388803,0.5078259586477458,0.14393753720107805,-0.3027950617283952,-0.7951143730918573,-1.278357984664403,-1.6804585370450331,-1.911943723656666,-1.8659362907461214,-1.418154037384138],\"type\":\"scatter\",\"xaxis\":\"x\",\"yaxis\":\"y\"},{\"marker\":{\"color\":\"blue\",\"opacity\":0.7},\"mode\":\"markers\",\"name\":\"Predicted Points\",\"showlegend\":false,\"x\":[-1.2,-1.0358974358974358,-0.8717948717948718,-0.7076923076923076,-0.5435897435897435,-0.37948717948717947,-0.21538461538461529,-0.05128205128205132,0.11282051282051286,0.27692307692307705,0.441025641025641,0.6051282051282052,0.7692307692307694,0.9333333333333333,1.0974358974358973,1.2615384615384617,1.4256410256410257,1.5897435897435896,1.753846153846154,1.917948717948718],\"y\":[4.121178320220213,3.6219091504794303,3.1443226121336756,2.6884187051829462,2.2541974296272453,1.8416587854665716,1.4508027727009243,1.0816293913303048,0.7341386413547119,0.40833052277414594,0.10420503558860762,-0.17823782020190398,-0.4389980445973886,-0.6780756375978456,-0.8954705992032758,-1.0911829294136792,-1.2652126282290554,-1.4175596956494037,-1.5482241316747258,-1.6572059363050213],\"type\":\"scatter\",\"xaxis\":\"x\",\"yaxis\":\"y\"},{\"marker\":{\"color\":\"black\",\"opacity\":0.7},\"mode\":\"markers\",\"name\":\"Real Points\",\"showlegend\":false,\"x\":[-1.2,-1.0358974358974358,-0.8717948717948718,-0.7076923076923076,-0.5435897435897435,-0.37948717948717947,-0.21538461538461529,-0.05128205128205132,0.11282051282051286,0.27692307692307705,0.441025641025641,0.6051282051282052,0.7692307692307694,0.9333333333333333,1.0974358974358973,1.2615384615384617,1.4256410256410257,1.5897435897435896,1.753846153846154,1.917948717948718],\"y\":[5.8096,3.8381753317244733,2.522800884051074,1.7092797030916282,1.2608197821340592,1.058034061642376,0.9989404292566787,0.9989617197931566,0.9909257152440888,0.9250651447778439,0.7690176847388803,0.5078259586477458,0.14393753720107805,-0.3027950617283952,-0.7951143730918573,-1.278357984664403,-1.6804585370450331,-1.911943723656666,-1.8659362907461214,-1.418154037384138],\"type\":\"scatter\",\"xaxis\":\"x2\",\"yaxis\":\"y2\"},{\"marker\":{\"color\":\"blue\",\"opacity\":0.7},\"mode\":\"markers\",\"name\":\"Predicted Points\",\"showlegend\":false,\"x\":[-1.2,-1.0358974358974358,-0.8717948717948718,-0.7076923076923076,-0.5435897435897435,-0.37948717948717947,-0.21538461538461529,-0.05128205128205132,0.11282051282051286,0.27692307692307705,0.441025641025641,0.6051282051282052,0.7692307692307694,0.9333333333333333,1.0974358974358973,1.2615384615384617,1.4256410256410257,1.5897435897435896,1.753846153846154,1.917948717948718],\"y\":[4.845863210649663,3.8888983206376486,3.0807537620960046,2.4064721585452764,1.8510961335060143,1.399668310498765,1.037231313044077,0.7488277646624982,0.5195002888745762,0.33429150920085926,0.17824404916189568,0.03640053227823292,-0.10619641792958073,-0.2645041779409974,-0.4534801242354689,-0.6880816332924482,-0.9832660815913852,-1.3539908456117344,-1.815213301832947,-2.381890826734473],\"type\":\"scatter\",\"xaxis\":\"x2\",\"yaxis\":\"y2\"},{\"marker\":{\"color\":\"black\",\"opacity\":0.7},\"mode\":\"markers\",\"name\":\"Real Points\",\"showlegend\":false,\"x\":[-1.2,-1.0358974358974358,-0.8717948717948718,-0.7076923076923076,-0.5435897435897435,-0.37948717948717947,-0.21538461538461529,-0.05128205128205132,0.11282051282051286,0.27692307692307705,0.441025641025641,0.6051282051282052,0.7692307692307694,0.9333333333333333,1.0974358974358973,1.2615384615384617,1.4256410256410257,1.5897435897435896,1.753846153846154,1.917948717948718],\"y\":[5.8096,3.8381753317244733,2.522800884051074,1.7092797030916282,1.2608197821340592,1.058034061642376,0.9989404292566787,0.9989617197931566,0.9909257152440888,0.9250651447778439,0.7690176847388803,0.5078259586477458,0.14393753720107805,-0.3027950617283952,-0.7951143730918573,-1.278357984664403,-1.6804585370450331,-1.911943723656666,-1.8659362907461214,-1.418154037384138],\"type\":\"scatter\",\"xaxis\":\"x3\",\"yaxis\":\"y3\"},{\"marker\":{\"color\":\"blue\",\"opacity\":0.7},\"mode\":\"markers\",\"name\":\"Predicted Points\",\"showlegend\":false,\"x\":[-1.2,-1.0358974358974358,-0.8717948717948718,-0.7076923076923076,-0.5435897435897435,-0.37948717948717947,-0.21538461538461529,-0.05128205128205132,0.11282051282051286,0.27692307692307705,0.441025641025641,0.6051282051282052,0.7692307692307694,0.9333333333333333,1.0974358974358973,1.2615384615384617,1.4256410256410257,1.5897435897435896,1.753846153846154,1.917948717948718],\"y\":[5.8096,3.8381753317244733,2.522800884051074,1.7092797030916287,1.26081978213406,1.0580340616423773,0.9989404292566801,0.9989617197931581,0.9909257152440903,0.9250651447778453,0.7690176847388817,0.5078259586477468,0.1439375372010787,-0.30279506172839477,-0.7951143730918568,-1.2783579846644035,-1.680458537045034,-1.911943723656666,-1.8659362907461219,-1.418154037384138],\"type\":\"scatter\",\"xaxis\":\"x3\",\"yaxis\":\"y3\"},{\"marker\":{\"color\":\"black\",\"opacity\":0.7},\"mode\":\"markers\",\"name\":\"Real Points\",\"showlegend\":false,\"x\":[-1.2,-1.0358974358974358,-0.8717948717948718,-0.7076923076923076,-0.5435897435897435,-0.37948717948717947,-0.21538461538461529,-0.05128205128205132,0.11282051282051286,0.27692307692307705,0.441025641025641,0.6051282051282052,0.7692307692307694,0.9333333333333333,1.0974358974358973,1.2615384615384617,1.4256410256410257,1.5897435897435896,1.753846153846154,1.917948717948718],\"y\":[5.8096,3.8381753317244733,2.522800884051074,1.7092797030916282,1.2608197821340592,1.058034061642376,0.9989404292566787,0.9989617197931566,0.9909257152440888,0.9250651447778439,0.7690176847388803,0.5078259586477458,0.14393753720107805,-0.3027950617283952,-0.7951143730918573,-1.278357984664403,-1.6804585370450331,-1.911943723656666,-1.8659362907461214,-1.418154037384138],\"type\":\"scatter\",\"xaxis\":\"x4\",\"yaxis\":\"y4\"},{\"marker\":{\"color\":\"blue\",\"opacity\":0.7},\"mode\":\"markers\",\"name\":\"Predicted Points\",\"showlegend\":false,\"x\":[-1.2,-1.0358974358974358,-0.8717948717948718,-0.7076923076923076,-0.5435897435897435,-0.37948717948717947,-0.21538461538461529,-0.05128205128205132,0.11282051282051286,0.27692307692307705,0.441025641025641,0.6051282051282052,0.7692307692307694,0.9333333333333333,1.0974358974358973,1.2615384615384617,1.4256410256410257,1.5897435897435896,1.753846153846154,1.917948717948718],\"y\":[5.809599999999991,3.8381753317244676,2.5228008840510707,1.7092797030916267,1.260819782134059,1.0580340616423767,0.9989404292566804,0.9989617197931585,0.990925715244091,0.9250651447778461,0.7690176847388823,0.5078259586477474,0.14393753720107916,-0.30279506172839477,-0.7951143730918577,-1.278357984664404,-1.680458537045035,-1.9119437236566688,-1.8659362907461237,-1.418154037384138],\"type\":\"scatter\",\"xaxis\":\"x4\",\"yaxis\":\"y4\"}],                        {\"template\":{\"data\":{\"barpolar\":[{\"marker\":{\"line\":{\"color\":\"white\",\"width\":0.5},\"pattern\":{\"fillmode\":\"overlay\",\"size\":10,\"solidity\":0.2}},\"type\":\"barpolar\"}],\"bar\":[{\"error_x\":{\"color\":\"rgb(36,36,36)\"},\"error_y\":{\"color\":\"rgb(36,36,36)\"},\"marker\":{\"line\":{\"color\":\"white\",\"width\":0.5},\"pattern\":{\"fillmode\":\"overlay\",\"size\":10,\"solidity\":0.2}},\"type\":\"bar\"}],\"carpet\":[{\"aaxis\":{\"endlinecolor\":\"rgb(36,36,36)\",\"gridcolor\":\"white\",\"linecolor\":\"white\",\"minorgridcolor\":\"white\",\"startlinecolor\":\"rgb(36,36,36)\"},\"baxis\":{\"endlinecolor\":\"rgb(36,36,36)\",\"gridcolor\":\"white\",\"linecolor\":\"white\",\"minorgridcolor\":\"white\",\"startlinecolor\":\"rgb(36,36,36)\"},\"type\":\"carpet\"}],\"choropleth\":[{\"colorbar\":{\"outlinewidth\":1,\"tickcolor\":\"rgb(36,36,36)\",\"ticks\":\"outside\"},\"type\":\"choropleth\"}],\"contourcarpet\":[{\"colorbar\":{\"outlinewidth\":1,\"tickcolor\":\"rgb(36,36,36)\",\"ticks\":\"outside\"},\"type\":\"contourcarpet\"}],\"contour\":[{\"colorbar\":{\"outlinewidth\":1,\"tickcolor\":\"rgb(36,36,36)\",\"ticks\":\"outside\"},\"colorscale\":[[0.0,\"#440154\"],[0.1111111111111111,\"#482878\"],[0.2222222222222222,\"#3e4989\"],[0.3333333333333333,\"#31688e\"],[0.4444444444444444,\"#26828e\"],[0.5555555555555556,\"#1f9e89\"],[0.6666666666666666,\"#35b779\"],[0.7777777777777778,\"#6ece58\"],[0.8888888888888888,\"#b5de2b\"],[1.0,\"#fde725\"]],\"type\":\"contour\"}],\"heatmapgl\":[{\"colorbar\":{\"outlinewidth\":1,\"tickcolor\":\"rgb(36,36,36)\",\"ticks\":\"outside\"},\"colorscale\":[[0.0,\"#440154\"],[0.1111111111111111,\"#482878\"],[0.2222222222222222,\"#3e4989\"],[0.3333333333333333,\"#31688e\"],[0.4444444444444444,\"#26828e\"],[0.5555555555555556,\"#1f9e89\"],[0.6666666666666666,\"#35b779\"],[0.7777777777777778,\"#6ece58\"],[0.8888888888888888,\"#b5de2b\"],[1.0,\"#fde725\"]],\"type\":\"heatmapgl\"}],\"heatmap\":[{\"colorbar\":{\"outlinewidth\":1,\"tickcolor\":\"rgb(36,36,36)\",\"ticks\":\"outside\"},\"colorscale\":[[0.0,\"#440154\"],[0.1111111111111111,\"#482878\"],[0.2222222222222222,\"#3e4989\"],[0.3333333333333333,\"#31688e\"],[0.4444444444444444,\"#26828e\"],[0.5555555555555556,\"#1f9e89\"],[0.6666666666666666,\"#35b779\"],[0.7777777777777778,\"#6ece58\"],[0.8888888888888888,\"#b5de2b\"],[1.0,\"#fde725\"]],\"type\":\"heatmap\"}],\"histogram2dcontour\":[{\"colorbar\":{\"outlinewidth\":1,\"tickcolor\":\"rgb(36,36,36)\",\"ticks\":\"outside\"},\"colorscale\":[[0.0,\"#440154\"],[0.1111111111111111,\"#482878\"],[0.2222222222222222,\"#3e4989\"],[0.3333333333333333,\"#31688e\"],[0.4444444444444444,\"#26828e\"],[0.5555555555555556,\"#1f9e89\"],[0.6666666666666666,\"#35b779\"],[0.7777777777777778,\"#6ece58\"],[0.8888888888888888,\"#b5de2b\"],[1.0,\"#fde725\"]],\"type\":\"histogram2dcontour\"}],\"histogram2d\":[{\"colorbar\":{\"outlinewidth\":1,\"tickcolor\":\"rgb(36,36,36)\",\"ticks\":\"outside\"},\"colorscale\":[[0.0,\"#440154\"],[0.1111111111111111,\"#482878\"],[0.2222222222222222,\"#3e4989\"],[0.3333333333333333,\"#31688e\"],[0.4444444444444444,\"#26828e\"],[0.5555555555555556,\"#1f9e89\"],[0.6666666666666666,\"#35b779\"],[0.7777777777777778,\"#6ece58\"],[0.8888888888888888,\"#b5de2b\"],[1.0,\"#fde725\"]],\"type\":\"histogram2d\"}],\"histogram\":[{\"marker\":{\"line\":{\"color\":\"white\",\"width\":0.6}},\"type\":\"histogram\"}],\"mesh3d\":[{\"colorbar\":{\"outlinewidth\":1,\"tickcolor\":\"rgb(36,36,36)\",\"ticks\":\"outside\"},\"type\":\"mesh3d\"}],\"parcoords\":[{\"line\":{\"colorbar\":{\"outlinewidth\":1,\"tickcolor\":\"rgb(36,36,36)\",\"ticks\":\"outside\"}},\"type\":\"parcoords\"}],\"pie\":[{\"automargin\":true,\"type\":\"pie\"}],\"scatter3d\":[{\"line\":{\"colorbar\":{\"outlinewidth\":1,\"tickcolor\":\"rgb(36,36,36)\",\"ticks\":\"outside\"}},\"marker\":{\"colorbar\":{\"outlinewidth\":1,\"tickcolor\":\"rgb(36,36,36)\",\"ticks\":\"outside\"}},\"type\":\"scatter3d\"}],\"scattercarpet\":[{\"marker\":{\"colorbar\":{\"outlinewidth\":1,\"tickcolor\":\"rgb(36,36,36)\",\"ticks\":\"outside\"}},\"type\":\"scattercarpet\"}],\"scattergeo\":[{\"marker\":{\"colorbar\":{\"outlinewidth\":1,\"tickcolor\":\"rgb(36,36,36)\",\"ticks\":\"outside\"}},\"type\":\"scattergeo\"}],\"scattergl\":[{\"marker\":{\"colorbar\":{\"outlinewidth\":1,\"tickcolor\":\"rgb(36,36,36)\",\"ticks\":\"outside\"}},\"type\":\"scattergl\"}],\"scattermapbox\":[{\"marker\":{\"colorbar\":{\"outlinewidth\":1,\"tickcolor\":\"rgb(36,36,36)\",\"ticks\":\"outside\"}},\"type\":\"scattermapbox\"}],\"scatterpolargl\":[{\"marker\":{\"colorbar\":{\"outlinewidth\":1,\"tickcolor\":\"rgb(36,36,36)\",\"ticks\":\"outside\"}},\"type\":\"scatterpolargl\"}],\"scatterpolar\":[{\"marker\":{\"colorbar\":{\"outlinewidth\":1,\"tickcolor\":\"rgb(36,36,36)\",\"ticks\":\"outside\"}},\"type\":\"scatterpolar\"}],\"scatter\":[{\"marker\":{\"colorbar\":{\"outlinewidth\":1,\"tickcolor\":\"rgb(36,36,36)\",\"ticks\":\"outside\"}},\"type\":\"scatter\"}],\"scatterternary\":[{\"marker\":{\"colorbar\":{\"outlinewidth\":1,\"tickcolor\":\"rgb(36,36,36)\",\"ticks\":\"outside\"}},\"type\":\"scatterternary\"}],\"surface\":[{\"colorbar\":{\"outlinewidth\":1,\"tickcolor\":\"rgb(36,36,36)\",\"ticks\":\"outside\"},\"colorscale\":[[0.0,\"#440154\"],[0.1111111111111111,\"#482878\"],[0.2222222222222222,\"#3e4989\"],[0.3333333333333333,\"#31688e\"],[0.4444444444444444,\"#26828e\"],[0.5555555555555556,\"#1f9e89\"],[0.6666666666666666,\"#35b779\"],[0.7777777777777778,\"#6ece58\"],[0.8888888888888888,\"#b5de2b\"],[1.0,\"#fde725\"]],\"type\":\"surface\"}],\"table\":[{\"cells\":{\"fill\":{\"color\":\"rgb(237,237,237)\"},\"line\":{\"color\":\"white\"}},\"header\":{\"fill\":{\"color\":\"rgb(217,217,217)\"},\"line\":{\"color\":\"white\"}},\"type\":\"table\"}]},\"layout\":{\"annotationdefaults\":{\"arrowhead\":0,\"arrowwidth\":1},\"autotypenumbers\":\"strict\",\"coloraxis\":{\"colorbar\":{\"outlinewidth\":1,\"tickcolor\":\"rgb(36,36,36)\",\"ticks\":\"outside\"}},\"colorscale\":{\"diverging\":[[0.0,\"rgb(103,0,31)\"],[0.1,\"rgb(178,24,43)\"],[0.2,\"rgb(214,96,77)\"],[0.3,\"rgb(244,165,130)\"],[0.4,\"rgb(253,219,199)\"],[0.5,\"rgb(247,247,247)\"],[0.6,\"rgb(209,229,240)\"],[0.7,\"rgb(146,197,222)\"],[0.8,\"rgb(67,147,195)\"],[0.9,\"rgb(33,102,172)\"],[1.0,\"rgb(5,48,97)\"]],\"sequential\":[[0.0,\"#440154\"],[0.1111111111111111,\"#482878\"],[0.2222222222222222,\"#3e4989\"],[0.3333333333333333,\"#31688e\"],[0.4444444444444444,\"#26828e\"],[0.5555555555555556,\"#1f9e89\"],[0.6666666666666666,\"#35b779\"],[0.7777777777777778,\"#6ece58\"],[0.8888888888888888,\"#b5de2b\"],[1.0,\"#fde725\"]],\"sequentialminus\":[[0.0,\"#440154\"],[0.1111111111111111,\"#482878\"],[0.2222222222222222,\"#3e4989\"],[0.3333333333333333,\"#31688e\"],[0.4444444444444444,\"#26828e\"],[0.5555555555555556,\"#1f9e89\"],[0.6666666666666666,\"#35b779\"],[0.7777777777777778,\"#6ece58\"],[0.8888888888888888,\"#b5de2b\"],[1.0,\"#fde725\"]]},\"colorway\":[\"#1F77B4\",\"#FF7F0E\",\"#2CA02C\",\"#D62728\",\"#9467BD\",\"#8C564B\",\"#E377C2\",\"#7F7F7F\",\"#BCBD22\",\"#17BECF\"],\"font\":{\"color\":\"rgb(36,36,36)\"},\"geo\":{\"bgcolor\":\"white\",\"lakecolor\":\"white\",\"landcolor\":\"white\",\"showlakes\":true,\"showland\":true,\"subunitcolor\":\"white\"},\"hoverlabel\":{\"align\":\"left\"},\"hovermode\":\"closest\",\"mapbox\":{\"style\":\"light\"},\"paper_bgcolor\":\"white\",\"plot_bgcolor\":\"white\",\"polar\":{\"angularaxis\":{\"gridcolor\":\"rgb(232,232,232)\",\"linecolor\":\"rgb(36,36,36)\",\"showgrid\":false,\"showline\":true,\"ticks\":\"outside\"},\"bgcolor\":\"white\",\"radialaxis\":{\"gridcolor\":\"rgb(232,232,232)\",\"linecolor\":\"rgb(36,36,36)\",\"showgrid\":false,\"showline\":true,\"ticks\":\"outside\"}},\"scene\":{\"xaxis\":{\"backgroundcolor\":\"white\",\"gridcolor\":\"rgb(232,232,232)\",\"gridwidth\":2,\"linecolor\":\"rgb(36,36,36)\",\"showbackground\":true,\"showgrid\":false,\"showline\":true,\"ticks\":\"outside\",\"zeroline\":false,\"zerolinecolor\":\"rgb(36,36,36)\"},\"yaxis\":{\"backgroundcolor\":\"white\",\"gridcolor\":\"rgb(232,232,232)\",\"gridwidth\":2,\"linecolor\":\"rgb(36,36,36)\",\"showbackground\":true,\"showgrid\":false,\"showline\":true,\"ticks\":\"outside\",\"zeroline\":false,\"zerolinecolor\":\"rgb(36,36,36)\"},\"zaxis\":{\"backgroundcolor\":\"white\",\"gridcolor\":\"rgb(232,232,232)\",\"gridwidth\":2,\"linecolor\":\"rgb(36,36,36)\",\"showbackground\":true,\"showgrid\":false,\"showline\":true,\"ticks\":\"outside\",\"zeroline\":false,\"zerolinecolor\":\"rgb(36,36,36)\"}},\"shapedefaults\":{\"fillcolor\":\"black\",\"line\":{\"width\":0},\"opacity\":0.3},\"ternary\":{\"aaxis\":{\"gridcolor\":\"rgb(232,232,232)\",\"linecolor\":\"rgb(36,36,36)\",\"showgrid\":false,\"showline\":true,\"ticks\":\"outside\"},\"baxis\":{\"gridcolor\":\"rgb(232,232,232)\",\"linecolor\":\"rgb(36,36,36)\",\"showgrid\":false,\"showline\":true,\"ticks\":\"outside\"},\"bgcolor\":\"white\",\"caxis\":{\"gridcolor\":\"rgb(232,232,232)\",\"linecolor\":\"rgb(36,36,36)\",\"showgrid\":false,\"showline\":true,\"ticks\":\"outside\"}},\"title\":{\"x\":0.05},\"xaxis\":{\"automargin\":true,\"gridcolor\":\"rgb(232,232,232)\",\"linecolor\":\"rgb(36,36,36)\",\"showgrid\":false,\"showline\":true,\"ticks\":\"outside\",\"title\":{\"standoff\":15},\"zeroline\":false,\"zerolinecolor\":\"rgb(36,36,36)\"},\"yaxis\":{\"automargin\":true,\"gridcolor\":\"rgb(232,232,232)\",\"linecolor\":\"rgb(36,36,36)\",\"showgrid\":false,\"showline\":true,\"ticks\":\"outside\",\"title\":{\"standoff\":15},\"zeroline\":false,\"zerolinecolor\":\"rgb(36,36,36)\"},\"margin\":{\"b\":0,\"l\":20,\"r\":20,\"t\":40}}},\"xaxis\":{\"anchor\":\"y\",\"domain\":[0.0,0.2125]},\"yaxis\":{\"anchor\":\"x\",\"domain\":[0.0,1.0],\"title\":{\"text\":\"$\\\\widehat{y}$\"}},\"xaxis2\":{\"anchor\":\"y2\",\"domain\":[0.2625,0.475]},\"yaxis2\":{\"anchor\":\"x2\",\"domain\":[0.0,1.0]},\"xaxis3\":{\"anchor\":\"y3\",\"domain\":[0.525,0.7375]},\"yaxis3\":{\"anchor\":\"x3\",\"domain\":[0.0,1.0]},\"xaxis4\":{\"anchor\":\"y4\",\"domain\":[0.7875,1.0]},\"yaxis4\":{\"anchor\":\"x4\",\"domain\":[0.0,1.0]},\"annotations\":[{\"font\":{\"size\":16},\"showarrow\":false,\"text\":\"$k=2, MSE=0.42$\",\"x\":0.10625,\"xanchor\":\"center\",\"xref\":\"paper\",\"y\":1.0,\"yanchor\":\"bottom\",\"yref\":\"paper\"},{\"font\":{\"size\":16},\"showarrow\":false,\"text\":\"$k=3, MSE=0.28$\",\"x\":0.36875,\"xanchor\":\"center\",\"xref\":\"paper\",\"y\":1.0,\"yanchor\":\"bottom\",\"yref\":\"paper\"},{\"font\":{\"size\":16},\"showarrow\":false,\"text\":\"$k=4, MSE=0.0$\",\"x\":0.6312500000000001,\"xanchor\":\"center\",\"xref\":\"paper\",\"y\":1.0,\"yanchor\":\"bottom\",\"yref\":\"paper\"},{\"font\":{\"size\":16},\"showarrow\":false,\"text\":\"$k=5, MSE=0.0$\",\"x\":0.89375,\"xanchor\":\"center\",\"xref\":\"paper\",\"y\":1.0,\"yanchor\":\"bottom\",\"yref\":\"paper\"}],\"margin\":{\"t\":60},\"title\":{\"text\":\"$\\\\text{(2) Simulated Data - Fitting Polynomials of Different Degrees}$\"},\"height\":300},                        {\"responsive\": true}                    ).then(function(){\n                            \nvar gd = document.getElementById('28139c09-0df4-45c2-8ad3-8615b9e3e2b3');\nvar x = new MutationObserver(function (mutations, observer) {{\n        var display = window.getComputedStyle(gd).display;\n        if (!display || display === 'none') {{\n            console.log([gd, 'removed!']);\n            Plotly.purge(gd);\n            observer.disconnect();\n        }}\n}});\n\n// Listen for the removal of the full notebook cells\nvar notebookContainer = gd.closest('#notebook-container');\nif (notebookContainer) {{\n    x.observe(notebookContainer, {childList: true});\n}}\n\n// Listen for the clearing of the current output cell\nvar outputEl = gd.closest('.output');\nif (outputEl) {{\n    x.observe(outputEl, {childList: true});\n}}\n\n                        })                };                });            </script>        </div>"
     },
     "metadata": {},
     "output_type": "display_data"
    }
   ],
   "source": [
    "from sklearn.linear_model import LinearRegression\n",
    "from sklearn.pipeline import make_pipeline\n",
    "\n",
    "ks = [2, 3, 4, 5]\n",
    "fig = make_subplots(1, 4, subplot_titles=list(ks))\n",
    "for i, k in enumerate(ks):\n",
    "    y_hat = make_pipeline(PolynomialFeatures(k), LinearRegression(fit_intercept=False)).fit(X, y_).predict(X)\n",
    "    \n",
    "    fig.add_traces([go.Scatter(x=x, y=y_, mode=\"markers\", name=\"Real Points\",  marker=dict(color=\"black\", opacity=.7), showlegend=False),\n",
    "                    go.Scatter(x=x, y=y_hat, mode=\"markers\", name=\"Predicted Points\",  marker=dict(color=\"blue\", opacity=.7), showlegend=False)],   )\n",
    "    fig[\"layout\"][\"annotations\"][i][\"text\"] = rf\"$k={{0}}, MSE={{1}}$\".format(k, round(np.mean((y_-y_hat)**2), 2))\n",
    "\n",
    "fig.update_layout(title=r\"$\\text{(2) Simulated Data - Fitting Polynomials of Different Degrees}$\",\n",
    "                  margin=dict(t=60),\n",
    "                  yaxis_title=r\"$\\widehat{y}$\",\n",
    "                  height=300).show()"
   ]
  },
  {
   "cell_type": "markdown",
   "metadata": {
    "pycharm": {
     "name": "#%% md\n"
    }
   },
   "source": [
    "Once we find the right $k$ (which in our case is 4) we managed to fit a perfect model, after which, as we increase $k$, \n",
    "the additional coefficients will be zero."
   ]
  },
  {
   "cell_type": "code",
   "execution_count": 23,
   "metadata": {
    "pycharm": {
     "name": "#%%\n"
    }
   },
   "outputs": [
    {
     "data": {
      "text/plain": "         $w_{0}$  $w_{1}$  $w_{2}$  $w_{3}$  $w_{4}$  $w_{5}$\n$k={2}$    0.971   -2.142    0.403      NaN      NaN      NaN\n$k={3}$    0.672   -1.454    1.010   -0.564      NaN      NaN\n$k={4}$    1.000    0.000   -0.500   -2.000      1.0      NaN\n$k={5}$    1.000    0.000   -0.500   -2.000      1.0      0.0",
      "text/html": "<div>\n<style scoped>\n    .dataframe tbody tr th:only-of-type {\n        vertical-align: middle;\n    }\n\n    .dataframe tbody tr th {\n        vertical-align: top;\n    }\n\n    .dataframe thead th {\n        text-align: right;\n    }\n</style>\n<table border=\"1\" class=\"dataframe\">\n  <thead>\n    <tr style=\"text-align: right;\">\n      <th></th>\n      <th>$w_{0}$</th>\n      <th>$w_{1}$</th>\n      <th>$w_{2}$</th>\n      <th>$w_{3}$</th>\n      <th>$w_{4}$</th>\n      <th>$w_{5}$</th>\n    </tr>\n  </thead>\n  <tbody>\n    <tr>\n      <th>$k={2}$</th>\n      <td>0.971</td>\n      <td>-2.142</td>\n      <td>0.403</td>\n      <td>NaN</td>\n      <td>NaN</td>\n      <td>NaN</td>\n    </tr>\n    <tr>\n      <th>$k={3}$</th>\n      <td>0.672</td>\n      <td>-1.454</td>\n      <td>1.010</td>\n      <td>-0.564</td>\n      <td>NaN</td>\n      <td>NaN</td>\n    </tr>\n    <tr>\n      <th>$k={4}$</th>\n      <td>1.000</td>\n      <td>0.000</td>\n      <td>-0.500</td>\n      <td>-2.000</td>\n      <td>1.0</td>\n      <td>NaN</td>\n    </tr>\n    <tr>\n      <th>$k={5}$</th>\n      <td>1.000</td>\n      <td>0.000</td>\n      <td>-0.500</td>\n      <td>-2.000</td>\n      <td>1.0</td>\n      <td>0.0</td>\n    </tr>\n  </tbody>\n</table>\n</div>"
     },
     "execution_count": 23,
     "metadata": {},
     "output_type": "execute_result"
    }
   ],
   "source": [
    "coefs = {}\n",
    "for k in ks:\n",
    "    fit = make_pipeline(PolynomialFeatures(k), LinearRegression(fit_intercept=False)).fit(X, y_)\n",
    "    coefs[rf\"$k={{{k}}}$\"] = [round(c,3) for c in fit.steps[1][1].coef_]\n",
    "pd.DataFrame.from_dict(coefs, orient='index', columns=[rf\"$w_{{{i}}}$\" for i in range(max(ks)+1)])\n",
    "\n",
    "\n"
   ]
  },
  {
   "cell_type": "markdown",
   "metadata": {
    "pycharm": {
     "name": "#%% md\n"
    }
   },
   "source": [
    "## Fitting Polynomial Of Different Degrees - With Sample Noise\n",
    "\n",
    "Still fitting for different values of $k$, let us add some standard Gaussian noise (i.e. $\\mathcal{N}\\left(0,1\\right)$).\n",
    "This time we observe two things:\n",
    "- Even for the correct $k=4$ model we are not able to achieve zero MSE.\n",
    "- As we increase $4<k\\rightarrow 7$ we manage to decrease the error more and more."
   ]
  },
  {
   "cell_type": "code",
   "execution_count": 24,
   "metadata": {
    "pycharm": {
     "name": "#%%\n"
    }
   },
   "outputs": [
    {
     "data": {
      "application/vnd.plotly.v1+json": {
       "data": [
        {
         "marker": {
          "color": "black",
          "opacity": 0.7
         },
         "mode": "markers",
         "name": "Real Points",
         "showlegend": false,
         "x": [
          -1.2,
          -1.0358974358974358,
          -0.8717948717948718,
          -0.7076923076923076,
          -0.5435897435897435,
          -0.37948717948717947,
          -0.21538461538461529,
          -0.05128205128205132,
          0.11282051282051286,
          0.27692307692307705,
          0.441025641025641,
          0.6051282051282052,
          0.7692307692307694,
          0.9333333333333333,
          1.0974358974358973,
          1.2615384615384617,
          1.4256410256410257,
          1.5897435897435896,
          1.753846153846154,
          1.917948717948718
         ],
         "y": [
          5.8096,
          3.8381753317244733,
          2.522800884051074,
          1.7092797030916282,
          1.2608197821340592,
          1.058034061642376,
          0.9989404292566787,
          0.9989617197931566,
          0.9909257152440888,
          0.9250651447778439,
          0.7690176847388803,
          0.5078259586477458,
          0.14393753720107805,
          -0.3027950617283952,
          -0.7951143730918573,
          -1.278357984664403,
          -1.6804585370450331,
          -1.911943723656666,
          -1.8659362907461214,
          -1.418154037384138
         ],
         "type": "scatter",
         "xaxis": "x",
         "yaxis": "y"
        },
        {
         "marker": {
          "color": "red",
          "opacity": 0.7
         },
         "mode": "markers",
         "name": "Observed Points",
         "showlegend": false,
         "x": [
          -1.2,
          -1.0358974358974358,
          -0.8717948717948718,
          -0.7076923076923076,
          -0.5435897435897435,
          -0.37948717948717947,
          -0.21538461538461529,
          -0.05128205128205132,
          0.11282051282051286,
          0.27692307692307705,
          0.441025641025641,
          0.6051282051282052,
          0.7692307692307694,
          0.9333333333333333,
          1.0974358974358973,
          1.2615384615384617,
          1.4256410256410257,
          1.5897435897435896,
          1.753846153846154,
          1.917948717948718
         ],
         "y": [
          5.25735143426257,
          3.6708157138598785,
          3.8245414555028328,
          1.6016912274966626,
          1.1472997673913685,
          1.8382649976280168,
          0.49698212019801924,
          1.6163947383256363,
          0.8976730478455687,
          1.6541027562702482,
          0.0326428817608998,
          0.7730940353171883,
          -0.7539208123771904,
          -1.0225585662657395,
          -1.7526180278871761,
          0.636966962413873,
          -0.024455902058816203,
          -1.3066215399049792,
          -1.8580960717245265,
          -2.821637859483486
         ],
         "type": "scatter",
         "xaxis": "x",
         "yaxis": "y"
        },
        {
         "marker": {
          "color": "blue",
          "opacity": 0.7
         },
         "mode": "markers",
         "name": "Predicted Points",
         "showlegend": false,
         "x": [
          -1.2,
          -1.0358974358974358,
          -0.8717948717948718,
          -0.7076923076923076,
          -0.5435897435897435,
          -0.37948717948717947,
          -0.21538461538461529,
          -0.05128205128205132,
          0.11282051282051286,
          0.27692307692307705,
          0.441025641025641,
          0.6051282051282052,
          0.7692307692307694,
          0.9333333333333333,
          1.0974358974358973,
          1.2615384615384617,
          1.4256410256410257,
          1.5897435897435896,
          1.753846153846154,
          1.917948717948718
         ],
         "y": [
          4.11454931067463,
          3.6483726890656283,
          3.1999070185538097,
          2.769152299139174,
          2.356108530821721,
          1.9607757136014514,
          1.5831538474783642,
          1.2232429324524605,
          0.8810429685237392,
          0.5565539556922009,
          0.249775893957846,
          -0.039291216679326293,
          -0.3106473762193158,
          -0.5642925846621218,
          -0.8002268420077452,
          -1.018450148256186,
          -1.2189625034074432,
          -1.4017639074615178,
          -1.56685436041841,
          -1.7142338622781186
         ],
         "type": "scatter",
         "xaxis": "x",
         "yaxis": "y"
        },
        {
         "marker": {
          "color": "black",
          "opacity": 0.7
         },
         "mode": "markers",
         "name": "Real Points",
         "showlegend": false,
         "x": [
          -1.2,
          -1.0358974358974358,
          -0.8717948717948718,
          -0.7076923076923076,
          -0.5435897435897435,
          -0.37948717948717947,
          -0.21538461538461529,
          -0.05128205128205132,
          0.11282051282051286,
          0.27692307692307705,
          0.441025641025641,
          0.6051282051282052,
          0.7692307692307694,
          0.9333333333333333,
          1.0974358974358973,
          1.2615384615384617,
          1.4256410256410257,
          1.5897435897435896,
          1.753846153846154,
          1.917948717948718
         ],
         "y": [
          5.8096,
          3.8381753317244733,
          2.522800884051074,
          1.7092797030916282,
          1.2608197821340592,
          1.058034061642376,
          0.9989404292566787,
          0.9989617197931566,
          0.9909257152440888,
          0.9250651447778439,
          0.7690176847388803,
          0.5078259586477458,
          0.14393753720107805,
          -0.3027950617283952,
          -0.7951143730918573,
          -1.278357984664403,
          -1.6804585370450331,
          -1.911943723656666,
          -1.8659362907461214,
          -1.418154037384138
         ],
         "type": "scatter",
         "xaxis": "x2",
         "yaxis": "y2"
        },
        {
         "marker": {
          "color": "red",
          "opacity": 0.7
         },
         "mode": "markers",
         "name": "Observed Points",
         "showlegend": false,
         "x": [
          -1.2,
          -1.0358974358974358,
          -0.8717948717948718,
          -0.7076923076923076,
          -0.5435897435897435,
          -0.37948717948717947,
          -0.21538461538461529,
          -0.05128205128205132,
          0.11282051282051286,
          0.27692307692307705,
          0.441025641025641,
          0.6051282051282052,
          0.7692307692307694,
          0.9333333333333333,
          1.0974358974358973,
          1.2615384615384617,
          1.4256410256410257,
          1.5897435897435896,
          1.753846153846154,
          1.917948717948718
         ],
         "y": [
          5.25735143426257,
          3.6708157138598785,
          3.8245414555028328,
          1.6016912274966626,
          1.1472997673913685,
          1.8382649976280168,
          0.49698212019801924,
          1.6163947383256363,
          0.8976730478455687,
          1.6541027562702482,
          0.0326428817608998,
          0.7730940353171883,
          -0.7539208123771904,
          -1.0225585662657395,
          -1.7526180278871761,
          0.636966962413873,
          -0.024455902058816203,
          -1.3066215399049792,
          -1.8580960717245265,
          -2.821637859483486
         ],
         "type": "scatter",
         "xaxis": "x2",
         "yaxis": "y2"
        },
        {
         "marker": {
          "color": "blue",
          "opacity": 0.7
         },
         "mode": "markers",
         "name": "Predicted Points",
         "showlegend": false,
         "x": [
          -1.2,
          -1.0358974358974358,
          -0.8717948717948718,
          -0.7076923076923076,
          -0.5435897435897435,
          -0.37948717948717947,
          -0.21538461538461529,
          -0.05128205128205132,
          0.11282051282051286,
          0.27692307692307705,
          0.441025641025641,
          0.6051282051282052,
          0.7692307692307694,
          0.9333333333333333,
          1.0974358974358973,
          1.2615384615384617,
          1.4256410256410257,
          1.5897435897435896,
          1.753846153846154,
          1.917948717948718
         ],
         "y": [
          4.957335760641005,
          3.9588729601058716,
          3.125978382591849,
          2.441257054931412,
          1.8873140039570426,
          1.4467542565012192,
          1.1021828393964213,
          0.8362047794751286,
          0.6314251035698201,
          0.47044883851297525,
          0.3358810111370739,
          0.21032664827459502,
          0.07639077675801792,
          -0.08332157658017714,
          -0.28620538490751146,
          -0.5496556213915066,
          -0.8910672591996809,
          -1.327835271499556,
          -1.8773546314586542,
          -2.557020312244493
         ],
         "type": "scatter",
         "xaxis": "x2",
         "yaxis": "y2"
        },
        {
         "marker": {
          "color": "black",
          "opacity": 0.7
         },
         "mode": "markers",
         "name": "Real Points",
         "showlegend": false,
         "x": [
          -1.2,
          -1.0358974358974358,
          -0.8717948717948718,
          -0.7076923076923076,
          -0.5435897435897435,
          -0.37948717948717947,
          -0.21538461538461529,
          -0.05128205128205132,
          0.11282051282051286,
          0.27692307692307705,
          0.441025641025641,
          0.6051282051282052,
          0.7692307692307694,
          0.9333333333333333,
          1.0974358974358973,
          1.2615384615384617,
          1.4256410256410257,
          1.5897435897435896,
          1.753846153846154,
          1.917948717948718
         ],
         "y": [
          5.8096,
          3.8381753317244733,
          2.522800884051074,
          1.7092797030916282,
          1.2608197821340592,
          1.058034061642376,
          0.9989404292566787,
          0.9989617197931566,
          0.9909257152440888,
          0.9250651447778439,
          0.7690176847388803,
          0.5078259586477458,
          0.14393753720107805,
          -0.3027950617283952,
          -0.7951143730918573,
          -1.278357984664403,
          -1.6804585370450331,
          -1.911943723656666,
          -1.8659362907461214,
          -1.418154037384138
         ],
         "type": "scatter",
         "xaxis": "x3",
         "yaxis": "y3"
        },
        {
         "marker": {
          "color": "red",
          "opacity": 0.7
         },
         "mode": "markers",
         "name": "Observed Points",
         "showlegend": false,
         "x": [
          -1.2,
          -1.0358974358974358,
          -0.8717948717948718,
          -0.7076923076923076,
          -0.5435897435897435,
          -0.37948717948717947,
          -0.21538461538461529,
          -0.05128205128205132,
          0.11282051282051286,
          0.27692307692307705,
          0.441025641025641,
          0.6051282051282052,
          0.7692307692307694,
          0.9333333333333333,
          1.0974358974358973,
          1.2615384615384617,
          1.4256410256410257,
          1.5897435897435896,
          1.753846153846154,
          1.917948717948718
         ],
         "y": [
          5.25735143426257,
          3.6708157138598785,
          3.8245414555028328,
          1.6016912274966626,
          1.1472997673913685,
          1.8382649976280168,
          0.49698212019801924,
          1.6163947383256363,
          0.8976730478455687,
          1.6541027562702482,
          0.0326428817608998,
          0.7730940353171883,
          -0.7539208123771904,
          -1.0225585662657395,
          -1.7526180278871761,
          0.636966962413873,
          -0.024455902058816203,
          -1.3066215399049792,
          -1.8580960717245265,
          -2.821637859483486
         ],
         "type": "scatter",
         "xaxis": "x3",
         "yaxis": "y3"
        },
        {
         "marker": {
          "color": "blue",
          "opacity": 0.7
         },
         "mode": "markers",
         "name": "Predicted Points",
         "showlegend": false,
         "x": [
          -1.2,
          -1.0358974358974358,
          -0.8717948717948718,
          -0.7076923076923076,
          -0.5435897435897435,
          -0.37948717948717947,
          -0.21538461538461529,
          -0.05128205128205132,
          0.11282051282051286,
          0.27692307692307705,
          0.441025641025641,
          0.6051282051282052,
          0.7692307692307694,
          0.9333333333333333,
          1.0974358974358973,
          1.2615384615384617,
          1.4256410256410257,
          1.5897435897435896,
          1.753846153846154,
          1.917948717948718
         ],
         "y": [
          5.074591221421966,
          3.9527016200647687,
          3.0580936421397134,
          2.3564313810331106,
          1.8154965468120468,
          1.4051884662243765,
          1.0975240826987254,
          0.8666379563444899,
          0.6887822639518376,
          0.5423267989917064,
          0.4077589716158051,
          0.2676838086566129,
          0.10682395362737984,
          -0.08798033327787269,
          -0.3277711751843536,
          -0.621473078536501,
          -0.9758929330979809,
          -1.3957200119516897,
          -1.8835259714997554,
          -2.439764851463528
         ],
         "type": "scatter",
         "xaxis": "x3",
         "yaxis": "y3"
        },
        {
         "marker": {
          "color": "black",
          "opacity": 0.7
         },
         "mode": "markers",
         "name": "Real Points",
         "showlegend": false,
         "x": [
          -1.2,
          -1.0358974358974358,
          -0.8717948717948718,
          -0.7076923076923076,
          -0.5435897435897435,
          -0.37948717948717947,
          -0.21538461538461529,
          -0.05128205128205132,
          0.11282051282051286,
          0.27692307692307705,
          0.441025641025641,
          0.6051282051282052,
          0.7692307692307694,
          0.9333333333333333,
          1.0974358974358973,
          1.2615384615384617,
          1.4256410256410257,
          1.5897435897435896,
          1.753846153846154,
          1.917948717948718
         ],
         "y": [
          5.8096,
          3.8381753317244733,
          2.522800884051074,
          1.7092797030916282,
          1.2608197821340592,
          1.058034061642376,
          0.9989404292566787,
          0.9989617197931566,
          0.9909257152440888,
          0.9250651447778439,
          0.7690176847388803,
          0.5078259586477458,
          0.14393753720107805,
          -0.3027950617283952,
          -0.7951143730918573,
          -1.278357984664403,
          -1.6804585370450331,
          -1.911943723656666,
          -1.8659362907461214,
          -1.418154037384138
         ],
         "type": "scatter",
         "xaxis": "x4",
         "yaxis": "y4"
        },
        {
         "marker": {
          "color": "red",
          "opacity": 0.7
         },
         "mode": "markers",
         "name": "Observed Points",
         "showlegend": false,
         "x": [
          -1.2,
          -1.0358974358974358,
          -0.8717948717948718,
          -0.7076923076923076,
          -0.5435897435897435,
          -0.37948717948717947,
          -0.21538461538461529,
          -0.05128205128205132,
          0.11282051282051286,
          0.27692307692307705,
          0.441025641025641,
          0.6051282051282052,
          0.7692307692307694,
          0.9333333333333333,
          1.0974358974358973,
          1.2615384615384617,
          1.4256410256410257,
          1.5897435897435896,
          1.753846153846154,
          1.917948717948718
         ],
         "y": [
          5.25735143426257,
          3.6708157138598785,
          3.8245414555028328,
          1.6016912274966626,
          1.1472997673913685,
          1.8382649976280168,
          0.49698212019801924,
          1.6163947383256363,
          0.8976730478455687,
          1.6541027562702482,
          0.0326428817608998,
          0.7730940353171883,
          -0.7539208123771904,
          -1.0225585662657395,
          -1.7526180278871761,
          0.636966962413873,
          -0.024455902058816203,
          -1.3066215399049792,
          -1.8580960717245265,
          -2.821637859483486
         ],
         "type": "scatter",
         "xaxis": "x4",
         "yaxis": "y4"
        },
        {
         "marker": {
          "color": "blue",
          "opacity": 0.7
         },
         "mode": "markers",
         "name": "Predicted Points",
         "showlegend": false,
         "x": [
          -1.2,
          -1.0358974358974358,
          -0.8717948717948718,
          -0.7076923076923076,
          -0.5435897435897435,
          -0.37948717948717947,
          -0.21538461538461529,
          -0.05128205128205132,
          0.11282051282051286,
          0.27692307692307705,
          0.441025641025641,
          0.6051282051282052,
          0.7692307692307694,
          0.9333333333333333,
          1.0974358974358973,
          1.2615384615384617,
          1.4256410256410257,
          1.5897435897435896,
          1.753846153846154,
          1.917948717948718
         ],
         "y": [
          5.517941693453977,
          3.6960250309935985,
          2.645855483934505,
          2.0768780906187025,
          1.7727171153001862,
          1.5815678335807675,
          1.4065883178459155,
          1.196291222700597,
          0.9349355704051134,
          0.6329185363109409,
          0.31716723429656835,
          0.021530502203335244,
          -0.22282931272872863,
          -0.39704456842506375,
          -0.5041505425407449,
          -0.5786936470246397,
          -0.6963396426835735,
          -0.9834818537464818,
          -1.626849382428592,
          -2.8831153234955504
         ],
         "type": "scatter",
         "xaxis": "x4",
         "yaxis": "y4"
        },
        {
         "marker": {
          "color": "black",
          "opacity": 0.7
         },
         "mode": "markers",
         "name": "Real Points",
         "showlegend": false,
         "x": [
          -1.2,
          -1.0358974358974358,
          -0.8717948717948718,
          -0.7076923076923076,
          -0.5435897435897435,
          -0.37948717948717947,
          -0.21538461538461529,
          -0.05128205128205132,
          0.11282051282051286,
          0.27692307692307705,
          0.441025641025641,
          0.6051282051282052,
          0.7692307692307694,
          0.9333333333333333,
          1.0974358974358973,
          1.2615384615384617,
          1.4256410256410257,
          1.5897435897435896,
          1.753846153846154,
          1.917948717948718
         ],
         "y": [
          5.8096,
          3.8381753317244733,
          2.522800884051074,
          1.7092797030916282,
          1.2608197821340592,
          1.058034061642376,
          0.9989404292566787,
          0.9989617197931566,
          0.9909257152440888,
          0.9250651447778439,
          0.7690176847388803,
          0.5078259586477458,
          0.14393753720107805,
          -0.3027950617283952,
          -0.7951143730918573,
          -1.278357984664403,
          -1.6804585370450331,
          -1.911943723656666,
          -1.8659362907461214,
          -1.418154037384138
         ],
         "type": "scatter",
         "xaxis": "x5",
         "yaxis": "y5"
        },
        {
         "marker": {
          "color": "red",
          "opacity": 0.7
         },
         "mode": "markers",
         "name": "Observed Points",
         "showlegend": false,
         "x": [
          -1.2,
          -1.0358974358974358,
          -0.8717948717948718,
          -0.7076923076923076,
          -0.5435897435897435,
          -0.37948717948717947,
          -0.21538461538461529,
          -0.05128205128205132,
          0.11282051282051286,
          0.27692307692307705,
          0.441025641025641,
          0.6051282051282052,
          0.7692307692307694,
          0.9333333333333333,
          1.0974358974358973,
          1.2615384615384617,
          1.4256410256410257,
          1.5897435897435896,
          1.753846153846154,
          1.917948717948718
         ],
         "y": [
          5.25735143426257,
          3.6708157138598785,
          3.8245414555028328,
          1.6016912274966626,
          1.1472997673913685,
          1.8382649976280168,
          0.49698212019801924,
          1.6163947383256363,
          0.8976730478455687,
          1.6541027562702482,
          0.0326428817608998,
          0.7730940353171883,
          -0.7539208123771904,
          -1.0225585662657395,
          -1.7526180278871761,
          0.636966962413873,
          -0.024455902058816203,
          -1.3066215399049792,
          -1.8580960717245265,
          -2.821637859483486
         ],
         "type": "scatter",
         "xaxis": "x5",
         "yaxis": "y5"
        },
        {
         "marker": {
          "color": "blue",
          "opacity": 0.7
         },
         "mode": "markers",
         "name": "Predicted Points",
         "showlegend": false,
         "x": [
          -1.2,
          -1.0358974358974358,
          -0.8717948717948718,
          -0.7076923076923076,
          -0.5435897435897435,
          -0.37948717948717947,
          -0.21538461538461529,
          -0.05128205128205132,
          0.11282051282051286,
          0.27692307692307705,
          0.441025641025641,
          0.6051282051282052,
          0.7692307692307694,
          0.9333333333333333,
          1.0974358974358973,
          1.2615384615384617,
          1.4256410256410257,
          1.5897435897435896,
          1.753846153846154,
          1.917948717948718
         ],
         "y": [
          5.261699064258293,
          4.00621347686207,
          2.8931071436847318,
          2.0760847697852767,
          1.5747835673610968,
          1.3262507453574002,
          1.2276944699089822,
          1.1705082956143396,
          1.0655690676421288,
          0.8598082946699699,
          0.5440569926555969,
          0.1521639994403492,
          -0.24861223981498792,
          -0.5759384163620007,
          -0.7594676307641208,
          -0.7766271949637442,
          -0.6971329635170296,
          -0.7362301939963238,
          -1.3166609365602397,
          -3.1393579526914266
         ],
         "type": "scatter",
         "xaxis": "x5",
         "yaxis": "y5"
        },
        {
         "marker": {
          "color": "black",
          "opacity": 0.7
         },
         "mode": "markers",
         "name": "Real Points",
         "showlegend": false,
         "x": [
          -1.2,
          -1.0358974358974358,
          -0.8717948717948718,
          -0.7076923076923076,
          -0.5435897435897435,
          -0.37948717948717947,
          -0.21538461538461529,
          -0.05128205128205132,
          0.11282051282051286,
          0.27692307692307705,
          0.441025641025641,
          0.6051282051282052,
          0.7692307692307694,
          0.9333333333333333,
          1.0974358974358973,
          1.2615384615384617,
          1.4256410256410257,
          1.5897435897435896,
          1.753846153846154,
          1.917948717948718
         ],
         "y": [
          5.8096,
          3.8381753317244733,
          2.522800884051074,
          1.7092797030916282,
          1.2608197821340592,
          1.058034061642376,
          0.9989404292566787,
          0.9989617197931566,
          0.9909257152440888,
          0.9250651447778439,
          0.7690176847388803,
          0.5078259586477458,
          0.14393753720107805,
          -0.3027950617283952,
          -0.7951143730918573,
          -1.278357984664403,
          -1.6804585370450331,
          -1.911943723656666,
          -1.8659362907461214,
          -1.418154037384138
         ],
         "type": "scatter",
         "xaxis": "x6",
         "yaxis": "y6"
        },
        {
         "marker": {
          "color": "red",
          "opacity": 0.7
         },
         "mode": "markers",
         "name": "Observed Points",
         "showlegend": false,
         "x": [
          -1.2,
          -1.0358974358974358,
          -0.8717948717948718,
          -0.7076923076923076,
          -0.5435897435897435,
          -0.37948717948717947,
          -0.21538461538461529,
          -0.05128205128205132,
          0.11282051282051286,
          0.27692307692307705,
          0.441025641025641,
          0.6051282051282052,
          0.7692307692307694,
          0.9333333333333333,
          1.0974358974358973,
          1.2615384615384617,
          1.4256410256410257,
          1.5897435897435896,
          1.753846153846154,
          1.917948717948718
         ],
         "y": [
          5.25735143426257,
          3.6708157138598785,
          3.8245414555028328,
          1.6016912274966626,
          1.1472997673913685,
          1.8382649976280168,
          0.49698212019801924,
          1.6163947383256363,
          0.8976730478455687,
          1.6541027562702482,
          0.0326428817608998,
          0.7730940353171883,
          -0.7539208123771904,
          -1.0225585662657395,
          -1.7526180278871761,
          0.636966962413873,
          -0.024455902058816203,
          -1.3066215399049792,
          -1.8580960717245265,
          -2.821637859483486
         ],
         "type": "scatter",
         "xaxis": "x6",
         "yaxis": "y6"
        },
        {
         "marker": {
          "color": "blue",
          "opacity": 0.7
         },
         "mode": "markers",
         "name": "Predicted Points",
         "showlegend": false,
         "x": [
          -1.2,
          -1.0358974358974358,
          -0.8717948717948718,
          -0.7076923076923076,
          -0.5435897435897435,
          -0.37948717948717947,
          -0.21538461538461529,
          -0.05128205128205132,
          0.11282051282051286,
          0.27692307692307705,
          0.441025641025641,
          0.6051282051282052,
          0.7692307692307694,
          0.9333333333333333,
          1.0974358974358973,
          1.2615384615384617,
          1.4256410256410257,
          1.5897435897435896,
          1.753846153846154,
          1.917948717948718
         ],
         "y": [
          5.04802018467239,
          4.422324979213581,
          2.994323455067539,
          1.8438826436718063,
          1.2800654842170713,
          1.198241880961508,
          1.3338723651830904,
          1.427518341184381,
          1.315632895764333,
          0.9616861505716109,
          0.4421791367539625,
          -0.09789982868184932,
          -0.5056222853850252,
          -0.6821163116361033,
          -0.631458766368219,
          -0.48190911181969653,
          -0.46493083740352503,
          -0.8374465053790487,
          -1.7327724389116312,
          -2.925679073105357
         ],
         "type": "scatter",
         "xaxis": "x6",
         "yaxis": "y6"
        }
       ],
       "layout": {
        "template": {
         "data": {
          "barpolar": [
           {
            "marker": {
             "line": {
              "color": "white",
              "width": 0.5
             },
             "pattern": {
              "fillmode": "overlay",
              "size": 10,
              "solidity": 0.2
             }
            },
            "type": "barpolar"
           }
          ],
          "bar": [
           {
            "error_x": {
             "color": "rgb(36,36,36)"
            },
            "error_y": {
             "color": "rgb(36,36,36)"
            },
            "marker": {
             "line": {
              "color": "white",
              "width": 0.5
             },
             "pattern": {
              "fillmode": "overlay",
              "size": 10,
              "solidity": 0.2
             }
            },
            "type": "bar"
           }
          ],
          "carpet": [
           {
            "aaxis": {
             "endlinecolor": "rgb(36,36,36)",
             "gridcolor": "white",
             "linecolor": "white",
             "minorgridcolor": "white",
             "startlinecolor": "rgb(36,36,36)"
            },
            "baxis": {
             "endlinecolor": "rgb(36,36,36)",
             "gridcolor": "white",
             "linecolor": "white",
             "minorgridcolor": "white",
             "startlinecolor": "rgb(36,36,36)"
            },
            "type": "carpet"
           }
          ],
          "choropleth": [
           {
            "colorbar": {
             "outlinewidth": 1,
             "tickcolor": "rgb(36,36,36)",
             "ticks": "outside"
            },
            "type": "choropleth"
           }
          ],
          "contourcarpet": [
           {
            "colorbar": {
             "outlinewidth": 1,
             "tickcolor": "rgb(36,36,36)",
             "ticks": "outside"
            },
            "type": "contourcarpet"
           }
          ],
          "contour": [
           {
            "colorbar": {
             "outlinewidth": 1,
             "tickcolor": "rgb(36,36,36)",
             "ticks": "outside"
            },
            "colorscale": [
             [
              0.0,
              "#440154"
             ],
             [
              0.1111111111111111,
              "#482878"
             ],
             [
              0.2222222222222222,
              "#3e4989"
             ],
             [
              0.3333333333333333,
              "#31688e"
             ],
             [
              0.4444444444444444,
              "#26828e"
             ],
             [
              0.5555555555555556,
              "#1f9e89"
             ],
             [
              0.6666666666666666,
              "#35b779"
             ],
             [
              0.7777777777777778,
              "#6ece58"
             ],
             [
              0.8888888888888888,
              "#b5de2b"
             ],
             [
              1.0,
              "#fde725"
             ]
            ],
            "type": "contour"
           }
          ],
          "heatmapgl": [
           {
            "colorbar": {
             "outlinewidth": 1,
             "tickcolor": "rgb(36,36,36)",
             "ticks": "outside"
            },
            "colorscale": [
             [
              0.0,
              "#440154"
             ],
             [
              0.1111111111111111,
              "#482878"
             ],
             [
              0.2222222222222222,
              "#3e4989"
             ],
             [
              0.3333333333333333,
              "#31688e"
             ],
             [
              0.4444444444444444,
              "#26828e"
             ],
             [
              0.5555555555555556,
              "#1f9e89"
             ],
             [
              0.6666666666666666,
              "#35b779"
             ],
             [
              0.7777777777777778,
              "#6ece58"
             ],
             [
              0.8888888888888888,
              "#b5de2b"
             ],
             [
              1.0,
              "#fde725"
             ]
            ],
            "type": "heatmapgl"
           }
          ],
          "heatmap": [
           {
            "colorbar": {
             "outlinewidth": 1,
             "tickcolor": "rgb(36,36,36)",
             "ticks": "outside"
            },
            "colorscale": [
             [
              0.0,
              "#440154"
             ],
             [
              0.1111111111111111,
              "#482878"
             ],
             [
              0.2222222222222222,
              "#3e4989"
             ],
             [
              0.3333333333333333,
              "#31688e"
             ],
             [
              0.4444444444444444,
              "#26828e"
             ],
             [
              0.5555555555555556,
              "#1f9e89"
             ],
             [
              0.6666666666666666,
              "#35b779"
             ],
             [
              0.7777777777777778,
              "#6ece58"
             ],
             [
              0.8888888888888888,
              "#b5de2b"
             ],
             [
              1.0,
              "#fde725"
             ]
            ],
            "type": "heatmap"
           }
          ],
          "histogram2dcontour": [
           {
            "colorbar": {
             "outlinewidth": 1,
             "tickcolor": "rgb(36,36,36)",
             "ticks": "outside"
            },
            "colorscale": [
             [
              0.0,
              "#440154"
             ],
             [
              0.1111111111111111,
              "#482878"
             ],
             [
              0.2222222222222222,
              "#3e4989"
             ],
             [
              0.3333333333333333,
              "#31688e"
             ],
             [
              0.4444444444444444,
              "#26828e"
             ],
             [
              0.5555555555555556,
              "#1f9e89"
             ],
             [
              0.6666666666666666,
              "#35b779"
             ],
             [
              0.7777777777777778,
              "#6ece58"
             ],
             [
              0.8888888888888888,
              "#b5de2b"
             ],
             [
              1.0,
              "#fde725"
             ]
            ],
            "type": "histogram2dcontour"
           }
          ],
          "histogram2d": [
           {
            "colorbar": {
             "outlinewidth": 1,
             "tickcolor": "rgb(36,36,36)",
             "ticks": "outside"
            },
            "colorscale": [
             [
              0.0,
              "#440154"
             ],
             [
              0.1111111111111111,
              "#482878"
             ],
             [
              0.2222222222222222,
              "#3e4989"
             ],
             [
              0.3333333333333333,
              "#31688e"
             ],
             [
              0.4444444444444444,
              "#26828e"
             ],
             [
              0.5555555555555556,
              "#1f9e89"
             ],
             [
              0.6666666666666666,
              "#35b779"
             ],
             [
              0.7777777777777778,
              "#6ece58"
             ],
             [
              0.8888888888888888,
              "#b5de2b"
             ],
             [
              1.0,
              "#fde725"
             ]
            ],
            "type": "histogram2d"
           }
          ],
          "histogram": [
           {
            "marker": {
             "line": {
              "color": "white",
              "width": 0.6
             }
            },
            "type": "histogram"
           }
          ],
          "mesh3d": [
           {
            "colorbar": {
             "outlinewidth": 1,
             "tickcolor": "rgb(36,36,36)",
             "ticks": "outside"
            },
            "type": "mesh3d"
           }
          ],
          "parcoords": [
           {
            "line": {
             "colorbar": {
              "outlinewidth": 1,
              "tickcolor": "rgb(36,36,36)",
              "ticks": "outside"
             }
            },
            "type": "parcoords"
           }
          ],
          "pie": [
           {
            "automargin": true,
            "type": "pie"
           }
          ],
          "scatter3d": [
           {
            "line": {
             "colorbar": {
              "outlinewidth": 1,
              "tickcolor": "rgb(36,36,36)",
              "ticks": "outside"
             }
            },
            "marker": {
             "colorbar": {
              "outlinewidth": 1,
              "tickcolor": "rgb(36,36,36)",
              "ticks": "outside"
             }
            },
            "type": "scatter3d"
           }
          ],
          "scattercarpet": [
           {
            "marker": {
             "colorbar": {
              "outlinewidth": 1,
              "tickcolor": "rgb(36,36,36)",
              "ticks": "outside"
             }
            },
            "type": "scattercarpet"
           }
          ],
          "scattergeo": [
           {
            "marker": {
             "colorbar": {
              "outlinewidth": 1,
              "tickcolor": "rgb(36,36,36)",
              "ticks": "outside"
             }
            },
            "type": "scattergeo"
           }
          ],
          "scattergl": [
           {
            "marker": {
             "colorbar": {
              "outlinewidth": 1,
              "tickcolor": "rgb(36,36,36)",
              "ticks": "outside"
             }
            },
            "type": "scattergl"
           }
          ],
          "scattermapbox": [
           {
            "marker": {
             "colorbar": {
              "outlinewidth": 1,
              "tickcolor": "rgb(36,36,36)",
              "ticks": "outside"
             }
            },
            "type": "scattermapbox"
           }
          ],
          "scatterpolargl": [
           {
            "marker": {
             "colorbar": {
              "outlinewidth": 1,
              "tickcolor": "rgb(36,36,36)",
              "ticks": "outside"
             }
            },
            "type": "scatterpolargl"
           }
          ],
          "scatterpolar": [
           {
            "marker": {
             "colorbar": {
              "outlinewidth": 1,
              "tickcolor": "rgb(36,36,36)",
              "ticks": "outside"
             }
            },
            "type": "scatterpolar"
           }
          ],
          "scatter": [
           {
            "marker": {
             "colorbar": {
              "outlinewidth": 1,
              "tickcolor": "rgb(36,36,36)",
              "ticks": "outside"
             }
            },
            "type": "scatter"
           }
          ],
          "scatterternary": [
           {
            "marker": {
             "colorbar": {
              "outlinewidth": 1,
              "tickcolor": "rgb(36,36,36)",
              "ticks": "outside"
             }
            },
            "type": "scatterternary"
           }
          ],
          "surface": [
           {
            "colorbar": {
             "outlinewidth": 1,
             "tickcolor": "rgb(36,36,36)",
             "ticks": "outside"
            },
            "colorscale": [
             [
              0.0,
              "#440154"
             ],
             [
              0.1111111111111111,
              "#482878"
             ],
             [
              0.2222222222222222,
              "#3e4989"
             ],
             [
              0.3333333333333333,
              "#31688e"
             ],
             [
              0.4444444444444444,
              "#26828e"
             ],
             [
              0.5555555555555556,
              "#1f9e89"
             ],
             [
              0.6666666666666666,
              "#35b779"
             ],
             [
              0.7777777777777778,
              "#6ece58"
             ],
             [
              0.8888888888888888,
              "#b5de2b"
             ],
             [
              1.0,
              "#fde725"
             ]
            ],
            "type": "surface"
           }
          ],
          "table": [
           {
            "cells": {
             "fill": {
              "color": "rgb(237,237,237)"
             },
             "line": {
              "color": "white"
             }
            },
            "header": {
             "fill": {
              "color": "rgb(217,217,217)"
             },
             "line": {
              "color": "white"
             }
            },
            "type": "table"
           }
          ]
         },
         "layout": {
          "annotationdefaults": {
           "arrowhead": 0,
           "arrowwidth": 1
          },
          "autotypenumbers": "strict",
          "coloraxis": {
           "colorbar": {
            "outlinewidth": 1,
            "tickcolor": "rgb(36,36,36)",
            "ticks": "outside"
           }
          },
          "colorscale": {
           "diverging": [
            [
             0.0,
             "rgb(103,0,31)"
            ],
            [
             0.1,
             "rgb(178,24,43)"
            ],
            [
             0.2,
             "rgb(214,96,77)"
            ],
            [
             0.3,
             "rgb(244,165,130)"
            ],
            [
             0.4,
             "rgb(253,219,199)"
            ],
            [
             0.5,
             "rgb(247,247,247)"
            ],
            [
             0.6,
             "rgb(209,229,240)"
            ],
            [
             0.7,
             "rgb(146,197,222)"
            ],
            [
             0.8,
             "rgb(67,147,195)"
            ],
            [
             0.9,
             "rgb(33,102,172)"
            ],
            [
             1.0,
             "rgb(5,48,97)"
            ]
           ],
           "sequential": [
            [
             0.0,
             "#440154"
            ],
            [
             0.1111111111111111,
             "#482878"
            ],
            [
             0.2222222222222222,
             "#3e4989"
            ],
            [
             0.3333333333333333,
             "#31688e"
            ],
            [
             0.4444444444444444,
             "#26828e"
            ],
            [
             0.5555555555555556,
             "#1f9e89"
            ],
            [
             0.6666666666666666,
             "#35b779"
            ],
            [
             0.7777777777777778,
             "#6ece58"
            ],
            [
             0.8888888888888888,
             "#b5de2b"
            ],
            [
             1.0,
             "#fde725"
            ]
           ],
           "sequentialminus": [
            [
             0.0,
             "#440154"
            ],
            [
             0.1111111111111111,
             "#482878"
            ],
            [
             0.2222222222222222,
             "#3e4989"
            ],
            [
             0.3333333333333333,
             "#31688e"
            ],
            [
             0.4444444444444444,
             "#26828e"
            ],
            [
             0.5555555555555556,
             "#1f9e89"
            ],
            [
             0.6666666666666666,
             "#35b779"
            ],
            [
             0.7777777777777778,
             "#6ece58"
            ],
            [
             0.8888888888888888,
             "#b5de2b"
            ],
            [
             1.0,
             "#fde725"
            ]
           ]
          },
          "colorway": [
           "#1F77B4",
           "#FF7F0E",
           "#2CA02C",
           "#D62728",
           "#9467BD",
           "#8C564B",
           "#E377C2",
           "#7F7F7F",
           "#BCBD22",
           "#17BECF"
          ],
          "font": {
           "color": "rgb(36,36,36)"
          },
          "geo": {
           "bgcolor": "white",
           "lakecolor": "white",
           "landcolor": "white",
           "showlakes": true,
           "showland": true,
           "subunitcolor": "white"
          },
          "hoverlabel": {
           "align": "left"
          },
          "hovermode": "closest",
          "mapbox": {
           "style": "light"
          },
          "paper_bgcolor": "white",
          "plot_bgcolor": "white",
          "polar": {
           "angularaxis": {
            "gridcolor": "rgb(232,232,232)",
            "linecolor": "rgb(36,36,36)",
            "showgrid": false,
            "showline": true,
            "ticks": "outside"
           },
           "bgcolor": "white",
           "radialaxis": {
            "gridcolor": "rgb(232,232,232)",
            "linecolor": "rgb(36,36,36)",
            "showgrid": false,
            "showline": true,
            "ticks": "outside"
           }
          },
          "scene": {
           "xaxis": {
            "backgroundcolor": "white",
            "gridcolor": "rgb(232,232,232)",
            "gridwidth": 2,
            "linecolor": "rgb(36,36,36)",
            "showbackground": true,
            "showgrid": false,
            "showline": true,
            "ticks": "outside",
            "zeroline": false,
            "zerolinecolor": "rgb(36,36,36)"
           },
           "yaxis": {
            "backgroundcolor": "white",
            "gridcolor": "rgb(232,232,232)",
            "gridwidth": 2,
            "linecolor": "rgb(36,36,36)",
            "showbackground": true,
            "showgrid": false,
            "showline": true,
            "ticks": "outside",
            "zeroline": false,
            "zerolinecolor": "rgb(36,36,36)"
           },
           "zaxis": {
            "backgroundcolor": "white",
            "gridcolor": "rgb(232,232,232)",
            "gridwidth": 2,
            "linecolor": "rgb(36,36,36)",
            "showbackground": true,
            "showgrid": false,
            "showline": true,
            "ticks": "outside",
            "zeroline": false,
            "zerolinecolor": "rgb(36,36,36)"
           }
          },
          "shapedefaults": {
           "fillcolor": "black",
           "line": {
            "width": 0
           },
           "opacity": 0.3
          },
          "ternary": {
           "aaxis": {
            "gridcolor": "rgb(232,232,232)",
            "linecolor": "rgb(36,36,36)",
            "showgrid": false,
            "showline": true,
            "ticks": "outside"
           },
           "baxis": {
            "gridcolor": "rgb(232,232,232)",
            "linecolor": "rgb(36,36,36)",
            "showgrid": false,
            "showline": true,
            "ticks": "outside"
           },
           "bgcolor": "white",
           "caxis": {
            "gridcolor": "rgb(232,232,232)",
            "linecolor": "rgb(36,36,36)",
            "showgrid": false,
            "showline": true,
            "ticks": "outside"
           }
          },
          "title": {
           "x": 0.05
          },
          "xaxis": {
           "automargin": true,
           "gridcolor": "rgb(232,232,232)",
           "linecolor": "rgb(36,36,36)",
           "showgrid": false,
           "showline": true,
           "ticks": "outside",
           "title": {
            "standoff": 15
           },
           "zeroline": false,
           "zerolinecolor": "rgb(36,36,36)"
          },
          "yaxis": {
           "automargin": true,
           "gridcolor": "rgb(232,232,232)",
           "linecolor": "rgb(36,36,36)",
           "showgrid": false,
           "showline": true,
           "ticks": "outside",
           "title": {
            "standoff": 15
           },
           "zeroline": false,
           "zerolinecolor": "rgb(36,36,36)"
          },
          "margin": {
           "b": 0,
           "l": 20,
           "r": 20,
           "t": 40
          }
         }
        },
        "xaxis": {
         "anchor": "y",
         "domain": [
          0.0,
          0.2888888888888889
         ]
        },
        "yaxis": {
         "anchor": "x",
         "domain": [
          0.625,
          1.0
         ]
        },
        "xaxis2": {
         "anchor": "y2",
         "domain": [
          0.35555555555555557,
          0.6444444444444445
         ]
        },
        "yaxis2": {
         "anchor": "x2",
         "domain": [
          0.625,
          1.0
         ]
        },
        "xaxis3": {
         "anchor": "y3",
         "domain": [
          0.7111111111111111,
          1.0
         ]
        },
        "yaxis3": {
         "anchor": "x3",
         "domain": [
          0.625,
          1.0
         ]
        },
        "xaxis4": {
         "anchor": "y4",
         "domain": [
          0.0,
          0.2888888888888889
         ]
        },
        "yaxis4": {
         "anchor": "x4",
         "domain": [
          0.0,
          0.375
         ]
        },
        "xaxis5": {
         "anchor": "y5",
         "domain": [
          0.35555555555555557,
          0.6444444444444445
         ]
        },
        "yaxis5": {
         "anchor": "x5",
         "domain": [
          0.0,
          0.375
         ]
        },
        "xaxis6": {
         "anchor": "y6",
         "domain": [
          0.7111111111111111,
          1.0
         ]
        },
        "yaxis6": {
         "anchor": "x6",
         "domain": [
          0.0,
          0.375
         ]
        },
        "annotations": [
         {
          "font": {
           "size": 16
          },
          "showarrow": false,
          "text": "$k=2, MSE=0.73$",
          "x": 0.14444444444444446,
          "xanchor": "center",
          "xref": "paper",
          "y": 1.0,
          "yanchor": "bottom",
          "yref": "paper"
         },
         {
          "font": {
           "size": 16
          },
          "showarrow": false,
          "text": "$k=3, MSE=0.54$",
          "x": 0.5,
          "xanchor": "center",
          "xref": "paper",
          "y": 1.0,
          "yanchor": "bottom",
          "yref": "paper"
         },
         {
          "font": {
           "size": 16
          },
          "showarrow": false,
          "text": "$k=4, MSE=0.54$",
          "x": 0.8555555555555556,
          "xanchor": "center",
          "xref": "paper",
          "y": 1.0,
          "yanchor": "bottom",
          "yref": "paper"
         },
         {
          "font": {
           "size": 16
          },
          "showarrow": false,
          "text": "$k=5, MSE=0.46$",
          "x": 0.14444444444444446,
          "xanchor": "center",
          "xref": "paper",
          "y": 0.375,
          "yanchor": "bottom",
          "yref": "paper"
         },
         {
          "font": {
           "size": 16
          },
          "showarrow": false,
          "text": "$k=6, MSE=0.42$",
          "x": 0.5,
          "xanchor": "center",
          "xref": "paper",
          "y": 0.375,
          "yanchor": "bottom",
          "yref": "paper"
         },
         {
          "font": {
           "size": 16
          },
          "showarrow": false,
          "text": "$k=7, MSE=0.36$",
          "x": 0.8555555555555556,
          "xanchor": "center",
          "xref": "paper",
          "y": 0.375,
          "yanchor": "bottom",
          "yref": "paper"
         }
        ],
        "margin": {
         "t": 80
        },
        "title": {
         "text": "$\\text{(4) Simulated Data With Noise - Fitting Polynomials of Different Degrees}$"
        }
       },
       "config": {
        "plotlyServerURL": "https://plot.ly"
       }
      },
      "text/html": "<div>                            <div id=\"a4800eb3-650b-4b14-ab84-0c717d1607d3\" class=\"plotly-graph-div\" style=\"height:525px; width:100%;\"></div>            <script type=\"text/javascript\">                require([\"plotly\"], function(Plotly) {                    window.PLOTLYENV=window.PLOTLYENV || {};                                    if (document.getElementById(\"a4800eb3-650b-4b14-ab84-0c717d1607d3\")) {                    Plotly.newPlot(                        \"a4800eb3-650b-4b14-ab84-0c717d1607d3\",                        [{\"marker\":{\"color\":\"black\",\"opacity\":0.7},\"mode\":\"markers\",\"name\":\"Real Points\",\"showlegend\":false,\"x\":[-1.2,-1.0358974358974358,-0.8717948717948718,-0.7076923076923076,-0.5435897435897435,-0.37948717948717947,-0.21538461538461529,-0.05128205128205132,0.11282051282051286,0.27692307692307705,0.441025641025641,0.6051282051282052,0.7692307692307694,0.9333333333333333,1.0974358974358973,1.2615384615384617,1.4256410256410257,1.5897435897435896,1.753846153846154,1.917948717948718],\"y\":[5.8096,3.8381753317244733,2.522800884051074,1.7092797030916282,1.2608197821340592,1.058034061642376,0.9989404292566787,0.9989617197931566,0.9909257152440888,0.9250651447778439,0.7690176847388803,0.5078259586477458,0.14393753720107805,-0.3027950617283952,-0.7951143730918573,-1.278357984664403,-1.6804585370450331,-1.911943723656666,-1.8659362907461214,-1.418154037384138],\"type\":\"scatter\",\"xaxis\":\"x\",\"yaxis\":\"y\"},{\"marker\":{\"color\":\"red\",\"opacity\":0.7},\"mode\":\"markers\",\"name\":\"Observed Points\",\"showlegend\":false,\"x\":[-1.2,-1.0358974358974358,-0.8717948717948718,-0.7076923076923076,-0.5435897435897435,-0.37948717948717947,-0.21538461538461529,-0.05128205128205132,0.11282051282051286,0.27692307692307705,0.441025641025641,0.6051282051282052,0.7692307692307694,0.9333333333333333,1.0974358974358973,1.2615384615384617,1.4256410256410257,1.5897435897435896,1.753846153846154,1.917948717948718],\"y\":[5.25735143426257,3.6708157138598785,3.8245414555028328,1.6016912274966626,1.1472997673913685,1.8382649976280168,0.49698212019801924,1.6163947383256363,0.8976730478455687,1.6541027562702482,0.0326428817608998,0.7730940353171883,-0.7539208123771904,-1.0225585662657395,-1.7526180278871761,0.636966962413873,-0.024455902058816203,-1.3066215399049792,-1.8580960717245265,-2.821637859483486],\"type\":\"scatter\",\"xaxis\":\"x\",\"yaxis\":\"y\"},{\"marker\":{\"color\":\"blue\",\"opacity\":0.7},\"mode\":\"markers\",\"name\":\"Predicted Points\",\"showlegend\":false,\"x\":[-1.2,-1.0358974358974358,-0.8717948717948718,-0.7076923076923076,-0.5435897435897435,-0.37948717948717947,-0.21538461538461529,-0.05128205128205132,0.11282051282051286,0.27692307692307705,0.441025641025641,0.6051282051282052,0.7692307692307694,0.9333333333333333,1.0974358974358973,1.2615384615384617,1.4256410256410257,1.5897435897435896,1.753846153846154,1.917948717948718],\"y\":[4.11454931067463,3.6483726890656283,3.1999070185538097,2.769152299139174,2.356108530821721,1.9607757136014514,1.5831538474783642,1.2232429324524605,0.8810429685237392,0.5565539556922009,0.249775893957846,-0.039291216679326293,-0.3106473762193158,-0.5642925846621218,-0.8002268420077452,-1.018450148256186,-1.2189625034074432,-1.4017639074615178,-1.56685436041841,-1.7142338622781186],\"type\":\"scatter\",\"xaxis\":\"x\",\"yaxis\":\"y\"},{\"marker\":{\"color\":\"black\",\"opacity\":0.7},\"mode\":\"markers\",\"name\":\"Real Points\",\"showlegend\":false,\"x\":[-1.2,-1.0358974358974358,-0.8717948717948718,-0.7076923076923076,-0.5435897435897435,-0.37948717948717947,-0.21538461538461529,-0.05128205128205132,0.11282051282051286,0.27692307692307705,0.441025641025641,0.6051282051282052,0.7692307692307694,0.9333333333333333,1.0974358974358973,1.2615384615384617,1.4256410256410257,1.5897435897435896,1.753846153846154,1.917948717948718],\"y\":[5.8096,3.8381753317244733,2.522800884051074,1.7092797030916282,1.2608197821340592,1.058034061642376,0.9989404292566787,0.9989617197931566,0.9909257152440888,0.9250651447778439,0.7690176847388803,0.5078259586477458,0.14393753720107805,-0.3027950617283952,-0.7951143730918573,-1.278357984664403,-1.6804585370450331,-1.911943723656666,-1.8659362907461214,-1.418154037384138],\"type\":\"scatter\",\"xaxis\":\"x2\",\"yaxis\":\"y2\"},{\"marker\":{\"color\":\"red\",\"opacity\":0.7},\"mode\":\"markers\",\"name\":\"Observed Points\",\"showlegend\":false,\"x\":[-1.2,-1.0358974358974358,-0.8717948717948718,-0.7076923076923076,-0.5435897435897435,-0.37948717948717947,-0.21538461538461529,-0.05128205128205132,0.11282051282051286,0.27692307692307705,0.441025641025641,0.6051282051282052,0.7692307692307694,0.9333333333333333,1.0974358974358973,1.2615384615384617,1.4256410256410257,1.5897435897435896,1.753846153846154,1.917948717948718],\"y\":[5.25735143426257,3.6708157138598785,3.8245414555028328,1.6016912274966626,1.1472997673913685,1.8382649976280168,0.49698212019801924,1.6163947383256363,0.8976730478455687,1.6541027562702482,0.0326428817608998,0.7730940353171883,-0.7539208123771904,-1.0225585662657395,-1.7526180278871761,0.636966962413873,-0.024455902058816203,-1.3066215399049792,-1.8580960717245265,-2.821637859483486],\"type\":\"scatter\",\"xaxis\":\"x2\",\"yaxis\":\"y2\"},{\"marker\":{\"color\":\"blue\",\"opacity\":0.7},\"mode\":\"markers\",\"name\":\"Predicted Points\",\"showlegend\":false,\"x\":[-1.2,-1.0358974358974358,-0.8717948717948718,-0.7076923076923076,-0.5435897435897435,-0.37948717948717947,-0.21538461538461529,-0.05128205128205132,0.11282051282051286,0.27692307692307705,0.441025641025641,0.6051282051282052,0.7692307692307694,0.9333333333333333,1.0974358974358973,1.2615384615384617,1.4256410256410257,1.5897435897435896,1.753846153846154,1.917948717948718],\"y\":[4.957335760641005,3.9588729601058716,3.125978382591849,2.441257054931412,1.8873140039570426,1.4467542565012192,1.1021828393964213,0.8362047794751286,0.6314251035698201,0.47044883851297525,0.3358810111370739,0.21032664827459502,0.07639077675801792,-0.08332157658017714,-0.28620538490751146,-0.5496556213915066,-0.8910672591996809,-1.327835271499556,-1.8773546314586542,-2.557020312244493],\"type\":\"scatter\",\"xaxis\":\"x2\",\"yaxis\":\"y2\"},{\"marker\":{\"color\":\"black\",\"opacity\":0.7},\"mode\":\"markers\",\"name\":\"Real Points\",\"showlegend\":false,\"x\":[-1.2,-1.0358974358974358,-0.8717948717948718,-0.7076923076923076,-0.5435897435897435,-0.37948717948717947,-0.21538461538461529,-0.05128205128205132,0.11282051282051286,0.27692307692307705,0.441025641025641,0.6051282051282052,0.7692307692307694,0.9333333333333333,1.0974358974358973,1.2615384615384617,1.4256410256410257,1.5897435897435896,1.753846153846154,1.917948717948718],\"y\":[5.8096,3.8381753317244733,2.522800884051074,1.7092797030916282,1.2608197821340592,1.058034061642376,0.9989404292566787,0.9989617197931566,0.9909257152440888,0.9250651447778439,0.7690176847388803,0.5078259586477458,0.14393753720107805,-0.3027950617283952,-0.7951143730918573,-1.278357984664403,-1.6804585370450331,-1.911943723656666,-1.8659362907461214,-1.418154037384138],\"type\":\"scatter\",\"xaxis\":\"x3\",\"yaxis\":\"y3\"},{\"marker\":{\"color\":\"red\",\"opacity\":0.7},\"mode\":\"markers\",\"name\":\"Observed Points\",\"showlegend\":false,\"x\":[-1.2,-1.0358974358974358,-0.8717948717948718,-0.7076923076923076,-0.5435897435897435,-0.37948717948717947,-0.21538461538461529,-0.05128205128205132,0.11282051282051286,0.27692307692307705,0.441025641025641,0.6051282051282052,0.7692307692307694,0.9333333333333333,1.0974358974358973,1.2615384615384617,1.4256410256410257,1.5897435897435896,1.753846153846154,1.917948717948718],\"y\":[5.25735143426257,3.6708157138598785,3.8245414555028328,1.6016912274966626,1.1472997673913685,1.8382649976280168,0.49698212019801924,1.6163947383256363,0.8976730478455687,1.6541027562702482,0.0326428817608998,0.7730940353171883,-0.7539208123771904,-1.0225585662657395,-1.7526180278871761,0.636966962413873,-0.024455902058816203,-1.3066215399049792,-1.8580960717245265,-2.821637859483486],\"type\":\"scatter\",\"xaxis\":\"x3\",\"yaxis\":\"y3\"},{\"marker\":{\"color\":\"blue\",\"opacity\":0.7},\"mode\":\"markers\",\"name\":\"Predicted Points\",\"showlegend\":false,\"x\":[-1.2,-1.0358974358974358,-0.8717948717948718,-0.7076923076923076,-0.5435897435897435,-0.37948717948717947,-0.21538461538461529,-0.05128205128205132,0.11282051282051286,0.27692307692307705,0.441025641025641,0.6051282051282052,0.7692307692307694,0.9333333333333333,1.0974358974358973,1.2615384615384617,1.4256410256410257,1.5897435897435896,1.753846153846154,1.917948717948718],\"y\":[5.074591221421966,3.9527016200647687,3.0580936421397134,2.3564313810331106,1.8154965468120468,1.4051884662243765,1.0975240826987254,0.8666379563444899,0.6887822639518376,0.5423267989917064,0.4077589716158051,0.2676838086566129,0.10682395362737984,-0.08798033327787269,-0.3277711751843536,-0.621473078536501,-0.9758929330979809,-1.3957200119516897,-1.8835259714997554,-2.439764851463528],\"type\":\"scatter\",\"xaxis\":\"x3\",\"yaxis\":\"y3\"},{\"marker\":{\"color\":\"black\",\"opacity\":0.7},\"mode\":\"markers\",\"name\":\"Real Points\",\"showlegend\":false,\"x\":[-1.2,-1.0358974358974358,-0.8717948717948718,-0.7076923076923076,-0.5435897435897435,-0.37948717948717947,-0.21538461538461529,-0.05128205128205132,0.11282051282051286,0.27692307692307705,0.441025641025641,0.6051282051282052,0.7692307692307694,0.9333333333333333,1.0974358974358973,1.2615384615384617,1.4256410256410257,1.5897435897435896,1.753846153846154,1.917948717948718],\"y\":[5.8096,3.8381753317244733,2.522800884051074,1.7092797030916282,1.2608197821340592,1.058034061642376,0.9989404292566787,0.9989617197931566,0.9909257152440888,0.9250651447778439,0.7690176847388803,0.5078259586477458,0.14393753720107805,-0.3027950617283952,-0.7951143730918573,-1.278357984664403,-1.6804585370450331,-1.911943723656666,-1.8659362907461214,-1.418154037384138],\"type\":\"scatter\",\"xaxis\":\"x4\",\"yaxis\":\"y4\"},{\"marker\":{\"color\":\"red\",\"opacity\":0.7},\"mode\":\"markers\",\"name\":\"Observed Points\",\"showlegend\":false,\"x\":[-1.2,-1.0358974358974358,-0.8717948717948718,-0.7076923076923076,-0.5435897435897435,-0.37948717948717947,-0.21538461538461529,-0.05128205128205132,0.11282051282051286,0.27692307692307705,0.441025641025641,0.6051282051282052,0.7692307692307694,0.9333333333333333,1.0974358974358973,1.2615384615384617,1.4256410256410257,1.5897435897435896,1.753846153846154,1.917948717948718],\"y\":[5.25735143426257,3.6708157138598785,3.8245414555028328,1.6016912274966626,1.1472997673913685,1.8382649976280168,0.49698212019801924,1.6163947383256363,0.8976730478455687,1.6541027562702482,0.0326428817608998,0.7730940353171883,-0.7539208123771904,-1.0225585662657395,-1.7526180278871761,0.636966962413873,-0.024455902058816203,-1.3066215399049792,-1.8580960717245265,-2.821637859483486],\"type\":\"scatter\",\"xaxis\":\"x4\",\"yaxis\":\"y4\"},{\"marker\":{\"color\":\"blue\",\"opacity\":0.7},\"mode\":\"markers\",\"name\":\"Predicted Points\",\"showlegend\":false,\"x\":[-1.2,-1.0358974358974358,-0.8717948717948718,-0.7076923076923076,-0.5435897435897435,-0.37948717948717947,-0.21538461538461529,-0.05128205128205132,0.11282051282051286,0.27692307692307705,0.441025641025641,0.6051282051282052,0.7692307692307694,0.9333333333333333,1.0974358974358973,1.2615384615384617,1.4256410256410257,1.5897435897435896,1.753846153846154,1.917948717948718],\"y\":[5.517941693453977,3.6960250309935985,2.645855483934505,2.0768780906187025,1.7727171153001862,1.5815678335807675,1.4065883178459155,1.196291222700597,0.9349355704051134,0.6329185363109409,0.31716723429656835,0.021530502203335244,-0.22282931272872863,-0.39704456842506375,-0.5041505425407449,-0.5786936470246397,-0.6963396426835735,-0.9834818537464818,-1.626849382428592,-2.8831153234955504],\"type\":\"scatter\",\"xaxis\":\"x4\",\"yaxis\":\"y4\"},{\"marker\":{\"color\":\"black\",\"opacity\":0.7},\"mode\":\"markers\",\"name\":\"Real Points\",\"showlegend\":false,\"x\":[-1.2,-1.0358974358974358,-0.8717948717948718,-0.7076923076923076,-0.5435897435897435,-0.37948717948717947,-0.21538461538461529,-0.05128205128205132,0.11282051282051286,0.27692307692307705,0.441025641025641,0.6051282051282052,0.7692307692307694,0.9333333333333333,1.0974358974358973,1.2615384615384617,1.4256410256410257,1.5897435897435896,1.753846153846154,1.917948717948718],\"y\":[5.8096,3.8381753317244733,2.522800884051074,1.7092797030916282,1.2608197821340592,1.058034061642376,0.9989404292566787,0.9989617197931566,0.9909257152440888,0.9250651447778439,0.7690176847388803,0.5078259586477458,0.14393753720107805,-0.3027950617283952,-0.7951143730918573,-1.278357984664403,-1.6804585370450331,-1.911943723656666,-1.8659362907461214,-1.418154037384138],\"type\":\"scatter\",\"xaxis\":\"x5\",\"yaxis\":\"y5\"},{\"marker\":{\"color\":\"red\",\"opacity\":0.7},\"mode\":\"markers\",\"name\":\"Observed Points\",\"showlegend\":false,\"x\":[-1.2,-1.0358974358974358,-0.8717948717948718,-0.7076923076923076,-0.5435897435897435,-0.37948717948717947,-0.21538461538461529,-0.05128205128205132,0.11282051282051286,0.27692307692307705,0.441025641025641,0.6051282051282052,0.7692307692307694,0.9333333333333333,1.0974358974358973,1.2615384615384617,1.4256410256410257,1.5897435897435896,1.753846153846154,1.917948717948718],\"y\":[5.25735143426257,3.6708157138598785,3.8245414555028328,1.6016912274966626,1.1472997673913685,1.8382649976280168,0.49698212019801924,1.6163947383256363,0.8976730478455687,1.6541027562702482,0.0326428817608998,0.7730940353171883,-0.7539208123771904,-1.0225585662657395,-1.7526180278871761,0.636966962413873,-0.024455902058816203,-1.3066215399049792,-1.8580960717245265,-2.821637859483486],\"type\":\"scatter\",\"xaxis\":\"x5\",\"yaxis\":\"y5\"},{\"marker\":{\"color\":\"blue\",\"opacity\":0.7},\"mode\":\"markers\",\"name\":\"Predicted Points\",\"showlegend\":false,\"x\":[-1.2,-1.0358974358974358,-0.8717948717948718,-0.7076923076923076,-0.5435897435897435,-0.37948717948717947,-0.21538461538461529,-0.05128205128205132,0.11282051282051286,0.27692307692307705,0.441025641025641,0.6051282051282052,0.7692307692307694,0.9333333333333333,1.0974358974358973,1.2615384615384617,1.4256410256410257,1.5897435897435896,1.753846153846154,1.917948717948718],\"y\":[5.261699064258293,4.00621347686207,2.8931071436847318,2.0760847697852767,1.5747835673610968,1.3262507453574002,1.2276944699089822,1.1705082956143396,1.0655690676421288,0.8598082946699699,0.5440569926555969,0.1521639994403492,-0.24861223981498792,-0.5759384163620007,-0.7594676307641208,-0.7766271949637442,-0.6971329635170296,-0.7362301939963238,-1.3166609365602397,-3.1393579526914266],\"type\":\"scatter\",\"xaxis\":\"x5\",\"yaxis\":\"y5\"},{\"marker\":{\"color\":\"black\",\"opacity\":0.7},\"mode\":\"markers\",\"name\":\"Real Points\",\"showlegend\":false,\"x\":[-1.2,-1.0358974358974358,-0.8717948717948718,-0.7076923076923076,-0.5435897435897435,-0.37948717948717947,-0.21538461538461529,-0.05128205128205132,0.11282051282051286,0.27692307692307705,0.441025641025641,0.6051282051282052,0.7692307692307694,0.9333333333333333,1.0974358974358973,1.2615384615384617,1.4256410256410257,1.5897435897435896,1.753846153846154,1.917948717948718],\"y\":[5.8096,3.8381753317244733,2.522800884051074,1.7092797030916282,1.2608197821340592,1.058034061642376,0.9989404292566787,0.9989617197931566,0.9909257152440888,0.9250651447778439,0.7690176847388803,0.5078259586477458,0.14393753720107805,-0.3027950617283952,-0.7951143730918573,-1.278357984664403,-1.6804585370450331,-1.911943723656666,-1.8659362907461214,-1.418154037384138],\"type\":\"scatter\",\"xaxis\":\"x6\",\"yaxis\":\"y6\"},{\"marker\":{\"color\":\"red\",\"opacity\":0.7},\"mode\":\"markers\",\"name\":\"Observed Points\",\"showlegend\":false,\"x\":[-1.2,-1.0358974358974358,-0.8717948717948718,-0.7076923076923076,-0.5435897435897435,-0.37948717948717947,-0.21538461538461529,-0.05128205128205132,0.11282051282051286,0.27692307692307705,0.441025641025641,0.6051282051282052,0.7692307692307694,0.9333333333333333,1.0974358974358973,1.2615384615384617,1.4256410256410257,1.5897435897435896,1.753846153846154,1.917948717948718],\"y\":[5.25735143426257,3.6708157138598785,3.8245414555028328,1.6016912274966626,1.1472997673913685,1.8382649976280168,0.49698212019801924,1.6163947383256363,0.8976730478455687,1.6541027562702482,0.0326428817608998,0.7730940353171883,-0.7539208123771904,-1.0225585662657395,-1.7526180278871761,0.636966962413873,-0.024455902058816203,-1.3066215399049792,-1.8580960717245265,-2.821637859483486],\"type\":\"scatter\",\"xaxis\":\"x6\",\"yaxis\":\"y6\"},{\"marker\":{\"color\":\"blue\",\"opacity\":0.7},\"mode\":\"markers\",\"name\":\"Predicted Points\",\"showlegend\":false,\"x\":[-1.2,-1.0358974358974358,-0.8717948717948718,-0.7076923076923076,-0.5435897435897435,-0.37948717948717947,-0.21538461538461529,-0.05128205128205132,0.11282051282051286,0.27692307692307705,0.441025641025641,0.6051282051282052,0.7692307692307694,0.9333333333333333,1.0974358974358973,1.2615384615384617,1.4256410256410257,1.5897435897435896,1.753846153846154,1.917948717948718],\"y\":[5.04802018467239,4.422324979213581,2.994323455067539,1.8438826436718063,1.2800654842170713,1.198241880961508,1.3338723651830904,1.427518341184381,1.315632895764333,0.9616861505716109,0.4421791367539625,-0.09789982868184932,-0.5056222853850252,-0.6821163116361033,-0.631458766368219,-0.48190911181969653,-0.46493083740352503,-0.8374465053790487,-1.7327724389116312,-2.925679073105357],\"type\":\"scatter\",\"xaxis\":\"x6\",\"yaxis\":\"y6\"}],                        {\"template\":{\"data\":{\"barpolar\":[{\"marker\":{\"line\":{\"color\":\"white\",\"width\":0.5},\"pattern\":{\"fillmode\":\"overlay\",\"size\":10,\"solidity\":0.2}},\"type\":\"barpolar\"}],\"bar\":[{\"error_x\":{\"color\":\"rgb(36,36,36)\"},\"error_y\":{\"color\":\"rgb(36,36,36)\"},\"marker\":{\"line\":{\"color\":\"white\",\"width\":0.5},\"pattern\":{\"fillmode\":\"overlay\",\"size\":10,\"solidity\":0.2}},\"type\":\"bar\"}],\"carpet\":[{\"aaxis\":{\"endlinecolor\":\"rgb(36,36,36)\",\"gridcolor\":\"white\",\"linecolor\":\"white\",\"minorgridcolor\":\"white\",\"startlinecolor\":\"rgb(36,36,36)\"},\"baxis\":{\"endlinecolor\":\"rgb(36,36,36)\",\"gridcolor\":\"white\",\"linecolor\":\"white\",\"minorgridcolor\":\"white\",\"startlinecolor\":\"rgb(36,36,36)\"},\"type\":\"carpet\"}],\"choropleth\":[{\"colorbar\":{\"outlinewidth\":1,\"tickcolor\":\"rgb(36,36,36)\",\"ticks\":\"outside\"},\"type\":\"choropleth\"}],\"contourcarpet\":[{\"colorbar\":{\"outlinewidth\":1,\"tickcolor\":\"rgb(36,36,36)\",\"ticks\":\"outside\"},\"type\":\"contourcarpet\"}],\"contour\":[{\"colorbar\":{\"outlinewidth\":1,\"tickcolor\":\"rgb(36,36,36)\",\"ticks\":\"outside\"},\"colorscale\":[[0.0,\"#440154\"],[0.1111111111111111,\"#482878\"],[0.2222222222222222,\"#3e4989\"],[0.3333333333333333,\"#31688e\"],[0.4444444444444444,\"#26828e\"],[0.5555555555555556,\"#1f9e89\"],[0.6666666666666666,\"#35b779\"],[0.7777777777777778,\"#6ece58\"],[0.8888888888888888,\"#b5de2b\"],[1.0,\"#fde725\"]],\"type\":\"contour\"}],\"heatmapgl\":[{\"colorbar\":{\"outlinewidth\":1,\"tickcolor\":\"rgb(36,36,36)\",\"ticks\":\"outside\"},\"colorscale\":[[0.0,\"#440154\"],[0.1111111111111111,\"#482878\"],[0.2222222222222222,\"#3e4989\"],[0.3333333333333333,\"#31688e\"],[0.4444444444444444,\"#26828e\"],[0.5555555555555556,\"#1f9e89\"],[0.6666666666666666,\"#35b779\"],[0.7777777777777778,\"#6ece58\"],[0.8888888888888888,\"#b5de2b\"],[1.0,\"#fde725\"]],\"type\":\"heatmapgl\"}],\"heatmap\":[{\"colorbar\":{\"outlinewidth\":1,\"tickcolor\":\"rgb(36,36,36)\",\"ticks\":\"outside\"},\"colorscale\":[[0.0,\"#440154\"],[0.1111111111111111,\"#482878\"],[0.2222222222222222,\"#3e4989\"],[0.3333333333333333,\"#31688e\"],[0.4444444444444444,\"#26828e\"],[0.5555555555555556,\"#1f9e89\"],[0.6666666666666666,\"#35b779\"],[0.7777777777777778,\"#6ece58\"],[0.8888888888888888,\"#b5de2b\"],[1.0,\"#fde725\"]],\"type\":\"heatmap\"}],\"histogram2dcontour\":[{\"colorbar\":{\"outlinewidth\":1,\"tickcolor\":\"rgb(36,36,36)\",\"ticks\":\"outside\"},\"colorscale\":[[0.0,\"#440154\"],[0.1111111111111111,\"#482878\"],[0.2222222222222222,\"#3e4989\"],[0.3333333333333333,\"#31688e\"],[0.4444444444444444,\"#26828e\"],[0.5555555555555556,\"#1f9e89\"],[0.6666666666666666,\"#35b779\"],[0.7777777777777778,\"#6ece58\"],[0.8888888888888888,\"#b5de2b\"],[1.0,\"#fde725\"]],\"type\":\"histogram2dcontour\"}],\"histogram2d\":[{\"colorbar\":{\"outlinewidth\":1,\"tickcolor\":\"rgb(36,36,36)\",\"ticks\":\"outside\"},\"colorscale\":[[0.0,\"#440154\"],[0.1111111111111111,\"#482878\"],[0.2222222222222222,\"#3e4989\"],[0.3333333333333333,\"#31688e\"],[0.4444444444444444,\"#26828e\"],[0.5555555555555556,\"#1f9e89\"],[0.6666666666666666,\"#35b779\"],[0.7777777777777778,\"#6ece58\"],[0.8888888888888888,\"#b5de2b\"],[1.0,\"#fde725\"]],\"type\":\"histogram2d\"}],\"histogram\":[{\"marker\":{\"line\":{\"color\":\"white\",\"width\":0.6}},\"type\":\"histogram\"}],\"mesh3d\":[{\"colorbar\":{\"outlinewidth\":1,\"tickcolor\":\"rgb(36,36,36)\",\"ticks\":\"outside\"},\"type\":\"mesh3d\"}],\"parcoords\":[{\"line\":{\"colorbar\":{\"outlinewidth\":1,\"tickcolor\":\"rgb(36,36,36)\",\"ticks\":\"outside\"}},\"type\":\"parcoords\"}],\"pie\":[{\"automargin\":true,\"type\":\"pie\"}],\"scatter3d\":[{\"line\":{\"colorbar\":{\"outlinewidth\":1,\"tickcolor\":\"rgb(36,36,36)\",\"ticks\":\"outside\"}},\"marker\":{\"colorbar\":{\"outlinewidth\":1,\"tickcolor\":\"rgb(36,36,36)\",\"ticks\":\"outside\"}},\"type\":\"scatter3d\"}],\"scattercarpet\":[{\"marker\":{\"colorbar\":{\"outlinewidth\":1,\"tickcolor\":\"rgb(36,36,36)\",\"ticks\":\"outside\"}},\"type\":\"scattercarpet\"}],\"scattergeo\":[{\"marker\":{\"colorbar\":{\"outlinewidth\":1,\"tickcolor\":\"rgb(36,36,36)\",\"ticks\":\"outside\"}},\"type\":\"scattergeo\"}],\"scattergl\":[{\"marker\":{\"colorbar\":{\"outlinewidth\":1,\"tickcolor\":\"rgb(36,36,36)\",\"ticks\":\"outside\"}},\"type\":\"scattergl\"}],\"scattermapbox\":[{\"marker\":{\"colorbar\":{\"outlinewidth\":1,\"tickcolor\":\"rgb(36,36,36)\",\"ticks\":\"outside\"}},\"type\":\"scattermapbox\"}],\"scatterpolargl\":[{\"marker\":{\"colorbar\":{\"outlinewidth\":1,\"tickcolor\":\"rgb(36,36,36)\",\"ticks\":\"outside\"}},\"type\":\"scatterpolargl\"}],\"scatterpolar\":[{\"marker\":{\"colorbar\":{\"outlinewidth\":1,\"tickcolor\":\"rgb(36,36,36)\",\"ticks\":\"outside\"}},\"type\":\"scatterpolar\"}],\"scatter\":[{\"marker\":{\"colorbar\":{\"outlinewidth\":1,\"tickcolor\":\"rgb(36,36,36)\",\"ticks\":\"outside\"}},\"type\":\"scatter\"}],\"scatterternary\":[{\"marker\":{\"colorbar\":{\"outlinewidth\":1,\"tickcolor\":\"rgb(36,36,36)\",\"ticks\":\"outside\"}},\"type\":\"scatterternary\"}],\"surface\":[{\"colorbar\":{\"outlinewidth\":1,\"tickcolor\":\"rgb(36,36,36)\",\"ticks\":\"outside\"},\"colorscale\":[[0.0,\"#440154\"],[0.1111111111111111,\"#482878\"],[0.2222222222222222,\"#3e4989\"],[0.3333333333333333,\"#31688e\"],[0.4444444444444444,\"#26828e\"],[0.5555555555555556,\"#1f9e89\"],[0.6666666666666666,\"#35b779\"],[0.7777777777777778,\"#6ece58\"],[0.8888888888888888,\"#b5de2b\"],[1.0,\"#fde725\"]],\"type\":\"surface\"}],\"table\":[{\"cells\":{\"fill\":{\"color\":\"rgb(237,237,237)\"},\"line\":{\"color\":\"white\"}},\"header\":{\"fill\":{\"color\":\"rgb(217,217,217)\"},\"line\":{\"color\":\"white\"}},\"type\":\"table\"}]},\"layout\":{\"annotationdefaults\":{\"arrowhead\":0,\"arrowwidth\":1},\"autotypenumbers\":\"strict\",\"coloraxis\":{\"colorbar\":{\"outlinewidth\":1,\"tickcolor\":\"rgb(36,36,36)\",\"ticks\":\"outside\"}},\"colorscale\":{\"diverging\":[[0.0,\"rgb(103,0,31)\"],[0.1,\"rgb(178,24,43)\"],[0.2,\"rgb(214,96,77)\"],[0.3,\"rgb(244,165,130)\"],[0.4,\"rgb(253,219,199)\"],[0.5,\"rgb(247,247,247)\"],[0.6,\"rgb(209,229,240)\"],[0.7,\"rgb(146,197,222)\"],[0.8,\"rgb(67,147,195)\"],[0.9,\"rgb(33,102,172)\"],[1.0,\"rgb(5,48,97)\"]],\"sequential\":[[0.0,\"#440154\"],[0.1111111111111111,\"#482878\"],[0.2222222222222222,\"#3e4989\"],[0.3333333333333333,\"#31688e\"],[0.4444444444444444,\"#26828e\"],[0.5555555555555556,\"#1f9e89\"],[0.6666666666666666,\"#35b779\"],[0.7777777777777778,\"#6ece58\"],[0.8888888888888888,\"#b5de2b\"],[1.0,\"#fde725\"]],\"sequentialminus\":[[0.0,\"#440154\"],[0.1111111111111111,\"#482878\"],[0.2222222222222222,\"#3e4989\"],[0.3333333333333333,\"#31688e\"],[0.4444444444444444,\"#26828e\"],[0.5555555555555556,\"#1f9e89\"],[0.6666666666666666,\"#35b779\"],[0.7777777777777778,\"#6ece58\"],[0.8888888888888888,\"#b5de2b\"],[1.0,\"#fde725\"]]},\"colorway\":[\"#1F77B4\",\"#FF7F0E\",\"#2CA02C\",\"#D62728\",\"#9467BD\",\"#8C564B\",\"#E377C2\",\"#7F7F7F\",\"#BCBD22\",\"#17BECF\"],\"font\":{\"color\":\"rgb(36,36,36)\"},\"geo\":{\"bgcolor\":\"white\",\"lakecolor\":\"white\",\"landcolor\":\"white\",\"showlakes\":true,\"showland\":true,\"subunitcolor\":\"white\"},\"hoverlabel\":{\"align\":\"left\"},\"hovermode\":\"closest\",\"mapbox\":{\"style\":\"light\"},\"paper_bgcolor\":\"white\",\"plot_bgcolor\":\"white\",\"polar\":{\"angularaxis\":{\"gridcolor\":\"rgb(232,232,232)\",\"linecolor\":\"rgb(36,36,36)\",\"showgrid\":false,\"showline\":true,\"ticks\":\"outside\"},\"bgcolor\":\"white\",\"radialaxis\":{\"gridcolor\":\"rgb(232,232,232)\",\"linecolor\":\"rgb(36,36,36)\",\"showgrid\":false,\"showline\":true,\"ticks\":\"outside\"}},\"scene\":{\"xaxis\":{\"backgroundcolor\":\"white\",\"gridcolor\":\"rgb(232,232,232)\",\"gridwidth\":2,\"linecolor\":\"rgb(36,36,36)\",\"showbackground\":true,\"showgrid\":false,\"showline\":true,\"ticks\":\"outside\",\"zeroline\":false,\"zerolinecolor\":\"rgb(36,36,36)\"},\"yaxis\":{\"backgroundcolor\":\"white\",\"gridcolor\":\"rgb(232,232,232)\",\"gridwidth\":2,\"linecolor\":\"rgb(36,36,36)\",\"showbackground\":true,\"showgrid\":false,\"showline\":true,\"ticks\":\"outside\",\"zeroline\":false,\"zerolinecolor\":\"rgb(36,36,36)\"},\"zaxis\":{\"backgroundcolor\":\"white\",\"gridcolor\":\"rgb(232,232,232)\",\"gridwidth\":2,\"linecolor\":\"rgb(36,36,36)\",\"showbackground\":true,\"showgrid\":false,\"showline\":true,\"ticks\":\"outside\",\"zeroline\":false,\"zerolinecolor\":\"rgb(36,36,36)\"}},\"shapedefaults\":{\"fillcolor\":\"black\",\"line\":{\"width\":0},\"opacity\":0.3},\"ternary\":{\"aaxis\":{\"gridcolor\":\"rgb(232,232,232)\",\"linecolor\":\"rgb(36,36,36)\",\"showgrid\":false,\"showline\":true,\"ticks\":\"outside\"},\"baxis\":{\"gridcolor\":\"rgb(232,232,232)\",\"linecolor\":\"rgb(36,36,36)\",\"showgrid\":false,\"showline\":true,\"ticks\":\"outside\"},\"bgcolor\":\"white\",\"caxis\":{\"gridcolor\":\"rgb(232,232,232)\",\"linecolor\":\"rgb(36,36,36)\",\"showgrid\":false,\"showline\":true,\"ticks\":\"outside\"}},\"title\":{\"x\":0.05},\"xaxis\":{\"automargin\":true,\"gridcolor\":\"rgb(232,232,232)\",\"linecolor\":\"rgb(36,36,36)\",\"showgrid\":false,\"showline\":true,\"ticks\":\"outside\",\"title\":{\"standoff\":15},\"zeroline\":false,\"zerolinecolor\":\"rgb(36,36,36)\"},\"yaxis\":{\"automargin\":true,\"gridcolor\":\"rgb(232,232,232)\",\"linecolor\":\"rgb(36,36,36)\",\"showgrid\":false,\"showline\":true,\"ticks\":\"outside\",\"title\":{\"standoff\":15},\"zeroline\":false,\"zerolinecolor\":\"rgb(36,36,36)\"},\"margin\":{\"b\":0,\"l\":20,\"r\":20,\"t\":40}}},\"xaxis\":{\"anchor\":\"y\",\"domain\":[0.0,0.2888888888888889]},\"yaxis\":{\"anchor\":\"x\",\"domain\":[0.625,1.0]},\"xaxis2\":{\"anchor\":\"y2\",\"domain\":[0.35555555555555557,0.6444444444444445]},\"yaxis2\":{\"anchor\":\"x2\",\"domain\":[0.625,1.0]},\"xaxis3\":{\"anchor\":\"y3\",\"domain\":[0.7111111111111111,1.0]},\"yaxis3\":{\"anchor\":\"x3\",\"domain\":[0.625,1.0]},\"xaxis4\":{\"anchor\":\"y4\",\"domain\":[0.0,0.2888888888888889]},\"yaxis4\":{\"anchor\":\"x4\",\"domain\":[0.0,0.375]},\"xaxis5\":{\"anchor\":\"y5\",\"domain\":[0.35555555555555557,0.6444444444444445]},\"yaxis5\":{\"anchor\":\"x5\",\"domain\":[0.0,0.375]},\"xaxis6\":{\"anchor\":\"y6\",\"domain\":[0.7111111111111111,1.0]},\"yaxis6\":{\"anchor\":\"x6\",\"domain\":[0.0,0.375]},\"annotations\":[{\"font\":{\"size\":16},\"showarrow\":false,\"text\":\"$k=2, MSE=0.73$\",\"x\":0.14444444444444446,\"xanchor\":\"center\",\"xref\":\"paper\",\"y\":1.0,\"yanchor\":\"bottom\",\"yref\":\"paper\"},{\"font\":{\"size\":16},\"showarrow\":false,\"text\":\"$k=3, MSE=0.54$\",\"x\":0.5,\"xanchor\":\"center\",\"xref\":\"paper\",\"y\":1.0,\"yanchor\":\"bottom\",\"yref\":\"paper\"},{\"font\":{\"size\":16},\"showarrow\":false,\"text\":\"$k=4, MSE=0.54$\",\"x\":0.8555555555555556,\"xanchor\":\"center\",\"xref\":\"paper\",\"y\":1.0,\"yanchor\":\"bottom\",\"yref\":\"paper\"},{\"font\":{\"size\":16},\"showarrow\":false,\"text\":\"$k=5, MSE=0.46$\",\"x\":0.14444444444444446,\"xanchor\":\"center\",\"xref\":\"paper\",\"y\":0.375,\"yanchor\":\"bottom\",\"yref\":\"paper\"},{\"font\":{\"size\":16},\"showarrow\":false,\"text\":\"$k=6, MSE=0.42$\",\"x\":0.5,\"xanchor\":\"center\",\"xref\":\"paper\",\"y\":0.375,\"yanchor\":\"bottom\",\"yref\":\"paper\"},{\"font\":{\"size\":16},\"showarrow\":false,\"text\":\"$k=7, MSE=0.36$\",\"x\":0.8555555555555556,\"xanchor\":\"center\",\"xref\":\"paper\",\"y\":0.375,\"yanchor\":\"bottom\",\"yref\":\"paper\"}],\"margin\":{\"t\":80},\"title\":{\"text\":\"$\\\\text{(4) Simulated Data With Noise - Fitting Polynomials of Different Degrees}$\"}},                        {\"responsive\": true}                    ).then(function(){\n                            \nvar gd = document.getElementById('a4800eb3-650b-4b14-ab84-0c717d1607d3');\nvar x = new MutationObserver(function (mutations, observer) {{\n        var display = window.getComputedStyle(gd).display;\n        if (!display || display === 'none') {{\n            console.log([gd, 'removed!']);\n            Plotly.purge(gd);\n            observer.disconnect();\n        }}\n}});\n\n// Listen for the removal of the full notebook cells\nvar notebookContainer = gd.closest('#notebook-container');\nif (notebookContainer) {{\n    x.observe(notebookContainer, {childList: true});\n}}\n\n// Listen for the clearing of the current output cell\nvar outputEl = gd.closest('.output');\nif (outputEl) {{\n    x.observe(outputEl, {childList: true});\n}}\n\n                        })                };                });            </script>        </div>"
     },
     "metadata": {},
     "output_type": "display_data"
    }
   ],
   "source": [
    "y = y_ + np.random.normal(size=len(y_))\n",
    "\n",
    "ks = range(2, 8)\n",
    "fig = make_subplots(2, 3, subplot_titles=list(ks))\n",
    "for i, k in enumerate(ks):\n",
    "    r,c = i//3+1, i%3+1 \n",
    "    \n",
    "    y_hat = make_pipeline(PolynomialFeatures(k), LinearRegression(fit_intercept=False)).fit(X, y).predict(X)\n",
    "    fig.add_traces([go.Scatter(x=x, y=y_, mode=\"markers\", name=\"Real Points\",  marker=dict(color=\"black\", opacity=.7), showlegend=False),\n",
    "                    go.Scatter(x=x, y=y, mode=\"markers\", name=\"Observed Points\",  marker=dict(color=\"red\", opacity=.7), showlegend=False), \n",
    "                    go.Scatter(x=x, y=y_hat, mode=\"markers\", name=\"Predicted Points\",  marker=dict(color=\"blue\", opacity=.7), showlegend=False)], rows=r, cols=c)\n",
    "    fig[\"layout\"][\"annotations\"][i][\"text\"] = rf\"$k={{0}}, MSE={{1}}$\".format(k, round(np.mean((y-y_hat)**2), 2))\n",
    "\n",
    "fig.update_layout(title=r\"$\\text{(4) Simulated Data With Noise - Fitting Polynomials of Different Degrees}$\", margin=dict(t=80)).show()"
   ]
  },
  {
   "cell_type": "markdown",
   "metadata": {
    "pycharm": {
     "name": "#%% md\n"
    }
   },
   "source": [
    "How is it that we are able to fit \"better\" models for $k$s larger than the true one? As we increase $k$ we enable the model\n",
    "more \"degrees of freedom\" to try and adapt itself to the observed data. The higher $k$ the more the learner will \"go after\n",
    "the noise\" and miss the real signal of the data. In other words, what we have just observed is what is known as **overfitting**.\n",
    "\n",
    "Later in the course we will learn methods for detection and avoidance of overfitting.\n",
    "\n",
    "\n",
    "## Fitting Polynomial Over Different Sample Noise Levels\n",
    "\n",
    "Next, let us set $k=4$ (the true values) and study the outputted models when training over different noise levels. Though\n",
    "we will only be changing the scale of the noise (i.e. the variance, $\\sigma^2$), changing other properties such as its\n",
    "distribution is interesting too. As we would expect, as we increase the scale of the noise our error increases. We can\n",
    "observe this also in a visual manner, where the fitted polynomial (in blue) less and less resembles the actual model (in black)."
   ]
  },
  {
   "cell_type": "code",
   "execution_count": 25,
   "metadata": {
    "pycharm": {
     "name": "#%%\n"
    }
   },
   "outputs": [
    {
     "data": {
      "application/vnd.plotly.v1+json": {
       "data": [
        {
         "marker": {
          "color": "black",
          "opacity": 0.7
         },
         "mode": "markers",
         "name": "Real Points",
         "showlegend": false,
         "x": [
          -1.2,
          -1.0358974358974358,
          -0.8717948717948718,
          -0.7076923076923076,
          -0.5435897435897435,
          -0.37948717948717947,
          -0.21538461538461529,
          -0.05128205128205132,
          0.11282051282051286,
          0.27692307692307705,
          0.441025641025641,
          0.6051282051282052,
          0.7692307692307694,
          0.9333333333333333,
          1.0974358974358973,
          1.2615384615384617,
          1.4256410256410257,
          1.5897435897435896,
          1.753846153846154,
          1.917948717948718
         ],
         "y": [
          5.8096,
          3.8381753317244733,
          2.522800884051074,
          1.7092797030916282,
          1.2608197821340592,
          1.058034061642376,
          0.9989404292566787,
          0.9989617197931566,
          0.9909257152440888,
          0.9250651447778439,
          0.7690176847388803,
          0.5078259586477458,
          0.14393753720107805,
          -0.3027950617283952,
          -0.7951143730918573,
          -1.278357984664403,
          -1.6804585370450331,
          -1.911943723656666,
          -1.8659362907461214,
          -1.418154037384138
         ],
         "type": "scatter",
         "xaxis": "x",
         "yaxis": "y"
        },
        {
         "marker": {
          "color": "red",
          "opacity": 0.7
         },
         "mode": "markers",
         "name": "Observed Points",
         "showlegend": false,
         "x": [
          -1.2,
          -1.0358974358974358,
          -0.8717948717948718,
          -0.7076923076923076,
          -0.5435897435897435,
          -0.37948717948717947,
          -0.21538461538461529,
          -0.05128205128205132,
          0.11282051282051286,
          0.27692307692307705,
          0.441025641025641,
          0.6051282051282052,
          0.7692307692307694,
          0.9333333333333333,
          1.0974358974358973,
          1.2615384615384617,
          1.4256410256410257,
          1.5897435897435896,
          1.753846153846154,
          1.917948717948718
         ],
         "y": [
          5.8096,
          3.8381753317244733,
          2.522800884051074,
          1.7092797030916282,
          1.2608197821340592,
          1.058034061642376,
          0.9989404292566787,
          0.9989617197931566,
          0.9909257152440888,
          0.9250651447778439,
          0.7690176847388803,
          0.5078259586477458,
          0.14393753720107805,
          -0.3027950617283952,
          -0.7951143730918573,
          -1.278357984664403,
          -1.6804585370450331,
          -1.911943723656666,
          -1.8659362907461214,
          -1.418154037384138
         ],
         "type": "scatter",
         "xaxis": "x",
         "yaxis": "y"
        },
        {
         "marker": {
          "color": "blue",
          "opacity": 0.7
         },
         "mode": "markers",
         "name": "Predicted Points",
         "showlegend": false,
         "x": [
          -1.2,
          -1.0358974358974358,
          -0.8717948717948718,
          -0.7076923076923076,
          -0.5435897435897435,
          -0.37948717948717947,
          -0.21538461538461529,
          -0.05128205128205132,
          0.11282051282051286,
          0.27692307692307705,
          0.441025641025641,
          0.6051282051282052,
          0.7692307692307694,
          0.9333333333333333,
          1.0974358974358973,
          1.2615384615384617,
          1.4256410256410257,
          1.5897435897435896,
          1.753846153846154,
          1.917948717948718
         ],
         "y": [
          5.8096,
          3.8381753317244733,
          2.522800884051074,
          1.7092797030916287,
          1.26081978213406,
          1.0580340616423773,
          0.9989404292566801,
          0.9989617197931581,
          0.9909257152440903,
          0.9250651447778453,
          0.7690176847388817,
          0.5078259586477468,
          0.1439375372010787,
          -0.30279506172839477,
          -0.7951143730918568,
          -1.2783579846644035,
          -1.680458537045034,
          -1.911943723656666,
          -1.8659362907461219,
          -1.418154037384138
         ],
         "type": "scatter",
         "xaxis": "x",
         "yaxis": "y"
        },
        {
         "marker": {
          "color": "black",
          "opacity": 0.7
         },
         "mode": "markers",
         "name": "Real Points",
         "showlegend": false,
         "x": [
          -1.2,
          -1.0358974358974358,
          -0.8717948717948718,
          -0.7076923076923076,
          -0.5435897435897435,
          -0.37948717948717947,
          -0.21538461538461529,
          -0.05128205128205132,
          0.11282051282051286,
          0.27692307692307705,
          0.441025641025641,
          0.6051282051282052,
          0.7692307692307694,
          0.9333333333333333,
          1.0974358974358973,
          1.2615384615384617,
          1.4256410256410257,
          1.5897435897435896,
          1.753846153846154,
          1.917948717948718
         ],
         "y": [
          5.8096,
          3.8381753317244733,
          2.522800884051074,
          1.7092797030916282,
          1.2608197821340592,
          1.058034061642376,
          0.9989404292566787,
          0.9989617197931566,
          0.9909257152440888,
          0.9250651447778439,
          0.7690176847388803,
          0.5078259586477458,
          0.14393753720107805,
          -0.3027950617283952,
          -0.7951143730918573,
          -1.278357984664403,
          -1.6804585370450331,
          -1.911943723656666,
          -1.8659362907461214,
          -1.418154037384138
         ],
         "type": "scatter",
         "xaxis": "x2",
         "yaxis": "y2"
        },
        {
         "marker": {
          "color": "red",
          "opacity": 0.7
         },
         "mode": "markers",
         "name": "Observed Points",
         "showlegend": false,
         "x": [
          -1.2,
          -1.0358974358974358,
          -0.8717948717948718,
          -0.7076923076923076,
          -0.5435897435897435,
          -0.37948717948717947,
          -0.21538461538461529,
          -0.05128205128205132,
          0.11282051282051286,
          0.27692307692307705,
          0.441025641025641,
          0.6051282051282052,
          0.7692307692307694,
          0.9333333333333333,
          1.0974358974358973,
          1.2615384615384617,
          1.4256410256410257,
          1.5897435897435896,
          1.753846153846154,
          1.917948717948718
         ],
         "y": [
          4.935797663130292,
          2.8681083451734013,
          2.4527921624779534,
          2.309839742494319,
          1.9411539217545408,
          0.9894245353670036,
          1.0966365693611446,
          0.7314667207291963,
          1.391263247563256,
          1.900163741457007,
          0.5894054319304174,
          0.7799210728618864,
          0.9492100551961719,
          0.3566561693150816,
          -2.554283237175616,
          -2.1997238507726182,
          -0.46048515916364985,
          -2.2692527660829755,
          -3.1036709192620218,
          -2.3392620460692797
         ],
         "type": "scatter",
         "xaxis": "x2",
         "yaxis": "y2"
        },
        {
         "marker": {
          "color": "blue",
          "opacity": 0.7
         },
         "mode": "markers",
         "name": "Predicted Points",
         "showlegend": false,
         "x": [
          -1.2,
          -1.0358974358974358,
          -0.8717948717948718,
          -0.7076923076923076,
          -0.5435897435897435,
          -0.37948717948717947,
          -0.21538461538461529,
          -0.05128205128205132,
          0.11282051282051286,
          0.27692307692307705,
          0.441025641025641,
          0.6051282051282052,
          0.7692307692307694,
          0.9333333333333333,
          1.0974358974358973,
          1.2615384615384617,
          1.4256410256410257,
          1.5897435897435896,
          1.753846153846154,
          1.917948717948718
         ],
         "y": [
          4.80104485264488,
          3.3369330727801496,
          2.3830734886372382,
          1.813187513040251,
          1.5153578690729748,
          1.3920285900788696,
          1.3600050196610705,
          1.3504538116823885,
          1.3089029302653088,
          1.1952416497919927,
          0.9837205549042767,
          0.6629515405036714,
          0.23590781175136377,
          -0.2800761159317837,
          -0.8533044168652344,
          -1.4377199551087778,
          -1.9729042844625244,
          -2.3840776484669135,
          -2.5820989804027015,
          -2.4634659032909845
         ],
         "type": "scatter",
         "xaxis": "x2",
         "yaxis": "y2"
        },
        {
         "marker": {
          "color": "black",
          "opacity": 0.7
         },
         "mode": "markers",
         "name": "Real Points",
         "showlegend": false,
         "x": [
          -1.2,
          -1.0358974358974358,
          -0.8717948717948718,
          -0.7076923076923076,
          -0.5435897435897435,
          -0.37948717948717947,
          -0.21538461538461529,
          -0.05128205128205132,
          0.11282051282051286,
          0.27692307692307705,
          0.441025641025641,
          0.6051282051282052,
          0.7692307692307694,
          0.9333333333333333,
          1.0974358974358973,
          1.2615384615384617,
          1.4256410256410257,
          1.5897435897435896,
          1.753846153846154,
          1.917948717948718
         ],
         "y": [
          5.8096,
          3.8381753317244733,
          2.522800884051074,
          1.7092797030916282,
          1.2608197821340592,
          1.058034061642376,
          0.9989404292566787,
          0.9989617197931566,
          0.9909257152440888,
          0.9250651447778439,
          0.7690176847388803,
          0.5078259586477458,
          0.14393753720107805,
          -0.3027950617283952,
          -0.7951143730918573,
          -1.278357984664403,
          -1.6804585370450331,
          -1.911943723656666,
          -1.8659362907461214,
          -1.418154037384138
         ],
         "type": "scatter",
         "xaxis": "x3",
         "yaxis": "y3"
        },
        {
         "marker": {
          "color": "red",
          "opacity": 0.7
         },
         "mode": "markers",
         "name": "Observed Points",
         "showlegend": false,
         "x": [
          -1.2,
          -1.0358974358974358,
          -0.8717948717948718,
          -0.7076923076923076,
          -0.5435897435897435,
          -0.37948717948717947,
          -0.21538461538461529,
          -0.05128205128205132,
          0.11282051282051286,
          0.27692307692307705,
          0.441025641025641,
          0.6051282051282052,
          0.7692307692307694,
          0.9333333333333333,
          1.0974358974358973,
          1.2615384615384617,
          1.4256410256410257,
          1.5897435897435896,
          1.753846153846154,
          1.917948717948718
         ],
         "y": [
          5.218850783205458,
          9.147083127935716,
          2.809565938750508,
          1.4682235692023342,
          -0.21355201175286287,
          3.7623058440087,
          1.9130613900252036,
          0.9001230621370527,
          1.946935658704236,
          0.7877998766323548,
          -2.378400966949548,
          0.8870974791770618,
          3.4001847168846866,
          -1.6224436866183969,
          -0.7947201852467513,
          -0.17395394529353836,
          0.9802268443530169,
          1.525751938026346,
          -0.7011402058027725,
          0.03328773628918702
         ],
         "type": "scatter",
         "xaxis": "x3",
         "yaxis": "y3"
        },
        {
         "marker": {
          "color": "blue",
          "opacity": 0.7
         },
         "mode": "markers",
         "name": "Predicted Points",
         "showlegend": false,
         "x": [
          -1.2,
          -1.0358974358974358,
          -0.8717948717948718,
          -0.7076923076923076,
          -0.5435897435897435,
          -0.37948717948717947,
          -0.21538461538461529,
          -0.05128205128205132,
          0.11282051282051286,
          0.27692307692307705,
          0.441025641025641,
          0.6051282051282052,
          0.7692307692307694,
          0.9333333333333333,
          1.0974358974358973,
          1.2615384615384617,
          1.4256410256410257,
          1.5897435897435896,
          1.753846153846154,
          1.917948717948718
         ],
         "y": [
          6.768415233785962,
          5.209353649305365,
          3.9623237560495506,
          2.981424842177095,
          2.2243954182546486,
          1.6526132172569268,
          1.231095194566714,
          0.9284975279748646,
          0.7171156176802999,
          0.5728840862900108,
          0.47537677881905693,
          0.4078067626905658,
          0.35702632773573395,
          0.3135269861938268,
          0.27143947271217783,
          0.22853374434618923,
          0.18621898055933217,
          0.1495435832231462,
          0.12719517661723856,
          0.1315006074292877
         ],
         "type": "scatter",
         "xaxis": "x3",
         "yaxis": "y3"
        },
        {
         "marker": {
          "color": "black",
          "opacity": 0.7
         },
         "mode": "markers",
         "name": "Real Points",
         "showlegend": false,
         "x": [
          -1.2,
          -1.0358974358974358,
          -0.8717948717948718,
          -0.7076923076923076,
          -0.5435897435897435,
          -0.37948717948717947,
          -0.21538461538461529,
          -0.05128205128205132,
          0.11282051282051286,
          0.27692307692307705,
          0.441025641025641,
          0.6051282051282052,
          0.7692307692307694,
          0.9333333333333333,
          1.0974358974358973,
          1.2615384615384617,
          1.4256410256410257,
          1.5897435897435896,
          1.753846153846154,
          1.917948717948718
         ],
         "y": [
          5.8096,
          3.8381753317244733,
          2.522800884051074,
          1.7092797030916282,
          1.2608197821340592,
          1.058034061642376,
          0.9989404292566787,
          0.9989617197931566,
          0.9909257152440888,
          0.9250651447778439,
          0.7690176847388803,
          0.5078259586477458,
          0.14393753720107805,
          -0.3027950617283952,
          -0.7951143730918573,
          -1.278357984664403,
          -1.6804585370450331,
          -1.911943723656666,
          -1.8659362907461214,
          -1.418154037384138
         ],
         "type": "scatter",
         "xaxis": "x4",
         "yaxis": "y4"
        },
        {
         "marker": {
          "color": "red",
          "opacity": 0.7
         },
         "mode": "markers",
         "name": "Observed Points",
         "showlegend": false,
         "x": [
          -1.2,
          -1.0358974358974358,
          -0.8717948717948718,
          -0.7076923076923076,
          -0.5435897435897435,
          -0.37948717948717947,
          -0.21538461538461529,
          -0.05128205128205132,
          0.11282051282051286,
          0.27692307692307705,
          0.441025641025641,
          0.6051282051282052,
          0.7692307692307694,
          0.9333333333333333,
          1.0974358974358973,
          1.2615384615384617,
          1.4256410256410257,
          1.5897435897435896,
          1.753846153846154,
          1.917948717948718
         ],
         "y": [
          11.757671391173094,
          3.5818426717356258,
          10.316020807818976,
          -1.0978513402330436,
          -1.0630618540683685,
          -4.621043200203963,
          7.930175503873611,
          3.388974807298412,
          -2.3861370240366133,
          0.20023001005497088,
          -1.026305343591985,
          5.6907794693390725,
          -2.7486119464299894,
          -6.171890946734348,
          3.8023440045841963,
          -4.572638875109249,
          -0.8774260015409576,
          -4.934606684555297,
          -3.669123237980981,
          -6.3092907510495655
         ],
         "type": "scatter",
         "xaxis": "x4",
         "yaxis": "y4"
        },
        {
         "marker": {
          "color": "blue",
          "opacity": 0.7
         },
         "mode": "markers",
         "name": "Predicted Points",
         "showlegend": false,
         "x": [
          -1.2,
          -1.0358974358974358,
          -0.8717948717948718,
          -0.7076923076923076,
          -0.5435897435897435,
          -0.37948717948717947,
          -0.21538461538461529,
          -0.05128205128205132,
          0.11282051282051286,
          0.27692307692307705,
          0.441025641025641,
          0.6051282051282052,
          0.7692307692307694,
          0.9333333333333333,
          1.0974358974358973,
          1.2615384615384617,
          1.4256410256410257,
          1.5897435897435896,
          1.753846153846154,
          1.917948717948718
         ],
         "y": [
          10.935729617971376,
          6.836121161434207,
          3.997646867652475,
          2.15800922764016,
          1.080745326795868,
          0.5552268449028079,
          0.3966600561288013,
          0.44608582902628124,
          0.5703796265322916,
          0.6622515059684873,
          0.6402461190411337,
          0.44874271184110837,
          0.05795512484389853,
          -0.5360682070903957,
          -1.3114442547170646,
          -2.22045539440679,
          -3.1895494081456315,
          -4.119339483535057,
          -4.884604213791908,
          -5.334287597748414
         ],
         "type": "scatter",
         "xaxis": "x4",
         "yaxis": "y4"
        },
        {
         "marker": {
          "color": "black",
          "opacity": 0.7
         },
         "mode": "markers",
         "name": "Real Points",
         "showlegend": false,
         "x": [
          -1.2,
          -1.0358974358974358,
          -0.8717948717948718,
          -0.7076923076923076,
          -0.5435897435897435,
          -0.37948717948717947,
          -0.21538461538461529,
          -0.05128205128205132,
          0.11282051282051286,
          0.27692307692307705,
          0.441025641025641,
          0.6051282051282052,
          0.7692307692307694,
          0.9333333333333333,
          1.0974358974358973,
          1.2615384615384617,
          1.4256410256410257,
          1.5897435897435896,
          1.753846153846154,
          1.917948717948718
         ],
         "y": [
          5.8096,
          3.8381753317244733,
          2.522800884051074,
          1.7092797030916282,
          1.2608197821340592,
          1.058034061642376,
          0.9989404292566787,
          0.9989617197931566,
          0.9909257152440888,
          0.9250651447778439,
          0.7690176847388803,
          0.5078259586477458,
          0.14393753720107805,
          -0.3027950617283952,
          -0.7951143730918573,
          -1.278357984664403,
          -1.6804585370450331,
          -1.911943723656666,
          -1.8659362907461214,
          -1.418154037384138
         ],
         "type": "scatter",
         "xaxis": "x5",
         "yaxis": "y5"
        },
        {
         "marker": {
          "color": "red",
          "opacity": 0.7
         },
         "mode": "markers",
         "name": "Observed Points",
         "showlegend": false,
         "x": [
          -1.2,
          -1.0358974358974358,
          -0.8717948717948718,
          -0.7076923076923076,
          -0.5435897435897435,
          -0.37948717948717947,
          -0.21538461538461529,
          -0.05128205128205132,
          0.11282051282051286,
          0.27692307692307705,
          0.441025641025641,
          0.6051282051282052,
          0.7692307692307694,
          0.9333333333333333,
          1.0974358974358973,
          1.2615384615384617,
          1.4256410256410257,
          1.5897435897435896,
          1.753846153846154,
          1.917948717948718
         ],
         "y": [
          9.14127725169443,
          0.16952162460586928,
          4.436387114465737,
          0.7533938621649768,
          -4.828096919263026,
          5.016353764402301,
          -3.1918108351698558,
          1.1145223015100172,
          -0.6071840981716005,
          5.676401976056097,
          -1.0181512882314954,
          -0.4444098105653903,
          4.488680289376923,
          -0.5783668043564487,
          -2.638408717402096,
          -2.107005004784902,
          1.3059106075500986,
          2.717824827888718,
          -2.8872053660217527,
          3.8693730980156342
         ],
         "type": "scatter",
         "xaxis": "x5",
         "yaxis": "y5"
        },
        {
         "marker": {
          "color": "blue",
          "opacity": 0.7
         },
         "mode": "markers",
         "name": "Predicted Points",
         "showlegend": false,
         "x": [
          -1.2,
          -1.0358974358974358,
          -0.8717948717948718,
          -0.7076923076923076,
          -0.5435897435897435,
          -0.37948717948717947,
          -0.21538461538461529,
          -0.05128205128205132,
          0.11282051282051286,
          0.27692307692307705,
          0.441025641025641,
          0.6051282051282052,
          0.7692307692307694,
          0.9333333333333333,
          1.0974358974358973,
          1.2615384615384617,
          1.4256410256410257,
          1.5897435897435896,
          1.753846153846154,
          1.917948717948718
         ],
         "y": [
          7.843358866797633,
          3.8160182848819764,
          1.33551274715276,
          0.026569544346513818,
          -0.4419972895655225,
          -0.35728697737742127,
          0.03768800135144369,
          0.5440019102963926,
          1.0068157563674427,
          1.3153772897093055,
          1.4030210037013882,
          1.2471681349577939,
          0.8693266633273216,
          0.3350913118934642,
          -0.24585645302558579,
          -0.7197484218769485,
          -0.8887296418730379,
          -0.5108584169915851,
          0.6998936920243963,
          3.0736418676665522
         ],
         "type": "scatter",
         "xaxis": "x5",
         "yaxis": "y5"
        },
        {
         "marker": {
          "color": "black",
          "opacity": 0.7
         },
         "mode": "markers",
         "name": "Real Points",
         "showlegend": false,
         "x": [
          -1.2,
          -1.0358974358974358,
          -0.8717948717948718,
          -0.7076923076923076,
          -0.5435897435897435,
          -0.37948717948717947,
          -0.21538461538461529,
          -0.05128205128205132,
          0.11282051282051286,
          0.27692307692307705,
          0.441025641025641,
          0.6051282051282052,
          0.7692307692307694,
          0.9333333333333333,
          1.0974358974358973,
          1.2615384615384617,
          1.4256410256410257,
          1.5897435897435896,
          1.753846153846154,
          1.917948717948718
         ],
         "y": [
          5.8096,
          3.8381753317244733,
          2.522800884051074,
          1.7092797030916282,
          1.2608197821340592,
          1.058034061642376,
          0.9989404292566787,
          0.9989617197931566,
          0.9909257152440888,
          0.9250651447778439,
          0.7690176847388803,
          0.5078259586477458,
          0.14393753720107805,
          -0.3027950617283952,
          -0.7951143730918573,
          -1.278357984664403,
          -1.6804585370450331,
          -1.911943723656666,
          -1.8659362907461214,
          -1.418154037384138
         ],
         "type": "scatter",
         "xaxis": "x6",
         "yaxis": "y6"
        },
        {
         "marker": {
          "color": "red",
          "opacity": 0.7
         },
         "mode": "markers",
         "name": "Observed Points",
         "showlegend": false,
         "x": [
          -1.2,
          -1.0358974358974358,
          -0.8717948717948718,
          -0.7076923076923076,
          -0.5435897435897435,
          -0.37948717948717947,
          -0.21538461538461529,
          -0.05128205128205132,
          0.11282051282051286,
          0.27692307692307705,
          0.441025641025641,
          0.6051282051282052,
          0.7692307692307694,
          0.9333333333333333,
          1.0974358974358973,
          1.2615384615384617,
          1.4256410256410257,
          1.5897435897435896,
          1.753846153846154,
          1.917948717948718
         ],
         "y": [
          6.740276066571596,
          1.2425457376818874,
          0.30943979990279535,
          7.889544322418413,
          0.7918323918106656,
          2.568564765445491,
          -5.082611006924714,
          -7.27657415404755,
          4.606974581138806,
          -9.114358031213461,
          3.49722382588007,
          6.867615023274394,
          -2.58474589515973,
          -2.841509245808317,
          2.7689845533393123,
          -0.9547399510085629,
          -0.502234826202437,
          -0.5921943241008385,
          -0.6460153103679827,
          -6.9195915865496955
         ],
         "type": "scatter",
         "xaxis": "x6",
         "yaxis": "y6"
        },
        {
         "marker": {
          "color": "blue",
          "opacity": 0.7
         },
         "mode": "markers",
         "name": "Predicted Points",
         "showlegend": false,
         "x": [
          -1.2,
          -1.0358974358974358,
          -0.8717948717948718,
          -0.7076923076923076,
          -0.5435897435897435,
          -0.37948717948717947,
          -0.21538461538461529,
          -0.05128205128205132,
          0.11282051282051286,
          0.27692307692307705,
          0.441025641025641,
          0.6051282051282052,
          0.7692307692307694,
          0.9333333333333333,
          1.0974358974358973,
          1.2615384615384617,
          1.4256410256410257,
          1.5897435897435896,
          1.753846153846154,
          1.917948717948718
         ],
         "y": [
          5.35588739056249,
          4.175068519090909,
          2.920094637847193,
          1.7016256197324342,
          0.6088040447838827,
          -0.29074479982506696,
          -0.9509129197848711,
          -1.3471096136498366,
          -1.476261472838123,
          -1.3568123816317401,
          -1.0287235171765503,
          -0.5534733494822661,
          -0.01405764142245225,
          0.4850105512654741,
          0.8177008799802463,
          0.8364657032567449,
          0.3722400867660003,
          -0.7655581966848093,
          -2.789028667152362,
          -5.931788137557174
         ],
         "type": "scatter",
         "xaxis": "x6",
         "yaxis": "y6"
        }
       ],
       "layout": {
        "template": {
         "data": {
          "barpolar": [
           {
            "marker": {
             "line": {
              "color": "white",
              "width": 0.5
             },
             "pattern": {
              "fillmode": "overlay",
              "size": 10,
              "solidity": 0.2
             }
            },
            "type": "barpolar"
           }
          ],
          "bar": [
           {
            "error_x": {
             "color": "rgb(36,36,36)"
            },
            "error_y": {
             "color": "rgb(36,36,36)"
            },
            "marker": {
             "line": {
              "color": "white",
              "width": 0.5
             },
             "pattern": {
              "fillmode": "overlay",
              "size": 10,
              "solidity": 0.2
             }
            },
            "type": "bar"
           }
          ],
          "carpet": [
           {
            "aaxis": {
             "endlinecolor": "rgb(36,36,36)",
             "gridcolor": "white",
             "linecolor": "white",
             "minorgridcolor": "white",
             "startlinecolor": "rgb(36,36,36)"
            },
            "baxis": {
             "endlinecolor": "rgb(36,36,36)",
             "gridcolor": "white",
             "linecolor": "white",
             "minorgridcolor": "white",
             "startlinecolor": "rgb(36,36,36)"
            },
            "type": "carpet"
           }
          ],
          "choropleth": [
           {
            "colorbar": {
             "outlinewidth": 1,
             "tickcolor": "rgb(36,36,36)",
             "ticks": "outside"
            },
            "type": "choropleth"
           }
          ],
          "contourcarpet": [
           {
            "colorbar": {
             "outlinewidth": 1,
             "tickcolor": "rgb(36,36,36)",
             "ticks": "outside"
            },
            "type": "contourcarpet"
           }
          ],
          "contour": [
           {
            "colorbar": {
             "outlinewidth": 1,
             "tickcolor": "rgb(36,36,36)",
             "ticks": "outside"
            },
            "colorscale": [
             [
              0.0,
              "#440154"
             ],
             [
              0.1111111111111111,
              "#482878"
             ],
             [
              0.2222222222222222,
              "#3e4989"
             ],
             [
              0.3333333333333333,
              "#31688e"
             ],
             [
              0.4444444444444444,
              "#26828e"
             ],
             [
              0.5555555555555556,
              "#1f9e89"
             ],
             [
              0.6666666666666666,
              "#35b779"
             ],
             [
              0.7777777777777778,
              "#6ece58"
             ],
             [
              0.8888888888888888,
              "#b5de2b"
             ],
             [
              1.0,
              "#fde725"
             ]
            ],
            "type": "contour"
           }
          ],
          "heatmapgl": [
           {
            "colorbar": {
             "outlinewidth": 1,
             "tickcolor": "rgb(36,36,36)",
             "ticks": "outside"
            },
            "colorscale": [
             [
              0.0,
              "#440154"
             ],
             [
              0.1111111111111111,
              "#482878"
             ],
             [
              0.2222222222222222,
              "#3e4989"
             ],
             [
              0.3333333333333333,
              "#31688e"
             ],
             [
              0.4444444444444444,
              "#26828e"
             ],
             [
              0.5555555555555556,
              "#1f9e89"
             ],
             [
              0.6666666666666666,
              "#35b779"
             ],
             [
              0.7777777777777778,
              "#6ece58"
             ],
             [
              0.8888888888888888,
              "#b5de2b"
             ],
             [
              1.0,
              "#fde725"
             ]
            ],
            "type": "heatmapgl"
           }
          ],
          "heatmap": [
           {
            "colorbar": {
             "outlinewidth": 1,
             "tickcolor": "rgb(36,36,36)",
             "ticks": "outside"
            },
            "colorscale": [
             [
              0.0,
              "#440154"
             ],
             [
              0.1111111111111111,
              "#482878"
             ],
             [
              0.2222222222222222,
              "#3e4989"
             ],
             [
              0.3333333333333333,
              "#31688e"
             ],
             [
              0.4444444444444444,
              "#26828e"
             ],
             [
              0.5555555555555556,
              "#1f9e89"
             ],
             [
              0.6666666666666666,
              "#35b779"
             ],
             [
              0.7777777777777778,
              "#6ece58"
             ],
             [
              0.8888888888888888,
              "#b5de2b"
             ],
             [
              1.0,
              "#fde725"
             ]
            ],
            "type": "heatmap"
           }
          ],
          "histogram2dcontour": [
           {
            "colorbar": {
             "outlinewidth": 1,
             "tickcolor": "rgb(36,36,36)",
             "ticks": "outside"
            },
            "colorscale": [
             [
              0.0,
              "#440154"
             ],
             [
              0.1111111111111111,
              "#482878"
             ],
             [
              0.2222222222222222,
              "#3e4989"
             ],
             [
              0.3333333333333333,
              "#31688e"
             ],
             [
              0.4444444444444444,
              "#26828e"
             ],
             [
              0.5555555555555556,
              "#1f9e89"
             ],
             [
              0.6666666666666666,
              "#35b779"
             ],
             [
              0.7777777777777778,
              "#6ece58"
             ],
             [
              0.8888888888888888,
              "#b5de2b"
             ],
             [
              1.0,
              "#fde725"
             ]
            ],
            "type": "histogram2dcontour"
           }
          ],
          "histogram2d": [
           {
            "colorbar": {
             "outlinewidth": 1,
             "tickcolor": "rgb(36,36,36)",
             "ticks": "outside"
            },
            "colorscale": [
             [
              0.0,
              "#440154"
             ],
             [
              0.1111111111111111,
              "#482878"
             ],
             [
              0.2222222222222222,
              "#3e4989"
             ],
             [
              0.3333333333333333,
              "#31688e"
             ],
             [
              0.4444444444444444,
              "#26828e"
             ],
             [
              0.5555555555555556,
              "#1f9e89"
             ],
             [
              0.6666666666666666,
              "#35b779"
             ],
             [
              0.7777777777777778,
              "#6ece58"
             ],
             [
              0.8888888888888888,
              "#b5de2b"
             ],
             [
              1.0,
              "#fde725"
             ]
            ],
            "type": "histogram2d"
           }
          ],
          "histogram": [
           {
            "marker": {
             "line": {
              "color": "white",
              "width": 0.6
             }
            },
            "type": "histogram"
           }
          ],
          "mesh3d": [
           {
            "colorbar": {
             "outlinewidth": 1,
             "tickcolor": "rgb(36,36,36)",
             "ticks": "outside"
            },
            "type": "mesh3d"
           }
          ],
          "parcoords": [
           {
            "line": {
             "colorbar": {
              "outlinewidth": 1,
              "tickcolor": "rgb(36,36,36)",
              "ticks": "outside"
             }
            },
            "type": "parcoords"
           }
          ],
          "pie": [
           {
            "automargin": true,
            "type": "pie"
           }
          ],
          "scatter3d": [
           {
            "line": {
             "colorbar": {
              "outlinewidth": 1,
              "tickcolor": "rgb(36,36,36)",
              "ticks": "outside"
             }
            },
            "marker": {
             "colorbar": {
              "outlinewidth": 1,
              "tickcolor": "rgb(36,36,36)",
              "ticks": "outside"
             }
            },
            "type": "scatter3d"
           }
          ],
          "scattercarpet": [
           {
            "marker": {
             "colorbar": {
              "outlinewidth": 1,
              "tickcolor": "rgb(36,36,36)",
              "ticks": "outside"
             }
            },
            "type": "scattercarpet"
           }
          ],
          "scattergeo": [
           {
            "marker": {
             "colorbar": {
              "outlinewidth": 1,
              "tickcolor": "rgb(36,36,36)",
              "ticks": "outside"
             }
            },
            "type": "scattergeo"
           }
          ],
          "scattergl": [
           {
            "marker": {
             "colorbar": {
              "outlinewidth": 1,
              "tickcolor": "rgb(36,36,36)",
              "ticks": "outside"
             }
            },
            "type": "scattergl"
           }
          ],
          "scattermapbox": [
           {
            "marker": {
             "colorbar": {
              "outlinewidth": 1,
              "tickcolor": "rgb(36,36,36)",
              "ticks": "outside"
             }
            },
            "type": "scattermapbox"
           }
          ],
          "scatterpolargl": [
           {
            "marker": {
             "colorbar": {
              "outlinewidth": 1,
              "tickcolor": "rgb(36,36,36)",
              "ticks": "outside"
             }
            },
            "type": "scatterpolargl"
           }
          ],
          "scatterpolar": [
           {
            "marker": {
             "colorbar": {
              "outlinewidth": 1,
              "tickcolor": "rgb(36,36,36)",
              "ticks": "outside"
             }
            },
            "type": "scatterpolar"
           }
          ],
          "scatter": [
           {
            "marker": {
             "colorbar": {
              "outlinewidth": 1,
              "tickcolor": "rgb(36,36,36)",
              "ticks": "outside"
             }
            },
            "type": "scatter"
           }
          ],
          "scatterternary": [
           {
            "marker": {
             "colorbar": {
              "outlinewidth": 1,
              "tickcolor": "rgb(36,36,36)",
              "ticks": "outside"
             }
            },
            "type": "scatterternary"
           }
          ],
          "surface": [
           {
            "colorbar": {
             "outlinewidth": 1,
             "tickcolor": "rgb(36,36,36)",
             "ticks": "outside"
            },
            "colorscale": [
             [
              0.0,
              "#440154"
             ],
             [
              0.1111111111111111,
              "#482878"
             ],
             [
              0.2222222222222222,
              "#3e4989"
             ],
             [
              0.3333333333333333,
              "#31688e"
             ],
             [
              0.4444444444444444,
              "#26828e"
             ],
             [
              0.5555555555555556,
              "#1f9e89"
             ],
             [
              0.6666666666666666,
              "#35b779"
             ],
             [
              0.7777777777777778,
              "#6ece58"
             ],
             [
              0.8888888888888888,
              "#b5de2b"
             ],
             [
              1.0,
              "#fde725"
             ]
            ],
            "type": "surface"
           }
          ],
          "table": [
           {
            "cells": {
             "fill": {
              "color": "rgb(237,237,237)"
             },
             "line": {
              "color": "white"
             }
            },
            "header": {
             "fill": {
              "color": "rgb(217,217,217)"
             },
             "line": {
              "color": "white"
             }
            },
            "type": "table"
           }
          ]
         },
         "layout": {
          "annotationdefaults": {
           "arrowhead": 0,
           "arrowwidth": 1
          },
          "autotypenumbers": "strict",
          "coloraxis": {
           "colorbar": {
            "outlinewidth": 1,
            "tickcolor": "rgb(36,36,36)",
            "ticks": "outside"
           }
          },
          "colorscale": {
           "diverging": [
            [
             0.0,
             "rgb(103,0,31)"
            ],
            [
             0.1,
             "rgb(178,24,43)"
            ],
            [
             0.2,
             "rgb(214,96,77)"
            ],
            [
             0.3,
             "rgb(244,165,130)"
            ],
            [
             0.4,
             "rgb(253,219,199)"
            ],
            [
             0.5,
             "rgb(247,247,247)"
            ],
            [
             0.6,
             "rgb(209,229,240)"
            ],
            [
             0.7,
             "rgb(146,197,222)"
            ],
            [
             0.8,
             "rgb(67,147,195)"
            ],
            [
             0.9,
             "rgb(33,102,172)"
            ],
            [
             1.0,
             "rgb(5,48,97)"
            ]
           ],
           "sequential": [
            [
             0.0,
             "#440154"
            ],
            [
             0.1111111111111111,
             "#482878"
            ],
            [
             0.2222222222222222,
             "#3e4989"
            ],
            [
             0.3333333333333333,
             "#31688e"
            ],
            [
             0.4444444444444444,
             "#26828e"
            ],
            [
             0.5555555555555556,
             "#1f9e89"
            ],
            [
             0.6666666666666666,
             "#35b779"
            ],
            [
             0.7777777777777778,
             "#6ece58"
            ],
            [
             0.8888888888888888,
             "#b5de2b"
            ],
            [
             1.0,
             "#fde725"
            ]
           ],
           "sequentialminus": [
            [
             0.0,
             "#440154"
            ],
            [
             0.1111111111111111,
             "#482878"
            ],
            [
             0.2222222222222222,
             "#3e4989"
            ],
            [
             0.3333333333333333,
             "#31688e"
            ],
            [
             0.4444444444444444,
             "#26828e"
            ],
            [
             0.5555555555555556,
             "#1f9e89"
            ],
            [
             0.6666666666666666,
             "#35b779"
            ],
            [
             0.7777777777777778,
             "#6ece58"
            ],
            [
             0.8888888888888888,
             "#b5de2b"
            ],
            [
             1.0,
             "#fde725"
            ]
           ]
          },
          "colorway": [
           "#1F77B4",
           "#FF7F0E",
           "#2CA02C",
           "#D62728",
           "#9467BD",
           "#8C564B",
           "#E377C2",
           "#7F7F7F",
           "#BCBD22",
           "#17BECF"
          ],
          "font": {
           "color": "rgb(36,36,36)"
          },
          "geo": {
           "bgcolor": "white",
           "lakecolor": "white",
           "landcolor": "white",
           "showlakes": true,
           "showland": true,
           "subunitcolor": "white"
          },
          "hoverlabel": {
           "align": "left"
          },
          "hovermode": "closest",
          "mapbox": {
           "style": "light"
          },
          "paper_bgcolor": "white",
          "plot_bgcolor": "white",
          "polar": {
           "angularaxis": {
            "gridcolor": "rgb(232,232,232)",
            "linecolor": "rgb(36,36,36)",
            "showgrid": false,
            "showline": true,
            "ticks": "outside"
           },
           "bgcolor": "white",
           "radialaxis": {
            "gridcolor": "rgb(232,232,232)",
            "linecolor": "rgb(36,36,36)",
            "showgrid": false,
            "showline": true,
            "ticks": "outside"
           }
          },
          "scene": {
           "xaxis": {
            "backgroundcolor": "white",
            "gridcolor": "rgb(232,232,232)",
            "gridwidth": 2,
            "linecolor": "rgb(36,36,36)",
            "showbackground": true,
            "showgrid": false,
            "showline": true,
            "ticks": "outside",
            "zeroline": false,
            "zerolinecolor": "rgb(36,36,36)"
           },
           "yaxis": {
            "backgroundcolor": "white",
            "gridcolor": "rgb(232,232,232)",
            "gridwidth": 2,
            "linecolor": "rgb(36,36,36)",
            "showbackground": true,
            "showgrid": false,
            "showline": true,
            "ticks": "outside",
            "zeroline": false,
            "zerolinecolor": "rgb(36,36,36)"
           },
           "zaxis": {
            "backgroundcolor": "white",
            "gridcolor": "rgb(232,232,232)",
            "gridwidth": 2,
            "linecolor": "rgb(36,36,36)",
            "showbackground": true,
            "showgrid": false,
            "showline": true,
            "ticks": "outside",
            "zeroline": false,
            "zerolinecolor": "rgb(36,36,36)"
           }
          },
          "shapedefaults": {
           "fillcolor": "black",
           "line": {
            "width": 0
           },
           "opacity": 0.3
          },
          "ternary": {
           "aaxis": {
            "gridcolor": "rgb(232,232,232)",
            "linecolor": "rgb(36,36,36)",
            "showgrid": false,
            "showline": true,
            "ticks": "outside"
           },
           "baxis": {
            "gridcolor": "rgb(232,232,232)",
            "linecolor": "rgb(36,36,36)",
            "showgrid": false,
            "showline": true,
            "ticks": "outside"
           },
           "bgcolor": "white",
           "caxis": {
            "gridcolor": "rgb(232,232,232)",
            "linecolor": "rgb(36,36,36)",
            "showgrid": false,
            "showline": true,
            "ticks": "outside"
           }
          },
          "title": {
           "x": 0.05
          },
          "xaxis": {
           "automargin": true,
           "gridcolor": "rgb(232,232,232)",
           "linecolor": "rgb(36,36,36)",
           "showgrid": false,
           "showline": true,
           "ticks": "outside",
           "title": {
            "standoff": 15
           },
           "zeroline": false,
           "zerolinecolor": "rgb(36,36,36)"
          },
          "yaxis": {
           "automargin": true,
           "gridcolor": "rgb(232,232,232)",
           "linecolor": "rgb(36,36,36)",
           "showgrid": false,
           "showline": true,
           "ticks": "outside",
           "title": {
            "standoff": 15
           },
           "zeroline": false,
           "zerolinecolor": "rgb(36,36,36)"
          },
          "margin": {
           "b": 0,
           "l": 20,
           "r": 20,
           "t": 40
          }
         }
        },
        "xaxis": {
         "anchor": "y",
         "domain": [
          0.0,
          0.2888888888888889
         ]
        },
        "yaxis": {
         "anchor": "x",
         "domain": [
          0.625,
          1.0
         ]
        },
        "xaxis2": {
         "anchor": "y2",
         "domain": [
          0.35555555555555557,
          0.6444444444444445
         ]
        },
        "yaxis2": {
         "anchor": "x2",
         "domain": [
          0.625,
          1.0
         ]
        },
        "xaxis3": {
         "anchor": "y3",
         "domain": [
          0.7111111111111111,
          1.0
         ]
        },
        "yaxis3": {
         "anchor": "x3",
         "domain": [
          0.625,
          1.0
         ]
        },
        "xaxis4": {
         "anchor": "y4",
         "domain": [
          0.0,
          0.2888888888888889
         ]
        },
        "yaxis4": {
         "anchor": "x4",
         "domain": [
          0.0,
          0.375
         ]
        },
        "xaxis5": {
         "anchor": "y5",
         "domain": [
          0.35555555555555557,
          0.6444444444444445
         ]
        },
        "yaxis5": {
         "anchor": "x5",
         "domain": [
          0.0,
          0.375
         ]
        },
        "xaxis6": {
         "anchor": "y6",
         "domain": [
          0.7111111111111111,
          1.0
         ]
        },
        "yaxis6": {
         "anchor": "x6",
         "domain": [
          0.0,
          0.375
         ]
        },
        "annotations": [
         {
          "font": {
           "size": 16
          },
          "showarrow": false,
          "text": "$\\sigma^2=0, MSE=0.0$",
          "x": 0.14444444444444446,
          "xanchor": "center",
          "xref": "paper",
          "y": 1.0,
          "yanchor": "bottom",
          "yref": "paper"
         },
         {
          "font": {
           "size": 16
          },
          "showarrow": false,
          "text": "$\\sigma^2=1, MSE=0.45$",
          "x": 0.5,
          "xanchor": "center",
          "xref": "paper",
          "y": 1.0,
          "yanchor": "bottom",
          "yref": "paper"
         },
         {
          "font": {
           "size": 16
          },
          "showarrow": false,
          "text": "$\\sigma^2=2, MSE=2.99$",
          "x": 0.8555555555555556,
          "xanchor": "center",
          "xref": "paper",
          "y": 1.0,
          "yanchor": "bottom",
          "yref": "paper"
         },
         {
          "font": {
           "size": 16
          },
          "showarrow": false,
          "text": "$\\sigma^2=3, MSE=13.88$",
          "x": 0.14444444444444446,
          "xanchor": "center",
          "xref": "paper",
          "y": 0.375,
          "yanchor": "bottom",
          "yref": "paper"
         },
         {
          "font": {
           "size": 16
          },
          "showarrow": false,
          "text": "$\\sigma^2=4, MSE=8.23$",
          "x": 0.5,
          "xanchor": "center",
          "xref": "paper",
          "y": 0.375,
          "yanchor": "bottom",
          "yref": "paper"
         },
         {
          "font": {
           "size": 16
          },
          "showarrow": false,
          "text": "$\\sigma^2=5, MSE=15.99$",
          "x": 0.8555555555555556,
          "xanchor": "center",
          "xref": "paper",
          "y": 0.375,
          "yanchor": "bottom",
          "yref": "paper"
         }
        ],
        "margin": {
         "t": 80
        },
        "title": {
         "text": "$\\text{(5) Simulated Data - Different Noise Scales}$"
        }
       },
       "config": {
        "plotlyServerURL": "https://plot.ly"
       }
      },
      "text/html": "<div>                            <div id=\"aaeab5c8-b72e-4470-ae04-936b43856f46\" class=\"plotly-graph-div\" style=\"height:525px; width:100%;\"></div>            <script type=\"text/javascript\">                require([\"plotly\"], function(Plotly) {                    window.PLOTLYENV=window.PLOTLYENV || {};                                    if (document.getElementById(\"aaeab5c8-b72e-4470-ae04-936b43856f46\")) {                    Plotly.newPlot(                        \"aaeab5c8-b72e-4470-ae04-936b43856f46\",                        [{\"marker\":{\"color\":\"black\",\"opacity\":0.7},\"mode\":\"markers\",\"name\":\"Real Points\",\"showlegend\":false,\"x\":[-1.2,-1.0358974358974358,-0.8717948717948718,-0.7076923076923076,-0.5435897435897435,-0.37948717948717947,-0.21538461538461529,-0.05128205128205132,0.11282051282051286,0.27692307692307705,0.441025641025641,0.6051282051282052,0.7692307692307694,0.9333333333333333,1.0974358974358973,1.2615384615384617,1.4256410256410257,1.5897435897435896,1.753846153846154,1.917948717948718],\"y\":[5.8096,3.8381753317244733,2.522800884051074,1.7092797030916282,1.2608197821340592,1.058034061642376,0.9989404292566787,0.9989617197931566,0.9909257152440888,0.9250651447778439,0.7690176847388803,0.5078259586477458,0.14393753720107805,-0.3027950617283952,-0.7951143730918573,-1.278357984664403,-1.6804585370450331,-1.911943723656666,-1.8659362907461214,-1.418154037384138],\"type\":\"scatter\",\"xaxis\":\"x\",\"yaxis\":\"y\"},{\"marker\":{\"color\":\"red\",\"opacity\":0.7},\"mode\":\"markers\",\"name\":\"Observed Points\",\"showlegend\":false,\"x\":[-1.2,-1.0358974358974358,-0.8717948717948718,-0.7076923076923076,-0.5435897435897435,-0.37948717948717947,-0.21538461538461529,-0.05128205128205132,0.11282051282051286,0.27692307692307705,0.441025641025641,0.6051282051282052,0.7692307692307694,0.9333333333333333,1.0974358974358973,1.2615384615384617,1.4256410256410257,1.5897435897435896,1.753846153846154,1.917948717948718],\"y\":[5.8096,3.8381753317244733,2.522800884051074,1.7092797030916282,1.2608197821340592,1.058034061642376,0.9989404292566787,0.9989617197931566,0.9909257152440888,0.9250651447778439,0.7690176847388803,0.5078259586477458,0.14393753720107805,-0.3027950617283952,-0.7951143730918573,-1.278357984664403,-1.6804585370450331,-1.911943723656666,-1.8659362907461214,-1.418154037384138],\"type\":\"scatter\",\"xaxis\":\"x\",\"yaxis\":\"y\"},{\"marker\":{\"color\":\"blue\",\"opacity\":0.7},\"mode\":\"markers\",\"name\":\"Predicted Points\",\"showlegend\":false,\"x\":[-1.2,-1.0358974358974358,-0.8717948717948718,-0.7076923076923076,-0.5435897435897435,-0.37948717948717947,-0.21538461538461529,-0.05128205128205132,0.11282051282051286,0.27692307692307705,0.441025641025641,0.6051282051282052,0.7692307692307694,0.9333333333333333,1.0974358974358973,1.2615384615384617,1.4256410256410257,1.5897435897435896,1.753846153846154,1.917948717948718],\"y\":[5.8096,3.8381753317244733,2.522800884051074,1.7092797030916287,1.26081978213406,1.0580340616423773,0.9989404292566801,0.9989617197931581,0.9909257152440903,0.9250651447778453,0.7690176847388817,0.5078259586477468,0.1439375372010787,-0.30279506172839477,-0.7951143730918568,-1.2783579846644035,-1.680458537045034,-1.911943723656666,-1.8659362907461219,-1.418154037384138],\"type\":\"scatter\",\"xaxis\":\"x\",\"yaxis\":\"y\"},{\"marker\":{\"color\":\"black\",\"opacity\":0.7},\"mode\":\"markers\",\"name\":\"Real Points\",\"showlegend\":false,\"x\":[-1.2,-1.0358974358974358,-0.8717948717948718,-0.7076923076923076,-0.5435897435897435,-0.37948717948717947,-0.21538461538461529,-0.05128205128205132,0.11282051282051286,0.27692307692307705,0.441025641025641,0.6051282051282052,0.7692307692307694,0.9333333333333333,1.0974358974358973,1.2615384615384617,1.4256410256410257,1.5897435897435896,1.753846153846154,1.917948717948718],\"y\":[5.8096,3.8381753317244733,2.522800884051074,1.7092797030916282,1.2608197821340592,1.058034061642376,0.9989404292566787,0.9989617197931566,0.9909257152440888,0.9250651447778439,0.7690176847388803,0.5078259586477458,0.14393753720107805,-0.3027950617283952,-0.7951143730918573,-1.278357984664403,-1.6804585370450331,-1.911943723656666,-1.8659362907461214,-1.418154037384138],\"type\":\"scatter\",\"xaxis\":\"x2\",\"yaxis\":\"y2\"},{\"marker\":{\"color\":\"red\",\"opacity\":0.7},\"mode\":\"markers\",\"name\":\"Observed Points\",\"showlegend\":false,\"x\":[-1.2,-1.0358974358974358,-0.8717948717948718,-0.7076923076923076,-0.5435897435897435,-0.37948717948717947,-0.21538461538461529,-0.05128205128205132,0.11282051282051286,0.27692307692307705,0.441025641025641,0.6051282051282052,0.7692307692307694,0.9333333333333333,1.0974358974358973,1.2615384615384617,1.4256410256410257,1.5897435897435896,1.753846153846154,1.917948717948718],\"y\":[4.935797663130292,2.8681083451734013,2.4527921624779534,2.309839742494319,1.9411539217545408,0.9894245353670036,1.0966365693611446,0.7314667207291963,1.391263247563256,1.900163741457007,0.5894054319304174,0.7799210728618864,0.9492100551961719,0.3566561693150816,-2.554283237175616,-2.1997238507726182,-0.46048515916364985,-2.2692527660829755,-3.1036709192620218,-2.3392620460692797],\"type\":\"scatter\",\"xaxis\":\"x2\",\"yaxis\":\"y2\"},{\"marker\":{\"color\":\"blue\",\"opacity\":0.7},\"mode\":\"markers\",\"name\":\"Predicted Points\",\"showlegend\":false,\"x\":[-1.2,-1.0358974358974358,-0.8717948717948718,-0.7076923076923076,-0.5435897435897435,-0.37948717948717947,-0.21538461538461529,-0.05128205128205132,0.11282051282051286,0.27692307692307705,0.441025641025641,0.6051282051282052,0.7692307692307694,0.9333333333333333,1.0974358974358973,1.2615384615384617,1.4256410256410257,1.5897435897435896,1.753846153846154,1.917948717948718],\"y\":[4.80104485264488,3.3369330727801496,2.3830734886372382,1.813187513040251,1.5153578690729748,1.3920285900788696,1.3600050196610705,1.3504538116823885,1.3089029302653088,1.1952416497919927,0.9837205549042767,0.6629515405036714,0.23590781175136377,-0.2800761159317837,-0.8533044168652344,-1.4377199551087778,-1.9729042844625244,-2.3840776484669135,-2.5820989804027015,-2.4634659032909845],\"type\":\"scatter\",\"xaxis\":\"x2\",\"yaxis\":\"y2\"},{\"marker\":{\"color\":\"black\",\"opacity\":0.7},\"mode\":\"markers\",\"name\":\"Real Points\",\"showlegend\":false,\"x\":[-1.2,-1.0358974358974358,-0.8717948717948718,-0.7076923076923076,-0.5435897435897435,-0.37948717948717947,-0.21538461538461529,-0.05128205128205132,0.11282051282051286,0.27692307692307705,0.441025641025641,0.6051282051282052,0.7692307692307694,0.9333333333333333,1.0974358974358973,1.2615384615384617,1.4256410256410257,1.5897435897435896,1.753846153846154,1.917948717948718],\"y\":[5.8096,3.8381753317244733,2.522800884051074,1.7092797030916282,1.2608197821340592,1.058034061642376,0.9989404292566787,0.9989617197931566,0.9909257152440888,0.9250651447778439,0.7690176847388803,0.5078259586477458,0.14393753720107805,-0.3027950617283952,-0.7951143730918573,-1.278357984664403,-1.6804585370450331,-1.911943723656666,-1.8659362907461214,-1.418154037384138],\"type\":\"scatter\",\"xaxis\":\"x3\",\"yaxis\":\"y3\"},{\"marker\":{\"color\":\"red\",\"opacity\":0.7},\"mode\":\"markers\",\"name\":\"Observed Points\",\"showlegend\":false,\"x\":[-1.2,-1.0358974358974358,-0.8717948717948718,-0.7076923076923076,-0.5435897435897435,-0.37948717948717947,-0.21538461538461529,-0.05128205128205132,0.11282051282051286,0.27692307692307705,0.441025641025641,0.6051282051282052,0.7692307692307694,0.9333333333333333,1.0974358974358973,1.2615384615384617,1.4256410256410257,1.5897435897435896,1.753846153846154,1.917948717948718],\"y\":[5.218850783205458,9.147083127935716,2.809565938750508,1.4682235692023342,-0.21355201175286287,3.7623058440087,1.9130613900252036,0.9001230621370527,1.946935658704236,0.7877998766323548,-2.378400966949548,0.8870974791770618,3.4001847168846866,-1.6224436866183969,-0.7947201852467513,-0.17395394529353836,0.9802268443530169,1.525751938026346,-0.7011402058027725,0.03328773628918702],\"type\":\"scatter\",\"xaxis\":\"x3\",\"yaxis\":\"y3\"},{\"marker\":{\"color\":\"blue\",\"opacity\":0.7},\"mode\":\"markers\",\"name\":\"Predicted Points\",\"showlegend\":false,\"x\":[-1.2,-1.0358974358974358,-0.8717948717948718,-0.7076923076923076,-0.5435897435897435,-0.37948717948717947,-0.21538461538461529,-0.05128205128205132,0.11282051282051286,0.27692307692307705,0.441025641025641,0.6051282051282052,0.7692307692307694,0.9333333333333333,1.0974358974358973,1.2615384615384617,1.4256410256410257,1.5897435897435896,1.753846153846154,1.917948717948718],\"y\":[6.768415233785962,5.209353649305365,3.9623237560495506,2.981424842177095,2.2243954182546486,1.6526132172569268,1.231095194566714,0.9284975279748646,0.7171156176802999,0.5728840862900108,0.47537677881905693,0.4078067626905658,0.35702632773573395,0.3135269861938268,0.27143947271217783,0.22853374434618923,0.18621898055933217,0.1495435832231462,0.12719517661723856,0.1315006074292877],\"type\":\"scatter\",\"xaxis\":\"x3\",\"yaxis\":\"y3\"},{\"marker\":{\"color\":\"black\",\"opacity\":0.7},\"mode\":\"markers\",\"name\":\"Real Points\",\"showlegend\":false,\"x\":[-1.2,-1.0358974358974358,-0.8717948717948718,-0.7076923076923076,-0.5435897435897435,-0.37948717948717947,-0.21538461538461529,-0.05128205128205132,0.11282051282051286,0.27692307692307705,0.441025641025641,0.6051282051282052,0.7692307692307694,0.9333333333333333,1.0974358974358973,1.2615384615384617,1.4256410256410257,1.5897435897435896,1.753846153846154,1.917948717948718],\"y\":[5.8096,3.8381753317244733,2.522800884051074,1.7092797030916282,1.2608197821340592,1.058034061642376,0.9989404292566787,0.9989617197931566,0.9909257152440888,0.9250651447778439,0.7690176847388803,0.5078259586477458,0.14393753720107805,-0.3027950617283952,-0.7951143730918573,-1.278357984664403,-1.6804585370450331,-1.911943723656666,-1.8659362907461214,-1.418154037384138],\"type\":\"scatter\",\"xaxis\":\"x4\",\"yaxis\":\"y4\"},{\"marker\":{\"color\":\"red\",\"opacity\":0.7},\"mode\":\"markers\",\"name\":\"Observed Points\",\"showlegend\":false,\"x\":[-1.2,-1.0358974358974358,-0.8717948717948718,-0.7076923076923076,-0.5435897435897435,-0.37948717948717947,-0.21538461538461529,-0.05128205128205132,0.11282051282051286,0.27692307692307705,0.441025641025641,0.6051282051282052,0.7692307692307694,0.9333333333333333,1.0974358974358973,1.2615384615384617,1.4256410256410257,1.5897435897435896,1.753846153846154,1.917948717948718],\"y\":[11.757671391173094,3.5818426717356258,10.316020807818976,-1.0978513402330436,-1.0630618540683685,-4.621043200203963,7.930175503873611,3.388974807298412,-2.3861370240366133,0.20023001005497088,-1.026305343591985,5.6907794693390725,-2.7486119464299894,-6.171890946734348,3.8023440045841963,-4.572638875109249,-0.8774260015409576,-4.934606684555297,-3.669123237980981,-6.3092907510495655],\"type\":\"scatter\",\"xaxis\":\"x4\",\"yaxis\":\"y4\"},{\"marker\":{\"color\":\"blue\",\"opacity\":0.7},\"mode\":\"markers\",\"name\":\"Predicted Points\",\"showlegend\":false,\"x\":[-1.2,-1.0358974358974358,-0.8717948717948718,-0.7076923076923076,-0.5435897435897435,-0.37948717948717947,-0.21538461538461529,-0.05128205128205132,0.11282051282051286,0.27692307692307705,0.441025641025641,0.6051282051282052,0.7692307692307694,0.9333333333333333,1.0974358974358973,1.2615384615384617,1.4256410256410257,1.5897435897435896,1.753846153846154,1.917948717948718],\"y\":[10.935729617971376,6.836121161434207,3.997646867652475,2.15800922764016,1.080745326795868,0.5552268449028079,0.3966600561288013,0.44608582902628124,0.5703796265322916,0.6622515059684873,0.6402461190411337,0.44874271184110837,0.05795512484389853,-0.5360682070903957,-1.3114442547170646,-2.22045539440679,-3.1895494081456315,-4.119339483535057,-4.884604213791908,-5.334287597748414],\"type\":\"scatter\",\"xaxis\":\"x4\",\"yaxis\":\"y4\"},{\"marker\":{\"color\":\"black\",\"opacity\":0.7},\"mode\":\"markers\",\"name\":\"Real Points\",\"showlegend\":false,\"x\":[-1.2,-1.0358974358974358,-0.8717948717948718,-0.7076923076923076,-0.5435897435897435,-0.37948717948717947,-0.21538461538461529,-0.05128205128205132,0.11282051282051286,0.27692307692307705,0.441025641025641,0.6051282051282052,0.7692307692307694,0.9333333333333333,1.0974358974358973,1.2615384615384617,1.4256410256410257,1.5897435897435896,1.753846153846154,1.917948717948718],\"y\":[5.8096,3.8381753317244733,2.522800884051074,1.7092797030916282,1.2608197821340592,1.058034061642376,0.9989404292566787,0.9989617197931566,0.9909257152440888,0.9250651447778439,0.7690176847388803,0.5078259586477458,0.14393753720107805,-0.3027950617283952,-0.7951143730918573,-1.278357984664403,-1.6804585370450331,-1.911943723656666,-1.8659362907461214,-1.418154037384138],\"type\":\"scatter\",\"xaxis\":\"x5\",\"yaxis\":\"y5\"},{\"marker\":{\"color\":\"red\",\"opacity\":0.7},\"mode\":\"markers\",\"name\":\"Observed Points\",\"showlegend\":false,\"x\":[-1.2,-1.0358974358974358,-0.8717948717948718,-0.7076923076923076,-0.5435897435897435,-0.37948717948717947,-0.21538461538461529,-0.05128205128205132,0.11282051282051286,0.27692307692307705,0.441025641025641,0.6051282051282052,0.7692307692307694,0.9333333333333333,1.0974358974358973,1.2615384615384617,1.4256410256410257,1.5897435897435896,1.753846153846154,1.917948717948718],\"y\":[9.14127725169443,0.16952162460586928,4.436387114465737,0.7533938621649768,-4.828096919263026,5.016353764402301,-3.1918108351698558,1.1145223015100172,-0.6071840981716005,5.676401976056097,-1.0181512882314954,-0.4444098105653903,4.488680289376923,-0.5783668043564487,-2.638408717402096,-2.107005004784902,1.3059106075500986,2.717824827888718,-2.8872053660217527,3.8693730980156342],\"type\":\"scatter\",\"xaxis\":\"x5\",\"yaxis\":\"y5\"},{\"marker\":{\"color\":\"blue\",\"opacity\":0.7},\"mode\":\"markers\",\"name\":\"Predicted Points\",\"showlegend\":false,\"x\":[-1.2,-1.0358974358974358,-0.8717948717948718,-0.7076923076923076,-0.5435897435897435,-0.37948717948717947,-0.21538461538461529,-0.05128205128205132,0.11282051282051286,0.27692307692307705,0.441025641025641,0.6051282051282052,0.7692307692307694,0.9333333333333333,1.0974358974358973,1.2615384615384617,1.4256410256410257,1.5897435897435896,1.753846153846154,1.917948717948718],\"y\":[7.843358866797633,3.8160182848819764,1.33551274715276,0.026569544346513818,-0.4419972895655225,-0.35728697737742127,0.03768800135144369,0.5440019102963926,1.0068157563674427,1.3153772897093055,1.4030210037013882,1.2471681349577939,0.8693266633273216,0.3350913118934642,-0.24585645302558579,-0.7197484218769485,-0.8887296418730379,-0.5108584169915851,0.6998936920243963,3.0736418676665522],\"type\":\"scatter\",\"xaxis\":\"x5\",\"yaxis\":\"y5\"},{\"marker\":{\"color\":\"black\",\"opacity\":0.7},\"mode\":\"markers\",\"name\":\"Real Points\",\"showlegend\":false,\"x\":[-1.2,-1.0358974358974358,-0.8717948717948718,-0.7076923076923076,-0.5435897435897435,-0.37948717948717947,-0.21538461538461529,-0.05128205128205132,0.11282051282051286,0.27692307692307705,0.441025641025641,0.6051282051282052,0.7692307692307694,0.9333333333333333,1.0974358974358973,1.2615384615384617,1.4256410256410257,1.5897435897435896,1.753846153846154,1.917948717948718],\"y\":[5.8096,3.8381753317244733,2.522800884051074,1.7092797030916282,1.2608197821340592,1.058034061642376,0.9989404292566787,0.9989617197931566,0.9909257152440888,0.9250651447778439,0.7690176847388803,0.5078259586477458,0.14393753720107805,-0.3027950617283952,-0.7951143730918573,-1.278357984664403,-1.6804585370450331,-1.911943723656666,-1.8659362907461214,-1.418154037384138],\"type\":\"scatter\",\"xaxis\":\"x6\",\"yaxis\":\"y6\"},{\"marker\":{\"color\":\"red\",\"opacity\":0.7},\"mode\":\"markers\",\"name\":\"Observed Points\",\"showlegend\":false,\"x\":[-1.2,-1.0358974358974358,-0.8717948717948718,-0.7076923076923076,-0.5435897435897435,-0.37948717948717947,-0.21538461538461529,-0.05128205128205132,0.11282051282051286,0.27692307692307705,0.441025641025641,0.6051282051282052,0.7692307692307694,0.9333333333333333,1.0974358974358973,1.2615384615384617,1.4256410256410257,1.5897435897435896,1.753846153846154,1.917948717948718],\"y\":[6.740276066571596,1.2425457376818874,0.30943979990279535,7.889544322418413,0.7918323918106656,2.568564765445491,-5.082611006924714,-7.27657415404755,4.606974581138806,-9.114358031213461,3.49722382588007,6.867615023274394,-2.58474589515973,-2.841509245808317,2.7689845533393123,-0.9547399510085629,-0.502234826202437,-0.5921943241008385,-0.6460153103679827,-6.9195915865496955],\"type\":\"scatter\",\"xaxis\":\"x6\",\"yaxis\":\"y6\"},{\"marker\":{\"color\":\"blue\",\"opacity\":0.7},\"mode\":\"markers\",\"name\":\"Predicted Points\",\"showlegend\":false,\"x\":[-1.2,-1.0358974358974358,-0.8717948717948718,-0.7076923076923076,-0.5435897435897435,-0.37948717948717947,-0.21538461538461529,-0.05128205128205132,0.11282051282051286,0.27692307692307705,0.441025641025641,0.6051282051282052,0.7692307692307694,0.9333333333333333,1.0974358974358973,1.2615384615384617,1.4256410256410257,1.5897435897435896,1.753846153846154,1.917948717948718],\"y\":[5.35588739056249,4.175068519090909,2.920094637847193,1.7016256197324342,0.6088040447838827,-0.29074479982506696,-0.9509129197848711,-1.3471096136498366,-1.476261472838123,-1.3568123816317401,-1.0287235171765503,-0.5534733494822661,-0.01405764142245225,0.4850105512654741,0.8177008799802463,0.8364657032567449,0.3722400867660003,-0.7655581966848093,-2.789028667152362,-5.931788137557174],\"type\":\"scatter\",\"xaxis\":\"x6\",\"yaxis\":\"y6\"}],                        {\"template\":{\"data\":{\"barpolar\":[{\"marker\":{\"line\":{\"color\":\"white\",\"width\":0.5},\"pattern\":{\"fillmode\":\"overlay\",\"size\":10,\"solidity\":0.2}},\"type\":\"barpolar\"}],\"bar\":[{\"error_x\":{\"color\":\"rgb(36,36,36)\"},\"error_y\":{\"color\":\"rgb(36,36,36)\"},\"marker\":{\"line\":{\"color\":\"white\",\"width\":0.5},\"pattern\":{\"fillmode\":\"overlay\",\"size\":10,\"solidity\":0.2}},\"type\":\"bar\"}],\"carpet\":[{\"aaxis\":{\"endlinecolor\":\"rgb(36,36,36)\",\"gridcolor\":\"white\",\"linecolor\":\"white\",\"minorgridcolor\":\"white\",\"startlinecolor\":\"rgb(36,36,36)\"},\"baxis\":{\"endlinecolor\":\"rgb(36,36,36)\",\"gridcolor\":\"white\",\"linecolor\":\"white\",\"minorgridcolor\":\"white\",\"startlinecolor\":\"rgb(36,36,36)\"},\"type\":\"carpet\"}],\"choropleth\":[{\"colorbar\":{\"outlinewidth\":1,\"tickcolor\":\"rgb(36,36,36)\",\"ticks\":\"outside\"},\"type\":\"choropleth\"}],\"contourcarpet\":[{\"colorbar\":{\"outlinewidth\":1,\"tickcolor\":\"rgb(36,36,36)\",\"ticks\":\"outside\"},\"type\":\"contourcarpet\"}],\"contour\":[{\"colorbar\":{\"outlinewidth\":1,\"tickcolor\":\"rgb(36,36,36)\",\"ticks\":\"outside\"},\"colorscale\":[[0.0,\"#440154\"],[0.1111111111111111,\"#482878\"],[0.2222222222222222,\"#3e4989\"],[0.3333333333333333,\"#31688e\"],[0.4444444444444444,\"#26828e\"],[0.5555555555555556,\"#1f9e89\"],[0.6666666666666666,\"#35b779\"],[0.7777777777777778,\"#6ece58\"],[0.8888888888888888,\"#b5de2b\"],[1.0,\"#fde725\"]],\"type\":\"contour\"}],\"heatmapgl\":[{\"colorbar\":{\"outlinewidth\":1,\"tickcolor\":\"rgb(36,36,36)\",\"ticks\":\"outside\"},\"colorscale\":[[0.0,\"#440154\"],[0.1111111111111111,\"#482878\"],[0.2222222222222222,\"#3e4989\"],[0.3333333333333333,\"#31688e\"],[0.4444444444444444,\"#26828e\"],[0.5555555555555556,\"#1f9e89\"],[0.6666666666666666,\"#35b779\"],[0.7777777777777778,\"#6ece58\"],[0.8888888888888888,\"#b5de2b\"],[1.0,\"#fde725\"]],\"type\":\"heatmapgl\"}],\"heatmap\":[{\"colorbar\":{\"outlinewidth\":1,\"tickcolor\":\"rgb(36,36,36)\",\"ticks\":\"outside\"},\"colorscale\":[[0.0,\"#440154\"],[0.1111111111111111,\"#482878\"],[0.2222222222222222,\"#3e4989\"],[0.3333333333333333,\"#31688e\"],[0.4444444444444444,\"#26828e\"],[0.5555555555555556,\"#1f9e89\"],[0.6666666666666666,\"#35b779\"],[0.7777777777777778,\"#6ece58\"],[0.8888888888888888,\"#b5de2b\"],[1.0,\"#fde725\"]],\"type\":\"heatmap\"}],\"histogram2dcontour\":[{\"colorbar\":{\"outlinewidth\":1,\"tickcolor\":\"rgb(36,36,36)\",\"ticks\":\"outside\"},\"colorscale\":[[0.0,\"#440154\"],[0.1111111111111111,\"#482878\"],[0.2222222222222222,\"#3e4989\"],[0.3333333333333333,\"#31688e\"],[0.4444444444444444,\"#26828e\"],[0.5555555555555556,\"#1f9e89\"],[0.6666666666666666,\"#35b779\"],[0.7777777777777778,\"#6ece58\"],[0.8888888888888888,\"#b5de2b\"],[1.0,\"#fde725\"]],\"type\":\"histogram2dcontour\"}],\"histogram2d\":[{\"colorbar\":{\"outlinewidth\":1,\"tickcolor\":\"rgb(36,36,36)\",\"ticks\":\"outside\"},\"colorscale\":[[0.0,\"#440154\"],[0.1111111111111111,\"#482878\"],[0.2222222222222222,\"#3e4989\"],[0.3333333333333333,\"#31688e\"],[0.4444444444444444,\"#26828e\"],[0.5555555555555556,\"#1f9e89\"],[0.6666666666666666,\"#35b779\"],[0.7777777777777778,\"#6ece58\"],[0.8888888888888888,\"#b5de2b\"],[1.0,\"#fde725\"]],\"type\":\"histogram2d\"}],\"histogram\":[{\"marker\":{\"line\":{\"color\":\"white\",\"width\":0.6}},\"type\":\"histogram\"}],\"mesh3d\":[{\"colorbar\":{\"outlinewidth\":1,\"tickcolor\":\"rgb(36,36,36)\",\"ticks\":\"outside\"},\"type\":\"mesh3d\"}],\"parcoords\":[{\"line\":{\"colorbar\":{\"outlinewidth\":1,\"tickcolor\":\"rgb(36,36,36)\",\"ticks\":\"outside\"}},\"type\":\"parcoords\"}],\"pie\":[{\"automargin\":true,\"type\":\"pie\"}],\"scatter3d\":[{\"line\":{\"colorbar\":{\"outlinewidth\":1,\"tickcolor\":\"rgb(36,36,36)\",\"ticks\":\"outside\"}},\"marker\":{\"colorbar\":{\"outlinewidth\":1,\"tickcolor\":\"rgb(36,36,36)\",\"ticks\":\"outside\"}},\"type\":\"scatter3d\"}],\"scattercarpet\":[{\"marker\":{\"colorbar\":{\"outlinewidth\":1,\"tickcolor\":\"rgb(36,36,36)\",\"ticks\":\"outside\"}},\"type\":\"scattercarpet\"}],\"scattergeo\":[{\"marker\":{\"colorbar\":{\"outlinewidth\":1,\"tickcolor\":\"rgb(36,36,36)\",\"ticks\":\"outside\"}},\"type\":\"scattergeo\"}],\"scattergl\":[{\"marker\":{\"colorbar\":{\"outlinewidth\":1,\"tickcolor\":\"rgb(36,36,36)\",\"ticks\":\"outside\"}},\"type\":\"scattergl\"}],\"scattermapbox\":[{\"marker\":{\"colorbar\":{\"outlinewidth\":1,\"tickcolor\":\"rgb(36,36,36)\",\"ticks\":\"outside\"}},\"type\":\"scattermapbox\"}],\"scatterpolargl\":[{\"marker\":{\"colorbar\":{\"outlinewidth\":1,\"tickcolor\":\"rgb(36,36,36)\",\"ticks\":\"outside\"}},\"type\":\"scatterpolargl\"}],\"scatterpolar\":[{\"marker\":{\"colorbar\":{\"outlinewidth\":1,\"tickcolor\":\"rgb(36,36,36)\",\"ticks\":\"outside\"}},\"type\":\"scatterpolar\"}],\"scatter\":[{\"marker\":{\"colorbar\":{\"outlinewidth\":1,\"tickcolor\":\"rgb(36,36,36)\",\"ticks\":\"outside\"}},\"type\":\"scatter\"}],\"scatterternary\":[{\"marker\":{\"colorbar\":{\"outlinewidth\":1,\"tickcolor\":\"rgb(36,36,36)\",\"ticks\":\"outside\"}},\"type\":\"scatterternary\"}],\"surface\":[{\"colorbar\":{\"outlinewidth\":1,\"tickcolor\":\"rgb(36,36,36)\",\"ticks\":\"outside\"},\"colorscale\":[[0.0,\"#440154\"],[0.1111111111111111,\"#482878\"],[0.2222222222222222,\"#3e4989\"],[0.3333333333333333,\"#31688e\"],[0.4444444444444444,\"#26828e\"],[0.5555555555555556,\"#1f9e89\"],[0.6666666666666666,\"#35b779\"],[0.7777777777777778,\"#6ece58\"],[0.8888888888888888,\"#b5de2b\"],[1.0,\"#fde725\"]],\"type\":\"surface\"}],\"table\":[{\"cells\":{\"fill\":{\"color\":\"rgb(237,237,237)\"},\"line\":{\"color\":\"white\"}},\"header\":{\"fill\":{\"color\":\"rgb(217,217,217)\"},\"line\":{\"color\":\"white\"}},\"type\":\"table\"}]},\"layout\":{\"annotationdefaults\":{\"arrowhead\":0,\"arrowwidth\":1},\"autotypenumbers\":\"strict\",\"coloraxis\":{\"colorbar\":{\"outlinewidth\":1,\"tickcolor\":\"rgb(36,36,36)\",\"ticks\":\"outside\"}},\"colorscale\":{\"diverging\":[[0.0,\"rgb(103,0,31)\"],[0.1,\"rgb(178,24,43)\"],[0.2,\"rgb(214,96,77)\"],[0.3,\"rgb(244,165,130)\"],[0.4,\"rgb(253,219,199)\"],[0.5,\"rgb(247,247,247)\"],[0.6,\"rgb(209,229,240)\"],[0.7,\"rgb(146,197,222)\"],[0.8,\"rgb(67,147,195)\"],[0.9,\"rgb(33,102,172)\"],[1.0,\"rgb(5,48,97)\"]],\"sequential\":[[0.0,\"#440154\"],[0.1111111111111111,\"#482878\"],[0.2222222222222222,\"#3e4989\"],[0.3333333333333333,\"#31688e\"],[0.4444444444444444,\"#26828e\"],[0.5555555555555556,\"#1f9e89\"],[0.6666666666666666,\"#35b779\"],[0.7777777777777778,\"#6ece58\"],[0.8888888888888888,\"#b5de2b\"],[1.0,\"#fde725\"]],\"sequentialminus\":[[0.0,\"#440154\"],[0.1111111111111111,\"#482878\"],[0.2222222222222222,\"#3e4989\"],[0.3333333333333333,\"#31688e\"],[0.4444444444444444,\"#26828e\"],[0.5555555555555556,\"#1f9e89\"],[0.6666666666666666,\"#35b779\"],[0.7777777777777778,\"#6ece58\"],[0.8888888888888888,\"#b5de2b\"],[1.0,\"#fde725\"]]},\"colorway\":[\"#1F77B4\",\"#FF7F0E\",\"#2CA02C\",\"#D62728\",\"#9467BD\",\"#8C564B\",\"#E377C2\",\"#7F7F7F\",\"#BCBD22\",\"#17BECF\"],\"font\":{\"color\":\"rgb(36,36,36)\"},\"geo\":{\"bgcolor\":\"white\",\"lakecolor\":\"white\",\"landcolor\":\"white\",\"showlakes\":true,\"showland\":true,\"subunitcolor\":\"white\"},\"hoverlabel\":{\"align\":\"left\"},\"hovermode\":\"closest\",\"mapbox\":{\"style\":\"light\"},\"paper_bgcolor\":\"white\",\"plot_bgcolor\":\"white\",\"polar\":{\"angularaxis\":{\"gridcolor\":\"rgb(232,232,232)\",\"linecolor\":\"rgb(36,36,36)\",\"showgrid\":false,\"showline\":true,\"ticks\":\"outside\"},\"bgcolor\":\"white\",\"radialaxis\":{\"gridcolor\":\"rgb(232,232,232)\",\"linecolor\":\"rgb(36,36,36)\",\"showgrid\":false,\"showline\":true,\"ticks\":\"outside\"}},\"scene\":{\"xaxis\":{\"backgroundcolor\":\"white\",\"gridcolor\":\"rgb(232,232,232)\",\"gridwidth\":2,\"linecolor\":\"rgb(36,36,36)\",\"showbackground\":true,\"showgrid\":false,\"showline\":true,\"ticks\":\"outside\",\"zeroline\":false,\"zerolinecolor\":\"rgb(36,36,36)\"},\"yaxis\":{\"backgroundcolor\":\"white\",\"gridcolor\":\"rgb(232,232,232)\",\"gridwidth\":2,\"linecolor\":\"rgb(36,36,36)\",\"showbackground\":true,\"showgrid\":false,\"showline\":true,\"ticks\":\"outside\",\"zeroline\":false,\"zerolinecolor\":\"rgb(36,36,36)\"},\"zaxis\":{\"backgroundcolor\":\"white\",\"gridcolor\":\"rgb(232,232,232)\",\"gridwidth\":2,\"linecolor\":\"rgb(36,36,36)\",\"showbackground\":true,\"showgrid\":false,\"showline\":true,\"ticks\":\"outside\",\"zeroline\":false,\"zerolinecolor\":\"rgb(36,36,36)\"}},\"shapedefaults\":{\"fillcolor\":\"black\",\"line\":{\"width\":0},\"opacity\":0.3},\"ternary\":{\"aaxis\":{\"gridcolor\":\"rgb(232,232,232)\",\"linecolor\":\"rgb(36,36,36)\",\"showgrid\":false,\"showline\":true,\"ticks\":\"outside\"},\"baxis\":{\"gridcolor\":\"rgb(232,232,232)\",\"linecolor\":\"rgb(36,36,36)\",\"showgrid\":false,\"showline\":true,\"ticks\":\"outside\"},\"bgcolor\":\"white\",\"caxis\":{\"gridcolor\":\"rgb(232,232,232)\",\"linecolor\":\"rgb(36,36,36)\",\"showgrid\":false,\"showline\":true,\"ticks\":\"outside\"}},\"title\":{\"x\":0.05},\"xaxis\":{\"automargin\":true,\"gridcolor\":\"rgb(232,232,232)\",\"linecolor\":\"rgb(36,36,36)\",\"showgrid\":false,\"showline\":true,\"ticks\":\"outside\",\"title\":{\"standoff\":15},\"zeroline\":false,\"zerolinecolor\":\"rgb(36,36,36)\"},\"yaxis\":{\"automargin\":true,\"gridcolor\":\"rgb(232,232,232)\",\"linecolor\":\"rgb(36,36,36)\",\"showgrid\":false,\"showline\":true,\"ticks\":\"outside\",\"title\":{\"standoff\":15},\"zeroline\":false,\"zerolinecolor\":\"rgb(36,36,36)\"},\"margin\":{\"b\":0,\"l\":20,\"r\":20,\"t\":40}}},\"xaxis\":{\"anchor\":\"y\",\"domain\":[0.0,0.2888888888888889]},\"yaxis\":{\"anchor\":\"x\",\"domain\":[0.625,1.0]},\"xaxis2\":{\"anchor\":\"y2\",\"domain\":[0.35555555555555557,0.6444444444444445]},\"yaxis2\":{\"anchor\":\"x2\",\"domain\":[0.625,1.0]},\"xaxis3\":{\"anchor\":\"y3\",\"domain\":[0.7111111111111111,1.0]},\"yaxis3\":{\"anchor\":\"x3\",\"domain\":[0.625,1.0]},\"xaxis4\":{\"anchor\":\"y4\",\"domain\":[0.0,0.2888888888888889]},\"yaxis4\":{\"anchor\":\"x4\",\"domain\":[0.0,0.375]},\"xaxis5\":{\"anchor\":\"y5\",\"domain\":[0.35555555555555557,0.6444444444444445]},\"yaxis5\":{\"anchor\":\"x5\",\"domain\":[0.0,0.375]},\"xaxis6\":{\"anchor\":\"y6\",\"domain\":[0.7111111111111111,1.0]},\"yaxis6\":{\"anchor\":\"x6\",\"domain\":[0.0,0.375]},\"annotations\":[{\"font\":{\"size\":16},\"showarrow\":false,\"text\":\"$\\\\sigma^2=0, MSE=0.0$\",\"x\":0.14444444444444446,\"xanchor\":\"center\",\"xref\":\"paper\",\"y\":1.0,\"yanchor\":\"bottom\",\"yref\":\"paper\"},{\"font\":{\"size\":16},\"showarrow\":false,\"text\":\"$\\\\sigma^2=1, MSE=0.45$\",\"x\":0.5,\"xanchor\":\"center\",\"xref\":\"paper\",\"y\":1.0,\"yanchor\":\"bottom\",\"yref\":\"paper\"},{\"font\":{\"size\":16},\"showarrow\":false,\"text\":\"$\\\\sigma^2=2, MSE=2.99$\",\"x\":0.8555555555555556,\"xanchor\":\"center\",\"xref\":\"paper\",\"y\":1.0,\"yanchor\":\"bottom\",\"yref\":\"paper\"},{\"font\":{\"size\":16},\"showarrow\":false,\"text\":\"$\\\\sigma^2=3, MSE=13.88$\",\"x\":0.14444444444444446,\"xanchor\":\"center\",\"xref\":\"paper\",\"y\":0.375,\"yanchor\":\"bottom\",\"yref\":\"paper\"},{\"font\":{\"size\":16},\"showarrow\":false,\"text\":\"$\\\\sigma^2=4, MSE=8.23$\",\"x\":0.5,\"xanchor\":\"center\",\"xref\":\"paper\",\"y\":0.375,\"yanchor\":\"bottom\",\"yref\":\"paper\"},{\"font\":{\"size\":16},\"showarrow\":false,\"text\":\"$\\\\sigma^2=5, MSE=15.99$\",\"x\":0.8555555555555556,\"xanchor\":\"center\",\"xref\":\"paper\",\"y\":0.375,\"yanchor\":\"bottom\",\"yref\":\"paper\"}],\"margin\":{\"t\":80},\"title\":{\"text\":\"$\\\\text{(5) Simulated Data - Different Noise Scales}$\"}},                        {\"responsive\": true}                    ).then(function(){\n                            \nvar gd = document.getElementById('aaeab5c8-b72e-4470-ae04-936b43856f46');\nvar x = new MutationObserver(function (mutations, observer) {{\n        var display = window.getComputedStyle(gd).display;\n        if (!display || display === 'none') {{\n            console.log([gd, 'removed!']);\n            Plotly.purge(gd);\n            observer.disconnect();\n        }}\n}});\n\n// Listen for the removal of the full notebook cells\nvar notebookContainer = gd.closest('#notebook-container');\nif (notebookContainer) {{\n    x.observe(notebookContainer, {childList: true});\n}}\n\n// Listen for the clearing of the current output cell\nvar outputEl = gd.closest('.output');\nif (outputEl) {{\n    x.observe(outputEl, {childList: true});\n}}\n\n                        })                };                });            </script>        </div>"
     },
     "metadata": {},
     "output_type": "display_data"
    }
   ],
   "source": [
    "scales = range(6)\n",
    "fig = make_subplots(2, 3, subplot_titles=list(map(str, scales)))\n",
    "for i, s in enumerate(scales):\n",
    "    r,c = i//3+1, i%3+1\n",
    "    \n",
    "    y = y_ + np.random.normal(scale=s, size=len(y_))\n",
    "    y_hat = make_pipeline(PolynomialFeatures(4), LinearRegression(fit_intercept=False)).fit(X, y).predict(X)\n",
    "\n",
    "    fig.add_traces([go.Scatter(x=x, y=y_, mode=\"markers\", name=\"Real Points\",  marker=dict(color=\"black\", opacity=.7), showlegend=False),\n",
    "                    go.Scatter(x=x, y=y, mode=\"markers\", name=\"Observed Points\",  marker=dict(color=\"red\", opacity=.7), showlegend=False),\n",
    "                    go.Scatter(x=x, y=y_hat, mode=\"markers\", name=\"Predicted Points\",  marker=dict(color=\"blue\", opacity=.7), showlegend=False)], rows=r, cols=c)\n",
    "    fig[\"layout\"][\"annotations\"][i][\"text\"] = rf\"$\\sigma^2={{0}}, MSE={{1}}$\".format(s, round(np.mean((y-y_hat)**2), 2))\n",
    "\n",
    "fig.update_layout(title=r\"$\\text{(5) Simulated Data - Different Noise Scales}$\", margin=dict(t=80)).show()"
   ]
  },
  {
   "cell_type": "markdown",
   "metadata": {
    "pycharm": {
     "name": "#%% md\n"
    }
   },
   "source": [
    "## The Influence Of $k$ And $\\sigma^2$ On Error\n",
    "\n",
    "Lastly, let us check how the error is influenced by both $k$ and $\\sigma^2$. For each value of $k$ and $\\sigma^2$ we will\n",
    "add noise drawn from $\\mathcal{N}\\left(0,\\sigma^2\\right)$ and then, based on the noisy data, let the learner select an\n",
    "hypothesis from $\\mathcal{H}_{poly}^k$. We repeat the process for each set of $\\left(k,\\sigma^2\\right)$ 10 times and report\n",
    "the mean MSE value. Results are seen in heatmap below: \n"
   ]
  },
  {
   "cell_type": "code",
   "execution_count": 43,
   "metadata": {
    "pycharm": {
     "name": "#%%\n"
    }
   },
   "outputs": [
    {
     "data": {
      "application/vnd.plotly.v1+json": {
       "data": [
        {
         "colorscale": [
          [
           0.0,
           "rgb(241, 236, 236)"
          ],
          [
           0.09090909090909091,
           "rgb(230, 209, 203)"
          ],
          [
           0.18181818181818182,
           "rgb(221, 182, 170)"
          ],
          [
           0.2727272727272727,
           "rgb(213, 156, 137)"
          ],
          [
           0.36363636363636365,
           "rgb(205, 129, 103)"
          ],
          [
           0.45454545454545453,
           "rgb(196, 102, 73)"
          ],
          [
           0.5454545454545454,
           "rgb(186, 74, 47)"
          ],
          [
           0.6363636363636364,
           "rgb(172, 44, 36)"
          ],
          [
           0.7272727272727273,
           "rgb(149, 19, 39)"
          ],
          [
           0.8181818181818182,
           "rgb(120, 14, 40)"
          ],
          [
           0.9090909090909091,
           "rgb(89, 13, 31)"
          ],
          [
           1.0,
           "rgb(60, 9, 17)"
          ]
         ],
         "x": [
          0,
          0,
          0,
          0,
          0,
          0,
          0,
          0,
          0,
          0,
          1,
          1,
          1,
          1,
          1,
          1,
          1,
          1,
          1,
          1,
          2,
          2,
          2,
          2,
          2,
          2,
          2,
          2,
          2,
          2,
          3,
          3,
          3,
          3,
          3,
          3,
          3,
          3,
          3,
          3,
          4,
          4,
          4,
          4,
          4,
          4,
          4,
          4,
          4,
          4,
          5,
          5,
          5,
          5,
          5,
          5,
          5,
          5,
          5,
          5,
          6,
          6,
          6,
          6,
          6,
          6,
          6,
          6,
          6,
          6,
          7,
          7,
          7,
          7,
          7,
          7,
          7,
          7,
          7,
          7,
          8,
          8,
          8,
          8,
          8,
          8,
          8,
          8,
          8,
          8,
          9,
          9,
          9,
          9,
          9,
          9,
          9,
          9,
          9,
          9
         ],
         "y": [
          0.0,
          0.5555555555555556,
          1.1111111111111112,
          1.6666666666666667,
          2.2222222222222223,
          2.7777777777777777,
          3.3333333333333335,
          3.8888888888888893,
          4.444444444444445,
          5.0,
          0.0,
          0.5555555555555556,
          1.1111111111111112,
          1.6666666666666667,
          2.2222222222222223,
          2.7777777777777777,
          3.3333333333333335,
          3.8888888888888893,
          4.444444444444445,
          5.0,
          0.0,
          0.5555555555555556,
          1.1111111111111112,
          1.6666666666666667,
          2.2222222222222223,
          2.7777777777777777,
          3.3333333333333335,
          3.8888888888888893,
          4.444444444444445,
          5.0,
          0.0,
          0.5555555555555556,
          1.1111111111111112,
          1.6666666666666667,
          2.2222222222222223,
          2.7777777777777777,
          3.3333333333333335,
          3.8888888888888893,
          4.444444444444445,
          5.0,
          0.0,
          0.5555555555555556,
          1.1111111111111112,
          1.6666666666666667,
          2.2222222222222223,
          2.7777777777777777,
          3.3333333333333335,
          3.8888888888888893,
          4.444444444444445,
          5.0,
          0.0,
          0.5555555555555556,
          1.1111111111111112,
          1.6666666666666667,
          2.2222222222222223,
          2.7777777777777777,
          3.3333333333333335,
          3.8888888888888893,
          4.444444444444445,
          5.0,
          0.0,
          0.5555555555555556,
          1.1111111111111112,
          1.6666666666666667,
          2.2222222222222223,
          2.7777777777777777,
          3.3333333333333335,
          3.8888888888888893,
          4.444444444444445,
          5.0,
          0.0,
          0.5555555555555556,
          1.1111111111111112,
          1.6666666666666667,
          2.2222222222222223,
          2.7777777777777777,
          3.3333333333333335,
          3.8888888888888893,
          4.444444444444445,
          5.0,
          0.0,
          0.5555555555555556,
          1.1111111111111112,
          1.6666666666666667,
          2.2222222222222223,
          2.7777777777777777,
          3.3333333333333335,
          3.8888888888888893,
          4.444444444444445,
          5.0,
          0.0,
          0.5555555555555556,
          1.1111111111111112,
          1.6666666666666667,
          2.2222222222222223,
          2.7777777777777777,
          3.3333333333333335,
          3.8888888888888893,
          4.444444444444445,
          5.0
         ],
         "z": [
          3.598576934700836,
          3.771667026976209,
          4.756941297996543,
          6.168298871302427,
          7.248187217182775,
          11.344980622779016,
          14.94871709249829,
          20.927207411482243,
          25.562431510322366,
          29.64929567271248,
          0.5232075621691133,
          0.7961476339281531,
          1.3926280881113167,
          2.9997463240351174,
          5.141989125906639,
          6.733851386492576,
          10.402291852372665,
          13.549181023381717,
          16.607441002369523,
          23.403570132587184,
          0.42003610631965504,
          0.7775424058522461,
          1.7149279143615828,
          3.17177196005377,
          4.126892109294756,
          7.356292761644568,
          11.26811588213327,
          12.223772743752434,
          18.337977411387705,
          18.49150098199196,
          0.28291788942033963,
          0.5298014373052415,
          1.2061437293160597,
          2.1447628236548812,
          4.36804084250645,
          6.410945024389778,
          8.550722931590867,
          11.313600242422638,
          19.303299905702694,
          18.078831204059192,
          8.110476181803527E-31,
          0.23646212044983644,
          0.9072623187350027,
          1.9694699304801397,
          3.7833395677764465,
          5.351332145200452,
          7.429683014661871,
          12.421624190630897,
          18.461062253482357,
          20.607117023080825,
          8.249759435381612E-30,
          0.20772900494444696,
          0.7784557100259475,
          2.2973277129620184,
          2.729013700475624,
          4.428275219781266,
          7.956240628894979,
          10.997328942905545,
          14.556171100472744,
          16.16997254227666,
          1.2182397448255552E-27,
          0.1989672333628022,
          0.9231232751605809,
          1.7867235905862846,
          3.3468088386764214,
          6.077697181218797,
          5.947384636409188,
          11.636939567518061,
          16.501241578452273,
          16.588414040727947,
          2.4364708614849595E-29,
          0.17563791700530446,
          0.8441315802746658,
          1.6068285157485132,
          3.4970000408918986,
          5.042556039438166,
          5.542146909514399,
          8.071961699453565,
          10.678154823481492,
          13.718367712604262,
          2.2564600135952364E-26,
          0.17462563001929823,
          0.5759070055093292,
          1.5268988867538167,
          2.991903046434159,
          4.408303008572168,
          6.151912905460006,
          7.3195813540728185,
          11.269140622950706,
          13.763167836895239,
          2.1844667801217784E-28,
          0.13218484339742614,
          0.6345875363947868,
          1.3735519405944647,
          2.573973820642359,
          3.994110180069387,
          5.148215725631191,
          7.645259008201452,
          9.594909341065911,
          8.979129080583556
         ],
         "type": "heatmap"
        }
       ],
       "layout": {
        "title": {
         "text": "$\\text{(6) Average Train } MSE \\text{ As Function of } \\left(k,\\sigma^2\\right)$"
        },
        "xaxis": {
         "title": {
          "text": "$k$ - Fitted Polynomial Degree"
         }
        },
        "yaxis": {
         "title": {
          "text": "$\\sigma^2$ - Noise Levels"
         }
        },
        "template": {
         "data": {
          "barpolar": [
           {
            "marker": {
             "line": {
              "color": "white",
              "width": 0.5
             },
             "pattern": {
              "fillmode": "overlay",
              "size": 10,
              "solidity": 0.2
             }
            },
            "type": "barpolar"
           }
          ],
          "bar": [
           {
            "error_x": {
             "color": "rgb(36,36,36)"
            },
            "error_y": {
             "color": "rgb(36,36,36)"
            },
            "marker": {
             "line": {
              "color": "white",
              "width": 0.5
             },
             "pattern": {
              "fillmode": "overlay",
              "size": 10,
              "solidity": 0.2
             }
            },
            "type": "bar"
           }
          ],
          "carpet": [
           {
            "aaxis": {
             "endlinecolor": "rgb(36,36,36)",
             "gridcolor": "white",
             "linecolor": "white",
             "minorgridcolor": "white",
             "startlinecolor": "rgb(36,36,36)"
            },
            "baxis": {
             "endlinecolor": "rgb(36,36,36)",
             "gridcolor": "white",
             "linecolor": "white",
             "minorgridcolor": "white",
             "startlinecolor": "rgb(36,36,36)"
            },
            "type": "carpet"
           }
          ],
          "choropleth": [
           {
            "colorbar": {
             "outlinewidth": 1,
             "tickcolor": "rgb(36,36,36)",
             "ticks": "outside"
            },
            "type": "choropleth"
           }
          ],
          "contourcarpet": [
           {
            "colorbar": {
             "outlinewidth": 1,
             "tickcolor": "rgb(36,36,36)",
             "ticks": "outside"
            },
            "type": "contourcarpet"
           }
          ],
          "contour": [
           {
            "colorbar": {
             "outlinewidth": 1,
             "tickcolor": "rgb(36,36,36)",
             "ticks": "outside"
            },
            "colorscale": [
             [
              0.0,
              "#440154"
             ],
             [
              0.1111111111111111,
              "#482878"
             ],
             [
              0.2222222222222222,
              "#3e4989"
             ],
             [
              0.3333333333333333,
              "#31688e"
             ],
             [
              0.4444444444444444,
              "#26828e"
             ],
             [
              0.5555555555555556,
              "#1f9e89"
             ],
             [
              0.6666666666666666,
              "#35b779"
             ],
             [
              0.7777777777777778,
              "#6ece58"
             ],
             [
              0.8888888888888888,
              "#b5de2b"
             ],
             [
              1.0,
              "#fde725"
             ]
            ],
            "type": "contour"
           }
          ],
          "heatmapgl": [
           {
            "colorbar": {
             "outlinewidth": 1,
             "tickcolor": "rgb(36,36,36)",
             "ticks": "outside"
            },
            "colorscale": [
             [
              0.0,
              "#440154"
             ],
             [
              0.1111111111111111,
              "#482878"
             ],
             [
              0.2222222222222222,
              "#3e4989"
             ],
             [
              0.3333333333333333,
              "#31688e"
             ],
             [
              0.4444444444444444,
              "#26828e"
             ],
             [
              0.5555555555555556,
              "#1f9e89"
             ],
             [
              0.6666666666666666,
              "#35b779"
             ],
             [
              0.7777777777777778,
              "#6ece58"
             ],
             [
              0.8888888888888888,
              "#b5de2b"
             ],
             [
              1.0,
              "#fde725"
             ]
            ],
            "type": "heatmapgl"
           }
          ],
          "heatmap": [
           {
            "colorbar": {
             "outlinewidth": 1,
             "tickcolor": "rgb(36,36,36)",
             "ticks": "outside"
            },
            "colorscale": [
             [
              0.0,
              "#440154"
             ],
             [
              0.1111111111111111,
              "#482878"
             ],
             [
              0.2222222222222222,
              "#3e4989"
             ],
             [
              0.3333333333333333,
              "#31688e"
             ],
             [
              0.4444444444444444,
              "#26828e"
             ],
             [
              0.5555555555555556,
              "#1f9e89"
             ],
             [
              0.6666666666666666,
              "#35b779"
             ],
             [
              0.7777777777777778,
              "#6ece58"
             ],
             [
              0.8888888888888888,
              "#b5de2b"
             ],
             [
              1.0,
              "#fde725"
             ]
            ],
            "type": "heatmap"
           }
          ],
          "histogram2dcontour": [
           {
            "colorbar": {
             "outlinewidth": 1,
             "tickcolor": "rgb(36,36,36)",
             "ticks": "outside"
            },
            "colorscale": [
             [
              0.0,
              "#440154"
             ],
             [
              0.1111111111111111,
              "#482878"
             ],
             [
              0.2222222222222222,
              "#3e4989"
             ],
             [
              0.3333333333333333,
              "#31688e"
             ],
             [
              0.4444444444444444,
              "#26828e"
             ],
             [
              0.5555555555555556,
              "#1f9e89"
             ],
             [
              0.6666666666666666,
              "#35b779"
             ],
             [
              0.7777777777777778,
              "#6ece58"
             ],
             [
              0.8888888888888888,
              "#b5de2b"
             ],
             [
              1.0,
              "#fde725"
             ]
            ],
            "type": "histogram2dcontour"
           }
          ],
          "histogram2d": [
           {
            "colorbar": {
             "outlinewidth": 1,
             "tickcolor": "rgb(36,36,36)",
             "ticks": "outside"
            },
            "colorscale": [
             [
              0.0,
              "#440154"
             ],
             [
              0.1111111111111111,
              "#482878"
             ],
             [
              0.2222222222222222,
              "#3e4989"
             ],
             [
              0.3333333333333333,
              "#31688e"
             ],
             [
              0.4444444444444444,
              "#26828e"
             ],
             [
              0.5555555555555556,
              "#1f9e89"
             ],
             [
              0.6666666666666666,
              "#35b779"
             ],
             [
              0.7777777777777778,
              "#6ece58"
             ],
             [
              0.8888888888888888,
              "#b5de2b"
             ],
             [
              1.0,
              "#fde725"
             ]
            ],
            "type": "histogram2d"
           }
          ],
          "histogram": [
           {
            "marker": {
             "line": {
              "color": "white",
              "width": 0.6
             }
            },
            "type": "histogram"
           }
          ],
          "mesh3d": [
           {
            "colorbar": {
             "outlinewidth": 1,
             "tickcolor": "rgb(36,36,36)",
             "ticks": "outside"
            },
            "type": "mesh3d"
           }
          ],
          "parcoords": [
           {
            "line": {
             "colorbar": {
              "outlinewidth": 1,
              "tickcolor": "rgb(36,36,36)",
              "ticks": "outside"
             }
            },
            "type": "parcoords"
           }
          ],
          "pie": [
           {
            "automargin": true,
            "type": "pie"
           }
          ],
          "scatter3d": [
           {
            "line": {
             "colorbar": {
              "outlinewidth": 1,
              "tickcolor": "rgb(36,36,36)",
              "ticks": "outside"
             }
            },
            "marker": {
             "colorbar": {
              "outlinewidth": 1,
              "tickcolor": "rgb(36,36,36)",
              "ticks": "outside"
             }
            },
            "type": "scatter3d"
           }
          ],
          "scattercarpet": [
           {
            "marker": {
             "colorbar": {
              "outlinewidth": 1,
              "tickcolor": "rgb(36,36,36)",
              "ticks": "outside"
             }
            },
            "type": "scattercarpet"
           }
          ],
          "scattergeo": [
           {
            "marker": {
             "colorbar": {
              "outlinewidth": 1,
              "tickcolor": "rgb(36,36,36)",
              "ticks": "outside"
             }
            },
            "type": "scattergeo"
           }
          ],
          "scattergl": [
           {
            "marker": {
             "colorbar": {
              "outlinewidth": 1,
              "tickcolor": "rgb(36,36,36)",
              "ticks": "outside"
             }
            },
            "type": "scattergl"
           }
          ],
          "scattermapbox": [
           {
            "marker": {
             "colorbar": {
              "outlinewidth": 1,
              "tickcolor": "rgb(36,36,36)",
              "ticks": "outside"
             }
            },
            "type": "scattermapbox"
           }
          ],
          "scatterpolargl": [
           {
            "marker": {
             "colorbar": {
              "outlinewidth": 1,
              "tickcolor": "rgb(36,36,36)",
              "ticks": "outside"
             }
            },
            "type": "scatterpolargl"
           }
          ],
          "scatterpolar": [
           {
            "marker": {
             "colorbar": {
              "outlinewidth": 1,
              "tickcolor": "rgb(36,36,36)",
              "ticks": "outside"
             }
            },
            "type": "scatterpolar"
           }
          ],
          "scatter": [
           {
            "marker": {
             "colorbar": {
              "outlinewidth": 1,
              "tickcolor": "rgb(36,36,36)",
              "ticks": "outside"
             }
            },
            "type": "scatter"
           }
          ],
          "scatterternary": [
           {
            "marker": {
             "colorbar": {
              "outlinewidth": 1,
              "tickcolor": "rgb(36,36,36)",
              "ticks": "outside"
             }
            },
            "type": "scatterternary"
           }
          ],
          "surface": [
           {
            "colorbar": {
             "outlinewidth": 1,
             "tickcolor": "rgb(36,36,36)",
             "ticks": "outside"
            },
            "colorscale": [
             [
              0.0,
              "#440154"
             ],
             [
              0.1111111111111111,
              "#482878"
             ],
             [
              0.2222222222222222,
              "#3e4989"
             ],
             [
              0.3333333333333333,
              "#31688e"
             ],
             [
              0.4444444444444444,
              "#26828e"
             ],
             [
              0.5555555555555556,
              "#1f9e89"
             ],
             [
              0.6666666666666666,
              "#35b779"
             ],
             [
              0.7777777777777778,
              "#6ece58"
             ],
             [
              0.8888888888888888,
              "#b5de2b"
             ],
             [
              1.0,
              "#fde725"
             ]
            ],
            "type": "surface"
           }
          ],
          "table": [
           {
            "cells": {
             "fill": {
              "color": "rgb(237,237,237)"
             },
             "line": {
              "color": "white"
             }
            },
            "header": {
             "fill": {
              "color": "rgb(217,217,217)"
             },
             "line": {
              "color": "white"
             }
            },
            "type": "table"
           }
          ]
         },
         "layout": {
          "annotationdefaults": {
           "arrowhead": 0,
           "arrowwidth": 1
          },
          "autotypenumbers": "strict",
          "coloraxis": {
           "colorbar": {
            "outlinewidth": 1,
            "tickcolor": "rgb(36,36,36)",
            "ticks": "outside"
           }
          },
          "colorscale": {
           "diverging": [
            [
             0.0,
             "rgb(103,0,31)"
            ],
            [
             0.1,
             "rgb(178,24,43)"
            ],
            [
             0.2,
             "rgb(214,96,77)"
            ],
            [
             0.3,
             "rgb(244,165,130)"
            ],
            [
             0.4,
             "rgb(253,219,199)"
            ],
            [
             0.5,
             "rgb(247,247,247)"
            ],
            [
             0.6,
             "rgb(209,229,240)"
            ],
            [
             0.7,
             "rgb(146,197,222)"
            ],
            [
             0.8,
             "rgb(67,147,195)"
            ],
            [
             0.9,
             "rgb(33,102,172)"
            ],
            [
             1.0,
             "rgb(5,48,97)"
            ]
           ],
           "sequential": [
            [
             0.0,
             "#440154"
            ],
            [
             0.1111111111111111,
             "#482878"
            ],
            [
             0.2222222222222222,
             "#3e4989"
            ],
            [
             0.3333333333333333,
             "#31688e"
            ],
            [
             0.4444444444444444,
             "#26828e"
            ],
            [
             0.5555555555555556,
             "#1f9e89"
            ],
            [
             0.6666666666666666,
             "#35b779"
            ],
            [
             0.7777777777777778,
             "#6ece58"
            ],
            [
             0.8888888888888888,
             "#b5de2b"
            ],
            [
             1.0,
             "#fde725"
            ]
           ],
           "sequentialminus": [
            [
             0.0,
             "#440154"
            ],
            [
             0.1111111111111111,
             "#482878"
            ],
            [
             0.2222222222222222,
             "#3e4989"
            ],
            [
             0.3333333333333333,
             "#31688e"
            ],
            [
             0.4444444444444444,
             "#26828e"
            ],
            [
             0.5555555555555556,
             "#1f9e89"
            ],
            [
             0.6666666666666666,
             "#35b779"
            ],
            [
             0.7777777777777778,
             "#6ece58"
            ],
            [
             0.8888888888888888,
             "#b5de2b"
            ],
            [
             1.0,
             "#fde725"
            ]
           ]
          },
          "colorway": [
           "#1F77B4",
           "#FF7F0E",
           "#2CA02C",
           "#D62728",
           "#9467BD",
           "#8C564B",
           "#E377C2",
           "#7F7F7F",
           "#BCBD22",
           "#17BECF"
          ],
          "font": {
           "color": "rgb(36,36,36)"
          },
          "geo": {
           "bgcolor": "white",
           "lakecolor": "white",
           "landcolor": "white",
           "showlakes": true,
           "showland": true,
           "subunitcolor": "white"
          },
          "hoverlabel": {
           "align": "left"
          },
          "hovermode": "closest",
          "mapbox": {
           "style": "light"
          },
          "paper_bgcolor": "white",
          "plot_bgcolor": "white",
          "polar": {
           "angularaxis": {
            "gridcolor": "rgb(232,232,232)",
            "linecolor": "rgb(36,36,36)",
            "showgrid": false,
            "showline": true,
            "ticks": "outside"
           },
           "bgcolor": "white",
           "radialaxis": {
            "gridcolor": "rgb(232,232,232)",
            "linecolor": "rgb(36,36,36)",
            "showgrid": false,
            "showline": true,
            "ticks": "outside"
           }
          },
          "scene": {
           "xaxis": {
            "backgroundcolor": "white",
            "gridcolor": "rgb(232,232,232)",
            "gridwidth": 2,
            "linecolor": "rgb(36,36,36)",
            "showbackground": true,
            "showgrid": false,
            "showline": true,
            "ticks": "outside",
            "zeroline": false,
            "zerolinecolor": "rgb(36,36,36)"
           },
           "yaxis": {
            "backgroundcolor": "white",
            "gridcolor": "rgb(232,232,232)",
            "gridwidth": 2,
            "linecolor": "rgb(36,36,36)",
            "showbackground": true,
            "showgrid": false,
            "showline": true,
            "ticks": "outside",
            "zeroline": false,
            "zerolinecolor": "rgb(36,36,36)"
           },
           "zaxis": {
            "backgroundcolor": "white",
            "gridcolor": "rgb(232,232,232)",
            "gridwidth": 2,
            "linecolor": "rgb(36,36,36)",
            "showbackground": true,
            "showgrid": false,
            "showline": true,
            "ticks": "outside",
            "zeroline": false,
            "zerolinecolor": "rgb(36,36,36)"
           }
          },
          "shapedefaults": {
           "fillcolor": "black",
           "line": {
            "width": 0
           },
           "opacity": 0.3
          },
          "ternary": {
           "aaxis": {
            "gridcolor": "rgb(232,232,232)",
            "linecolor": "rgb(36,36,36)",
            "showgrid": false,
            "showline": true,
            "ticks": "outside"
           },
           "baxis": {
            "gridcolor": "rgb(232,232,232)",
            "linecolor": "rgb(36,36,36)",
            "showgrid": false,
            "showline": true,
            "ticks": "outside"
           },
           "bgcolor": "white",
           "caxis": {
            "gridcolor": "rgb(232,232,232)",
            "linecolor": "rgb(36,36,36)",
            "showgrid": false,
            "showline": true,
            "ticks": "outside"
           }
          },
          "title": {
           "x": 0.05
          },
          "xaxis": {
           "automargin": true,
           "gridcolor": "rgb(232,232,232)",
           "linecolor": "rgb(36,36,36)",
           "showgrid": false,
           "showline": true,
           "ticks": "outside",
           "title": {
            "standoff": 15
           },
           "zeroline": false,
           "zerolinecolor": "rgb(36,36,36)"
          },
          "yaxis": {
           "automargin": true,
           "gridcolor": "rgb(232,232,232)",
           "linecolor": "rgb(36,36,36)",
           "showgrid": false,
           "showline": true,
           "ticks": "outside",
           "title": {
            "standoff": 15
           },
           "zeroline": false,
           "zerolinecolor": "rgb(36,36,36)"
          },
          "margin": {
           "b": 0,
           "l": 20,
           "r": 20,
           "t": 40
          }
         }
        }
       },
       "config": {
        "plotlyServerURL": "https://plot.ly"
       }
      },
      "text/html": "<div>                            <div id=\"518d64f4-24f0-48a0-bc0d-3899bde4fba2\" class=\"plotly-graph-div\" style=\"height:525px; width:100%;\"></div>            <script type=\"text/javascript\">                require([\"plotly\"], function(Plotly) {                    window.PLOTLYENV=window.PLOTLYENV || {};                                    if (document.getElementById(\"518d64f4-24f0-48a0-bc0d-3899bde4fba2\")) {                    Plotly.newPlot(                        \"518d64f4-24f0-48a0-bc0d-3899bde4fba2\",                        [{\"colorscale\":[[0.0,\"rgb(241, 236, 236)\"],[0.09090909090909091,\"rgb(230, 209, 203)\"],[0.18181818181818182,\"rgb(221, 182, 170)\"],[0.2727272727272727,\"rgb(213, 156, 137)\"],[0.36363636363636365,\"rgb(205, 129, 103)\"],[0.45454545454545453,\"rgb(196, 102, 73)\"],[0.5454545454545454,\"rgb(186, 74, 47)\"],[0.6363636363636364,\"rgb(172, 44, 36)\"],[0.7272727272727273,\"rgb(149, 19, 39)\"],[0.8181818181818182,\"rgb(120, 14, 40)\"],[0.9090909090909091,\"rgb(89, 13, 31)\"],[1.0,\"rgb(60, 9, 17)\"]],\"x\":[0,0,0,0,0,0,0,0,0,0,1,1,1,1,1,1,1,1,1,1,2,2,2,2,2,2,2,2,2,2,3,3,3,3,3,3,3,3,3,3,4,4,4,4,4,4,4,4,4,4,5,5,5,5,5,5,5,5,5,5,6,6,6,6,6,6,6,6,6,6,7,7,7,7,7,7,7,7,7,7,8,8,8,8,8,8,8,8,8,8,9,9,9,9,9,9,9,9,9,9],\"y\":[0.0,0.5555555555555556,1.1111111111111112,1.6666666666666667,2.2222222222222223,2.7777777777777777,3.3333333333333335,3.8888888888888893,4.444444444444445,5.0,0.0,0.5555555555555556,1.1111111111111112,1.6666666666666667,2.2222222222222223,2.7777777777777777,3.3333333333333335,3.8888888888888893,4.444444444444445,5.0,0.0,0.5555555555555556,1.1111111111111112,1.6666666666666667,2.2222222222222223,2.7777777777777777,3.3333333333333335,3.8888888888888893,4.444444444444445,5.0,0.0,0.5555555555555556,1.1111111111111112,1.6666666666666667,2.2222222222222223,2.7777777777777777,3.3333333333333335,3.8888888888888893,4.444444444444445,5.0,0.0,0.5555555555555556,1.1111111111111112,1.6666666666666667,2.2222222222222223,2.7777777777777777,3.3333333333333335,3.8888888888888893,4.444444444444445,5.0,0.0,0.5555555555555556,1.1111111111111112,1.6666666666666667,2.2222222222222223,2.7777777777777777,3.3333333333333335,3.8888888888888893,4.444444444444445,5.0,0.0,0.5555555555555556,1.1111111111111112,1.6666666666666667,2.2222222222222223,2.7777777777777777,3.3333333333333335,3.8888888888888893,4.444444444444445,5.0,0.0,0.5555555555555556,1.1111111111111112,1.6666666666666667,2.2222222222222223,2.7777777777777777,3.3333333333333335,3.8888888888888893,4.444444444444445,5.0,0.0,0.5555555555555556,1.1111111111111112,1.6666666666666667,2.2222222222222223,2.7777777777777777,3.3333333333333335,3.8888888888888893,4.444444444444445,5.0,0.0,0.5555555555555556,1.1111111111111112,1.6666666666666667,2.2222222222222223,2.7777777777777777,3.3333333333333335,3.8888888888888893,4.444444444444445,5.0],\"z\":[3.598576934700836,3.771667026976209,4.756941297996543,6.168298871302427,7.248187217182775,11.344980622779016,14.94871709249829,20.927207411482243,25.562431510322366,29.64929567271248,0.5232075621691133,0.7961476339281531,1.3926280881113167,2.9997463240351174,5.141989125906639,6.733851386492576,10.402291852372665,13.549181023381717,16.607441002369523,23.403570132587184,0.42003610631965504,0.7775424058522461,1.7149279143615828,3.17177196005377,4.126892109294756,7.356292761644568,11.26811588213327,12.223772743752434,18.337977411387705,18.49150098199196,0.28291788942033963,0.5298014373052415,1.2061437293160597,2.1447628236548812,4.36804084250645,6.410945024389778,8.550722931590867,11.313600242422638,19.303299905702694,18.078831204059192,8.110476181803527e-31,0.23646212044983644,0.9072623187350027,1.9694699304801397,3.7833395677764465,5.351332145200452,7.429683014661871,12.421624190630897,18.461062253482357,20.607117023080825,8.249759435381612e-30,0.20772900494444696,0.7784557100259475,2.2973277129620184,2.729013700475624,4.428275219781266,7.956240628894979,10.997328942905545,14.556171100472744,16.16997254227666,1.2182397448255552e-27,0.1989672333628022,0.9231232751605809,1.7867235905862846,3.3468088386764214,6.077697181218797,5.947384636409188,11.636939567518061,16.501241578452273,16.588414040727947,2.4364708614849595e-29,0.17563791700530446,0.8441315802746658,1.6068285157485132,3.4970000408918986,5.042556039438166,5.542146909514399,8.071961699453565,10.678154823481492,13.718367712604262,2.2564600135952364e-26,0.17462563001929823,0.5759070055093292,1.5268988867538167,2.991903046434159,4.408303008572168,6.151912905460006,7.3195813540728185,11.269140622950706,13.763167836895239,2.1844667801217784e-28,0.13218484339742614,0.6345875363947868,1.3735519405944647,2.573973820642359,3.994110180069387,5.148215725631191,7.645259008201452,9.594909341065911,8.979129080583556],\"type\":\"heatmap\"}],                        {\"title\":{\"text\":\"$\\\\text{(6) Average Train } MSE \\\\text{ As Function of } \\\\left(k,\\\\sigma^2\\\\right)$\"},\"xaxis\":{\"title\":{\"text\":\"$k$ - Fitted Polynomial Degree\"}},\"yaxis\":{\"title\":{\"text\":\"$\\\\sigma^2$ - Noise Levels\"}},\"template\":{\"data\":{\"barpolar\":[{\"marker\":{\"line\":{\"color\":\"white\",\"width\":0.5},\"pattern\":{\"fillmode\":\"overlay\",\"size\":10,\"solidity\":0.2}},\"type\":\"barpolar\"}],\"bar\":[{\"error_x\":{\"color\":\"rgb(36,36,36)\"},\"error_y\":{\"color\":\"rgb(36,36,36)\"},\"marker\":{\"line\":{\"color\":\"white\",\"width\":0.5},\"pattern\":{\"fillmode\":\"overlay\",\"size\":10,\"solidity\":0.2}},\"type\":\"bar\"}],\"carpet\":[{\"aaxis\":{\"endlinecolor\":\"rgb(36,36,36)\",\"gridcolor\":\"white\",\"linecolor\":\"white\",\"minorgridcolor\":\"white\",\"startlinecolor\":\"rgb(36,36,36)\"},\"baxis\":{\"endlinecolor\":\"rgb(36,36,36)\",\"gridcolor\":\"white\",\"linecolor\":\"white\",\"minorgridcolor\":\"white\",\"startlinecolor\":\"rgb(36,36,36)\"},\"type\":\"carpet\"}],\"choropleth\":[{\"colorbar\":{\"outlinewidth\":1,\"tickcolor\":\"rgb(36,36,36)\",\"ticks\":\"outside\"},\"type\":\"choropleth\"}],\"contourcarpet\":[{\"colorbar\":{\"outlinewidth\":1,\"tickcolor\":\"rgb(36,36,36)\",\"ticks\":\"outside\"},\"type\":\"contourcarpet\"}],\"contour\":[{\"colorbar\":{\"outlinewidth\":1,\"tickcolor\":\"rgb(36,36,36)\",\"ticks\":\"outside\"},\"colorscale\":[[0.0,\"#440154\"],[0.1111111111111111,\"#482878\"],[0.2222222222222222,\"#3e4989\"],[0.3333333333333333,\"#31688e\"],[0.4444444444444444,\"#26828e\"],[0.5555555555555556,\"#1f9e89\"],[0.6666666666666666,\"#35b779\"],[0.7777777777777778,\"#6ece58\"],[0.8888888888888888,\"#b5de2b\"],[1.0,\"#fde725\"]],\"type\":\"contour\"}],\"heatmapgl\":[{\"colorbar\":{\"outlinewidth\":1,\"tickcolor\":\"rgb(36,36,36)\",\"ticks\":\"outside\"},\"colorscale\":[[0.0,\"#440154\"],[0.1111111111111111,\"#482878\"],[0.2222222222222222,\"#3e4989\"],[0.3333333333333333,\"#31688e\"],[0.4444444444444444,\"#26828e\"],[0.5555555555555556,\"#1f9e89\"],[0.6666666666666666,\"#35b779\"],[0.7777777777777778,\"#6ece58\"],[0.8888888888888888,\"#b5de2b\"],[1.0,\"#fde725\"]],\"type\":\"heatmapgl\"}],\"heatmap\":[{\"colorbar\":{\"outlinewidth\":1,\"tickcolor\":\"rgb(36,36,36)\",\"ticks\":\"outside\"},\"colorscale\":[[0.0,\"#440154\"],[0.1111111111111111,\"#482878\"],[0.2222222222222222,\"#3e4989\"],[0.3333333333333333,\"#31688e\"],[0.4444444444444444,\"#26828e\"],[0.5555555555555556,\"#1f9e89\"],[0.6666666666666666,\"#35b779\"],[0.7777777777777778,\"#6ece58\"],[0.8888888888888888,\"#b5de2b\"],[1.0,\"#fde725\"]],\"type\":\"heatmap\"}],\"histogram2dcontour\":[{\"colorbar\":{\"outlinewidth\":1,\"tickcolor\":\"rgb(36,36,36)\",\"ticks\":\"outside\"},\"colorscale\":[[0.0,\"#440154\"],[0.1111111111111111,\"#482878\"],[0.2222222222222222,\"#3e4989\"],[0.3333333333333333,\"#31688e\"],[0.4444444444444444,\"#26828e\"],[0.5555555555555556,\"#1f9e89\"],[0.6666666666666666,\"#35b779\"],[0.7777777777777778,\"#6ece58\"],[0.8888888888888888,\"#b5de2b\"],[1.0,\"#fde725\"]],\"type\":\"histogram2dcontour\"}],\"histogram2d\":[{\"colorbar\":{\"outlinewidth\":1,\"tickcolor\":\"rgb(36,36,36)\",\"ticks\":\"outside\"},\"colorscale\":[[0.0,\"#440154\"],[0.1111111111111111,\"#482878\"],[0.2222222222222222,\"#3e4989\"],[0.3333333333333333,\"#31688e\"],[0.4444444444444444,\"#26828e\"],[0.5555555555555556,\"#1f9e89\"],[0.6666666666666666,\"#35b779\"],[0.7777777777777778,\"#6ece58\"],[0.8888888888888888,\"#b5de2b\"],[1.0,\"#fde725\"]],\"type\":\"histogram2d\"}],\"histogram\":[{\"marker\":{\"line\":{\"color\":\"white\",\"width\":0.6}},\"type\":\"histogram\"}],\"mesh3d\":[{\"colorbar\":{\"outlinewidth\":1,\"tickcolor\":\"rgb(36,36,36)\",\"ticks\":\"outside\"},\"type\":\"mesh3d\"}],\"parcoords\":[{\"line\":{\"colorbar\":{\"outlinewidth\":1,\"tickcolor\":\"rgb(36,36,36)\",\"ticks\":\"outside\"}},\"type\":\"parcoords\"}],\"pie\":[{\"automargin\":true,\"type\":\"pie\"}],\"scatter3d\":[{\"line\":{\"colorbar\":{\"outlinewidth\":1,\"tickcolor\":\"rgb(36,36,36)\",\"ticks\":\"outside\"}},\"marker\":{\"colorbar\":{\"outlinewidth\":1,\"tickcolor\":\"rgb(36,36,36)\",\"ticks\":\"outside\"}},\"type\":\"scatter3d\"}],\"scattercarpet\":[{\"marker\":{\"colorbar\":{\"outlinewidth\":1,\"tickcolor\":\"rgb(36,36,36)\",\"ticks\":\"outside\"}},\"type\":\"scattercarpet\"}],\"scattergeo\":[{\"marker\":{\"colorbar\":{\"outlinewidth\":1,\"tickcolor\":\"rgb(36,36,36)\",\"ticks\":\"outside\"}},\"type\":\"scattergeo\"}],\"scattergl\":[{\"marker\":{\"colorbar\":{\"outlinewidth\":1,\"tickcolor\":\"rgb(36,36,36)\",\"ticks\":\"outside\"}},\"type\":\"scattergl\"}],\"scattermapbox\":[{\"marker\":{\"colorbar\":{\"outlinewidth\":1,\"tickcolor\":\"rgb(36,36,36)\",\"ticks\":\"outside\"}},\"type\":\"scattermapbox\"}],\"scatterpolargl\":[{\"marker\":{\"colorbar\":{\"outlinewidth\":1,\"tickcolor\":\"rgb(36,36,36)\",\"ticks\":\"outside\"}},\"type\":\"scatterpolargl\"}],\"scatterpolar\":[{\"marker\":{\"colorbar\":{\"outlinewidth\":1,\"tickcolor\":\"rgb(36,36,36)\",\"ticks\":\"outside\"}},\"type\":\"scatterpolar\"}],\"scatter\":[{\"marker\":{\"colorbar\":{\"outlinewidth\":1,\"tickcolor\":\"rgb(36,36,36)\",\"ticks\":\"outside\"}},\"type\":\"scatter\"}],\"scatterternary\":[{\"marker\":{\"colorbar\":{\"outlinewidth\":1,\"tickcolor\":\"rgb(36,36,36)\",\"ticks\":\"outside\"}},\"type\":\"scatterternary\"}],\"surface\":[{\"colorbar\":{\"outlinewidth\":1,\"tickcolor\":\"rgb(36,36,36)\",\"ticks\":\"outside\"},\"colorscale\":[[0.0,\"#440154\"],[0.1111111111111111,\"#482878\"],[0.2222222222222222,\"#3e4989\"],[0.3333333333333333,\"#31688e\"],[0.4444444444444444,\"#26828e\"],[0.5555555555555556,\"#1f9e89\"],[0.6666666666666666,\"#35b779\"],[0.7777777777777778,\"#6ece58\"],[0.8888888888888888,\"#b5de2b\"],[1.0,\"#fde725\"]],\"type\":\"surface\"}],\"table\":[{\"cells\":{\"fill\":{\"color\":\"rgb(237,237,237)\"},\"line\":{\"color\":\"white\"}},\"header\":{\"fill\":{\"color\":\"rgb(217,217,217)\"},\"line\":{\"color\":\"white\"}},\"type\":\"table\"}]},\"layout\":{\"annotationdefaults\":{\"arrowhead\":0,\"arrowwidth\":1},\"autotypenumbers\":\"strict\",\"coloraxis\":{\"colorbar\":{\"outlinewidth\":1,\"tickcolor\":\"rgb(36,36,36)\",\"ticks\":\"outside\"}},\"colorscale\":{\"diverging\":[[0.0,\"rgb(103,0,31)\"],[0.1,\"rgb(178,24,43)\"],[0.2,\"rgb(214,96,77)\"],[0.3,\"rgb(244,165,130)\"],[0.4,\"rgb(253,219,199)\"],[0.5,\"rgb(247,247,247)\"],[0.6,\"rgb(209,229,240)\"],[0.7,\"rgb(146,197,222)\"],[0.8,\"rgb(67,147,195)\"],[0.9,\"rgb(33,102,172)\"],[1.0,\"rgb(5,48,97)\"]],\"sequential\":[[0.0,\"#440154\"],[0.1111111111111111,\"#482878\"],[0.2222222222222222,\"#3e4989\"],[0.3333333333333333,\"#31688e\"],[0.4444444444444444,\"#26828e\"],[0.5555555555555556,\"#1f9e89\"],[0.6666666666666666,\"#35b779\"],[0.7777777777777778,\"#6ece58\"],[0.8888888888888888,\"#b5de2b\"],[1.0,\"#fde725\"]],\"sequentialminus\":[[0.0,\"#440154\"],[0.1111111111111111,\"#482878\"],[0.2222222222222222,\"#3e4989\"],[0.3333333333333333,\"#31688e\"],[0.4444444444444444,\"#26828e\"],[0.5555555555555556,\"#1f9e89\"],[0.6666666666666666,\"#35b779\"],[0.7777777777777778,\"#6ece58\"],[0.8888888888888888,\"#b5de2b\"],[1.0,\"#fde725\"]]},\"colorway\":[\"#1F77B4\",\"#FF7F0E\",\"#2CA02C\",\"#D62728\",\"#9467BD\",\"#8C564B\",\"#E377C2\",\"#7F7F7F\",\"#BCBD22\",\"#17BECF\"],\"font\":{\"color\":\"rgb(36,36,36)\"},\"geo\":{\"bgcolor\":\"white\",\"lakecolor\":\"white\",\"landcolor\":\"white\",\"showlakes\":true,\"showland\":true,\"subunitcolor\":\"white\"},\"hoverlabel\":{\"align\":\"left\"},\"hovermode\":\"closest\",\"mapbox\":{\"style\":\"light\"},\"paper_bgcolor\":\"white\",\"plot_bgcolor\":\"white\",\"polar\":{\"angularaxis\":{\"gridcolor\":\"rgb(232,232,232)\",\"linecolor\":\"rgb(36,36,36)\",\"showgrid\":false,\"showline\":true,\"ticks\":\"outside\"},\"bgcolor\":\"white\",\"radialaxis\":{\"gridcolor\":\"rgb(232,232,232)\",\"linecolor\":\"rgb(36,36,36)\",\"showgrid\":false,\"showline\":true,\"ticks\":\"outside\"}},\"scene\":{\"xaxis\":{\"backgroundcolor\":\"white\",\"gridcolor\":\"rgb(232,232,232)\",\"gridwidth\":2,\"linecolor\":\"rgb(36,36,36)\",\"showbackground\":true,\"showgrid\":false,\"showline\":true,\"ticks\":\"outside\",\"zeroline\":false,\"zerolinecolor\":\"rgb(36,36,36)\"},\"yaxis\":{\"backgroundcolor\":\"white\",\"gridcolor\":\"rgb(232,232,232)\",\"gridwidth\":2,\"linecolor\":\"rgb(36,36,36)\",\"showbackground\":true,\"showgrid\":false,\"showline\":true,\"ticks\":\"outside\",\"zeroline\":false,\"zerolinecolor\":\"rgb(36,36,36)\"},\"zaxis\":{\"backgroundcolor\":\"white\",\"gridcolor\":\"rgb(232,232,232)\",\"gridwidth\":2,\"linecolor\":\"rgb(36,36,36)\",\"showbackground\":true,\"showgrid\":false,\"showline\":true,\"ticks\":\"outside\",\"zeroline\":false,\"zerolinecolor\":\"rgb(36,36,36)\"}},\"shapedefaults\":{\"fillcolor\":\"black\",\"line\":{\"width\":0},\"opacity\":0.3},\"ternary\":{\"aaxis\":{\"gridcolor\":\"rgb(232,232,232)\",\"linecolor\":\"rgb(36,36,36)\",\"showgrid\":false,\"showline\":true,\"ticks\":\"outside\"},\"baxis\":{\"gridcolor\":\"rgb(232,232,232)\",\"linecolor\":\"rgb(36,36,36)\",\"showgrid\":false,\"showline\":true,\"ticks\":\"outside\"},\"bgcolor\":\"white\",\"caxis\":{\"gridcolor\":\"rgb(232,232,232)\",\"linecolor\":\"rgb(36,36,36)\",\"showgrid\":false,\"showline\":true,\"ticks\":\"outside\"}},\"title\":{\"x\":0.05},\"xaxis\":{\"automargin\":true,\"gridcolor\":\"rgb(232,232,232)\",\"linecolor\":\"rgb(36,36,36)\",\"showgrid\":false,\"showline\":true,\"ticks\":\"outside\",\"title\":{\"standoff\":15},\"zeroline\":false,\"zerolinecolor\":\"rgb(36,36,36)\"},\"yaxis\":{\"automargin\":true,\"gridcolor\":\"rgb(232,232,232)\",\"linecolor\":\"rgb(36,36,36)\",\"showgrid\":false,\"showline\":true,\"ticks\":\"outside\",\"title\":{\"standoff\":15},\"zeroline\":false,\"zerolinecolor\":\"rgb(36,36,36)\"},\"margin\":{\"b\":0,\"l\":20,\"r\":20,\"t\":40}}}},                        {\"responsive\": true}                    ).then(function(){\n                            \nvar gd = document.getElementById('518d64f4-24f0-48a0-bc0d-3899bde4fba2');\nvar x = new MutationObserver(function (mutations, observer) {{\n        var display = window.getComputedStyle(gd).display;\n        if (!display || display === 'none') {{\n            console.log([gd, 'removed!']);\n            Plotly.purge(gd);\n            observer.disconnect();\n        }}\n}});\n\n// Listen for the removal of the full notebook cells\nvar notebookContainer = gd.closest('#notebook-container');\nif (notebookContainer) {{\n    x.observe(notebookContainer, {childList: true});\n}}\n\n// Listen for the clearing of the current output cell\nvar outputEl = gd.closest('.output');\nif (outputEl) {{\n    x.observe(outputEl, {childList: true});\n}}\n\n                        })                };                });            </script>        </div>"
     },
     "metadata": {},
     "output_type": "display_data"
    }
   ],
   "source": [
    "from sklearn.model_selection import ParameterGrid\n",
    "\n",
    "df = []\n",
    "for setting in ParameterGrid(dict(k=range(10), s=np.linspace(0, 5, 10), repetition=range(10))):\n",
    "    y = y_ + np.random.normal(scale=setting[\"s\"], size=len(y_))\n",
    "    y_hat = make_pipeline(PolynomialFeatures(setting[\"k\"]), LinearRegression(fit_intercept=False)).fit(X, y).predict(X)\n",
    "    \n",
    "    df.append([setting[\"k\"], setting[\"s\"], np.mean((y-y_hat)**2)])\n",
    "    \n",
    "df = pd.DataFrame.from_records(df, columns=[\"k\", \"sigma\",\"mse\"]).groupby([\"k\",\"sigma\"]).mean().reset_index()\n",
    "\n",
    "go.Figure(go.Heatmap(x=df.k, y=df.sigma, z=df.mse, colorscale=\"amp\"),\n",
    "          layout=go.Layout(title=r\"$\\text{(6) Average Train } MSE \\text{ As Function of } \\left(k,\\sigma^2\\right)$\", \n",
    "                           xaxis_title=r\"$k$ - Fitted Polynomial Degree\",\n",
    "                           yaxis_title=r\"$\\sigma^2$ - Noise Levels\")).show()\n"
   ]
  },
  {
   "cell_type": "markdown",
   "metadata": {
    "pycharm": {
     "name": "#%% md\n"
    }
   },
   "source": [
    "# Time To Think...\n",
    "\n",
    "In the above figure, we observe the following trends:\n",
    "- As already seen before, for the noise-free data, once we reach the correct $k$ we achieve zero MSE.\n",
    "- Across all values of $k$, as we increase $\\sigma^2$ we get higher MSE values.\n",
    "- For all noise levels, we manage to reduce MSE values by increasing $k$.\n",
    "\n",
    "So, by choosing a **richer** hypothesis class (i.e. larger and that can express more functions - polynomials of higher\n",
    "degree) we are able to choose an hypothesis that fits the **observed** data **better**, regardless to how noisy the data is.\n",
    "Try and think how the above heatmap would look if instead of calculating the MSE over the training samples (i.e train error)\n",
    "we would have calculated it over a **new** set of test samples drawn from the same distribution.\n",
    "\n",
    "Use the below code to create a test set. Change the code generating figure 6 such that the reported error is a test error. Do not forget to add the noise (that depends on $\\sigma^2$) to the test data. What has changed between what we observe for the train error to the test error? What happens for high/low values of $\\sigma^2$? What happens for high/low values of $k$?"
   ]
  },
  {
   "cell_type": "code",
   "execution_count": 42,
   "metadata": {},
   "outputs": [
    {
     "data": {
      "application/vnd.plotly.v1+json": {
       "data": [
        {
         "colorscale": [
          [
           0.0,
           "rgb(241, 236, 236)"
          ],
          [
           0.09090909090909091,
           "rgb(230, 209, 203)"
          ],
          [
           0.18181818181818182,
           "rgb(221, 182, 170)"
          ],
          [
           0.2727272727272727,
           "rgb(213, 156, 137)"
          ],
          [
           0.36363636363636365,
           "rgb(205, 129, 103)"
          ],
          [
           0.45454545454545453,
           "rgb(196, 102, 73)"
          ],
          [
           0.5454545454545454,
           "rgb(186, 74, 47)"
          ],
          [
           0.6363636363636364,
           "rgb(172, 44, 36)"
          ],
          [
           0.7272727272727273,
           "rgb(149, 19, 39)"
          ],
          [
           0.8181818181818182,
           "rgb(120, 14, 40)"
          ],
          [
           0.9090909090909091,
           "rgb(89, 13, 31)"
          ],
          [
           1.0,
           "rgb(60, 9, 17)"
          ]
         ],
         "x": [
          0,
          0,
          0,
          0,
          0,
          0,
          0,
          0,
          0,
          0,
          1,
          1,
          1,
          1,
          1,
          1,
          1,
          1,
          1,
          1,
          2,
          2,
          2,
          2,
          2,
          2,
          2,
          2,
          2,
          2,
          3,
          3,
          3,
          3,
          3,
          3,
          3,
          3,
          3,
          3,
          4,
          4,
          4,
          4,
          4,
          4,
          4,
          4,
          4,
          4,
          5,
          5,
          5,
          5,
          5,
          5,
          5,
          5,
          5,
          5,
          6,
          6,
          6,
          6,
          6,
          6,
          6,
          6,
          6,
          6,
          7,
          7,
          7,
          7,
          7,
          7,
          7,
          7,
          7,
          7,
          8,
          8,
          8,
          8,
          8,
          8,
          8,
          8,
          8,
          8,
          9,
          9,
          9,
          9,
          9,
          9,
          9,
          9,
          9,
          9
         ],
         "y": [
          0.0,
          0.5555555555555556,
          1.1111111111111112,
          1.6666666666666667,
          2.2222222222222223,
          2.7777777777777777,
          3.3333333333333335,
          3.8888888888888893,
          4.444444444444445,
          5.0,
          0.0,
          0.5555555555555556,
          1.1111111111111112,
          1.6666666666666667,
          2.2222222222222223,
          2.7777777777777777,
          3.3333333333333335,
          3.8888888888888893,
          4.444444444444445,
          5.0,
          0.0,
          0.5555555555555556,
          1.1111111111111112,
          1.6666666666666667,
          2.2222222222222223,
          2.7777777777777777,
          3.3333333333333335,
          3.8888888888888893,
          4.444444444444445,
          5.0,
          0.0,
          0.5555555555555556,
          1.1111111111111112,
          1.6666666666666667,
          2.2222222222222223,
          2.7777777777777777,
          3.3333333333333335,
          3.8888888888888893,
          4.444444444444445,
          5.0,
          0.0,
          0.5555555555555556,
          1.1111111111111112,
          1.6666666666666667,
          2.2222222222222223,
          2.7777777777777777,
          3.3333333333333335,
          3.8888888888888893,
          4.444444444444445,
          5.0,
          0.0,
          0.5555555555555556,
          1.1111111111111112,
          1.6666666666666667,
          2.2222222222222223,
          2.7777777777777777,
          3.3333333333333335,
          3.8888888888888893,
          4.444444444444445,
          5.0,
          0.0,
          0.5555555555555556,
          1.1111111111111112,
          1.6666666666666667,
          2.2222222222222223,
          2.7777777777777777,
          3.3333333333333335,
          3.8888888888888893,
          4.444444444444445,
          5.0,
          0.0,
          0.5555555555555556,
          1.1111111111111112,
          1.6666666666666667,
          2.2222222222222223,
          2.7777777777777777,
          3.3333333333333335,
          3.8888888888888893,
          4.444444444444445,
          5.0,
          0.0,
          0.5555555555555556,
          1.1111111111111112,
          1.6666666666666667,
          2.2222222222222223,
          2.7777777777777777,
          3.3333333333333335,
          3.8888888888888893,
          4.444444444444445,
          5.0,
          0.0,
          0.5555555555555556,
          1.1111111111111112,
          1.6666666666666667,
          2.2222222222222223,
          2.7777777777777777,
          3.3333333333333335,
          3.8888888888888893,
          4.444444444444445,
          5.0
         ],
         "z": [
          2.8173839575434734,
          3.1558658702874522,
          4.0273084944700255,
          5.42008663295938,
          7.648262868825377,
          11.544480147245414,
          12.133322600907318,
          17.762597664525863,
          21.266699562624343,
          29.489447908305902,
          5.8614977394132435,
          6.185894159027627,
          7.555364315645289,
          8.696109629353415,
          11.90080532789825,
          13.16689911049474,
          17.88174940821515,
          21.169794888041995,
          24.306519848216897,
          32.8291010963154,
          5.7494709949287355,
          5.753280546482696,
          7.278881140763765,
          8.737166052466524,
          10.388876937857452,
          14.20036939767773,
          16.8563798786773,
          23.910328395095828,
          30.539539682474402,
          35.65738597870991,
          5.863840499962979,
          5.960161949924066,
          7.372464337113932,
          9.604996494541814,
          12.477343919369734,
          13.826109609013255,
          22.092593817527494,
          23.14076346787756,
          27.21531322433765,
          43.70829943764352,
          5.570826609226685,
          5.731530061369254,
          6.926414140998647,
          9.6039085680576,
          11.414094544389313,
          15.094067595836595,
          21.309461425111433,
          23.71476077491815,
          27.506048573508007,
          40.00786411042471,
          5.570826609226682,
          6.254412031901827,
          6.774681211364022,
          9.356189899224457,
          12.586822549468167,
          13.60374100044325,
          18.28897895279286,
          25.546479760353474,
          30.530372558184563,
          29.729965447976422,
          5.5708266092267555,
          6.017613988096068,
          7.017997941343673,
          10.121211752344758,
          13.628390797163624,
          13.063520262344426,
          21.93910518631281,
          25.797960599306816,
          43.803201650618206,
          40.717638617387856,
          5.570826609226694,
          5.857360256427642,
          8.025020787073123,
          9.871780347230562,
          14.694686299009295,
          17.976229066570834,
          27.636132034736768,
          31.539176171268803,
          40.77895713110952,
          48.96062502210222,
          5.5708266092263985,
          6.388843302181635,
          7.669842973596479,
          11.17215601967641,
          14.868638254491632,
          21.51370602792056,
          26.127354407283356,
          33.74356840107423,
          37.26861615405287,
          42.33281880491268,
          5.570826609226658,
          6.122334689783502,
          7.957411160523064,
          12.809037474444258,
          15.757652460996317,
          23.435942806684523,
          30.395417939262938,
          35.83758613350115,
          69.88096790056693,
          75.49076746809757
         ],
         "type": "heatmap"
        }
       ],
       "layout": {
        "title": {
         "text": "$\\text{(6) Average Train } MSE \\text{ As Function of } \\left(k,\\sigma^2\\right)$"
        },
        "xaxis": {
         "title": {
          "text": "$k$ - Fitted Polynomial Degree"
         }
        },
        "yaxis": {
         "title": {
          "text": "$\\sigma^2$ - Noise Levels"
         }
        },
        "template": {
         "data": {
          "barpolar": [
           {
            "marker": {
             "line": {
              "color": "white",
              "width": 0.5
             },
             "pattern": {
              "fillmode": "overlay",
              "size": 10,
              "solidity": 0.2
             }
            },
            "type": "barpolar"
           }
          ],
          "bar": [
           {
            "error_x": {
             "color": "rgb(36,36,36)"
            },
            "error_y": {
             "color": "rgb(36,36,36)"
            },
            "marker": {
             "line": {
              "color": "white",
              "width": 0.5
             },
             "pattern": {
              "fillmode": "overlay",
              "size": 10,
              "solidity": 0.2
             }
            },
            "type": "bar"
           }
          ],
          "carpet": [
           {
            "aaxis": {
             "endlinecolor": "rgb(36,36,36)",
             "gridcolor": "white",
             "linecolor": "white",
             "minorgridcolor": "white",
             "startlinecolor": "rgb(36,36,36)"
            },
            "baxis": {
             "endlinecolor": "rgb(36,36,36)",
             "gridcolor": "white",
             "linecolor": "white",
             "minorgridcolor": "white",
             "startlinecolor": "rgb(36,36,36)"
            },
            "type": "carpet"
           }
          ],
          "choropleth": [
           {
            "colorbar": {
             "outlinewidth": 1,
             "tickcolor": "rgb(36,36,36)",
             "ticks": "outside"
            },
            "type": "choropleth"
           }
          ],
          "contourcarpet": [
           {
            "colorbar": {
             "outlinewidth": 1,
             "tickcolor": "rgb(36,36,36)",
             "ticks": "outside"
            },
            "type": "contourcarpet"
           }
          ],
          "contour": [
           {
            "colorbar": {
             "outlinewidth": 1,
             "tickcolor": "rgb(36,36,36)",
             "ticks": "outside"
            },
            "colorscale": [
             [
              0.0,
              "#440154"
             ],
             [
              0.1111111111111111,
              "#482878"
             ],
             [
              0.2222222222222222,
              "#3e4989"
             ],
             [
              0.3333333333333333,
              "#31688e"
             ],
             [
              0.4444444444444444,
              "#26828e"
             ],
             [
              0.5555555555555556,
              "#1f9e89"
             ],
             [
              0.6666666666666666,
              "#35b779"
             ],
             [
              0.7777777777777778,
              "#6ece58"
             ],
             [
              0.8888888888888888,
              "#b5de2b"
             ],
             [
              1.0,
              "#fde725"
             ]
            ],
            "type": "contour"
           }
          ],
          "heatmapgl": [
           {
            "colorbar": {
             "outlinewidth": 1,
             "tickcolor": "rgb(36,36,36)",
             "ticks": "outside"
            },
            "colorscale": [
             [
              0.0,
              "#440154"
             ],
             [
              0.1111111111111111,
              "#482878"
             ],
             [
              0.2222222222222222,
              "#3e4989"
             ],
             [
              0.3333333333333333,
              "#31688e"
             ],
             [
              0.4444444444444444,
              "#26828e"
             ],
             [
              0.5555555555555556,
              "#1f9e89"
             ],
             [
              0.6666666666666666,
              "#35b779"
             ],
             [
              0.7777777777777778,
              "#6ece58"
             ],
             [
              0.8888888888888888,
              "#b5de2b"
             ],
             [
              1.0,
              "#fde725"
             ]
            ],
            "type": "heatmapgl"
           }
          ],
          "heatmap": [
           {
            "colorbar": {
             "outlinewidth": 1,
             "tickcolor": "rgb(36,36,36)",
             "ticks": "outside"
            },
            "colorscale": [
             [
              0.0,
              "#440154"
             ],
             [
              0.1111111111111111,
              "#482878"
             ],
             [
              0.2222222222222222,
              "#3e4989"
             ],
             [
              0.3333333333333333,
              "#31688e"
             ],
             [
              0.4444444444444444,
              "#26828e"
             ],
             [
              0.5555555555555556,
              "#1f9e89"
             ],
             [
              0.6666666666666666,
              "#35b779"
             ],
             [
              0.7777777777777778,
              "#6ece58"
             ],
             [
              0.8888888888888888,
              "#b5de2b"
             ],
             [
              1.0,
              "#fde725"
             ]
            ],
            "type": "heatmap"
           }
          ],
          "histogram2dcontour": [
           {
            "colorbar": {
             "outlinewidth": 1,
             "tickcolor": "rgb(36,36,36)",
             "ticks": "outside"
            },
            "colorscale": [
             [
              0.0,
              "#440154"
             ],
             [
              0.1111111111111111,
              "#482878"
             ],
             [
              0.2222222222222222,
              "#3e4989"
             ],
             [
              0.3333333333333333,
              "#31688e"
             ],
             [
              0.4444444444444444,
              "#26828e"
             ],
             [
              0.5555555555555556,
              "#1f9e89"
             ],
             [
              0.6666666666666666,
              "#35b779"
             ],
             [
              0.7777777777777778,
              "#6ece58"
             ],
             [
              0.8888888888888888,
              "#b5de2b"
             ],
             [
              1.0,
              "#fde725"
             ]
            ],
            "type": "histogram2dcontour"
           }
          ],
          "histogram2d": [
           {
            "colorbar": {
             "outlinewidth": 1,
             "tickcolor": "rgb(36,36,36)",
             "ticks": "outside"
            },
            "colorscale": [
             [
              0.0,
              "#440154"
             ],
             [
              0.1111111111111111,
              "#482878"
             ],
             [
              0.2222222222222222,
              "#3e4989"
             ],
             [
              0.3333333333333333,
              "#31688e"
             ],
             [
              0.4444444444444444,
              "#26828e"
             ],
             [
              0.5555555555555556,
              "#1f9e89"
             ],
             [
              0.6666666666666666,
              "#35b779"
             ],
             [
              0.7777777777777778,
              "#6ece58"
             ],
             [
              0.8888888888888888,
              "#b5de2b"
             ],
             [
              1.0,
              "#fde725"
             ]
            ],
            "type": "histogram2d"
           }
          ],
          "histogram": [
           {
            "marker": {
             "line": {
              "color": "white",
              "width": 0.6
             }
            },
            "type": "histogram"
           }
          ],
          "mesh3d": [
           {
            "colorbar": {
             "outlinewidth": 1,
             "tickcolor": "rgb(36,36,36)",
             "ticks": "outside"
            },
            "type": "mesh3d"
           }
          ],
          "parcoords": [
           {
            "line": {
             "colorbar": {
              "outlinewidth": 1,
              "tickcolor": "rgb(36,36,36)",
              "ticks": "outside"
             }
            },
            "type": "parcoords"
           }
          ],
          "pie": [
           {
            "automargin": true,
            "type": "pie"
           }
          ],
          "scatter3d": [
           {
            "line": {
             "colorbar": {
              "outlinewidth": 1,
              "tickcolor": "rgb(36,36,36)",
              "ticks": "outside"
             }
            },
            "marker": {
             "colorbar": {
              "outlinewidth": 1,
              "tickcolor": "rgb(36,36,36)",
              "ticks": "outside"
             }
            },
            "type": "scatter3d"
           }
          ],
          "scattercarpet": [
           {
            "marker": {
             "colorbar": {
              "outlinewidth": 1,
              "tickcolor": "rgb(36,36,36)",
              "ticks": "outside"
             }
            },
            "type": "scattercarpet"
           }
          ],
          "scattergeo": [
           {
            "marker": {
             "colorbar": {
              "outlinewidth": 1,
              "tickcolor": "rgb(36,36,36)",
              "ticks": "outside"
             }
            },
            "type": "scattergeo"
           }
          ],
          "scattergl": [
           {
            "marker": {
             "colorbar": {
              "outlinewidth": 1,
              "tickcolor": "rgb(36,36,36)",
              "ticks": "outside"
             }
            },
            "type": "scattergl"
           }
          ],
          "scattermapbox": [
           {
            "marker": {
             "colorbar": {
              "outlinewidth": 1,
              "tickcolor": "rgb(36,36,36)",
              "ticks": "outside"
             }
            },
            "type": "scattermapbox"
           }
          ],
          "scatterpolargl": [
           {
            "marker": {
             "colorbar": {
              "outlinewidth": 1,
              "tickcolor": "rgb(36,36,36)",
              "ticks": "outside"
             }
            },
            "type": "scatterpolargl"
           }
          ],
          "scatterpolar": [
           {
            "marker": {
             "colorbar": {
              "outlinewidth": 1,
              "tickcolor": "rgb(36,36,36)",
              "ticks": "outside"
             }
            },
            "type": "scatterpolar"
           }
          ],
          "scatter": [
           {
            "marker": {
             "colorbar": {
              "outlinewidth": 1,
              "tickcolor": "rgb(36,36,36)",
              "ticks": "outside"
             }
            },
            "type": "scatter"
           }
          ],
          "scatterternary": [
           {
            "marker": {
             "colorbar": {
              "outlinewidth": 1,
              "tickcolor": "rgb(36,36,36)",
              "ticks": "outside"
             }
            },
            "type": "scatterternary"
           }
          ],
          "surface": [
           {
            "colorbar": {
             "outlinewidth": 1,
             "tickcolor": "rgb(36,36,36)",
             "ticks": "outside"
            },
            "colorscale": [
             [
              0.0,
              "#440154"
             ],
             [
              0.1111111111111111,
              "#482878"
             ],
             [
              0.2222222222222222,
              "#3e4989"
             ],
             [
              0.3333333333333333,
              "#31688e"
             ],
             [
              0.4444444444444444,
              "#26828e"
             ],
             [
              0.5555555555555556,
              "#1f9e89"
             ],
             [
              0.6666666666666666,
              "#35b779"
             ],
             [
              0.7777777777777778,
              "#6ece58"
             ],
             [
              0.8888888888888888,
              "#b5de2b"
             ],
             [
              1.0,
              "#fde725"
             ]
            ],
            "type": "surface"
           }
          ],
          "table": [
           {
            "cells": {
             "fill": {
              "color": "rgb(237,237,237)"
             },
             "line": {
              "color": "white"
             }
            },
            "header": {
             "fill": {
              "color": "rgb(217,217,217)"
             },
             "line": {
              "color": "white"
             }
            },
            "type": "table"
           }
          ]
         },
         "layout": {
          "annotationdefaults": {
           "arrowhead": 0,
           "arrowwidth": 1
          },
          "autotypenumbers": "strict",
          "coloraxis": {
           "colorbar": {
            "outlinewidth": 1,
            "tickcolor": "rgb(36,36,36)",
            "ticks": "outside"
           }
          },
          "colorscale": {
           "diverging": [
            [
             0.0,
             "rgb(103,0,31)"
            ],
            [
             0.1,
             "rgb(178,24,43)"
            ],
            [
             0.2,
             "rgb(214,96,77)"
            ],
            [
             0.3,
             "rgb(244,165,130)"
            ],
            [
             0.4,
             "rgb(253,219,199)"
            ],
            [
             0.5,
             "rgb(247,247,247)"
            ],
            [
             0.6,
             "rgb(209,229,240)"
            ],
            [
             0.7,
             "rgb(146,197,222)"
            ],
            [
             0.8,
             "rgb(67,147,195)"
            ],
            [
             0.9,
             "rgb(33,102,172)"
            ],
            [
             1.0,
             "rgb(5,48,97)"
            ]
           ],
           "sequential": [
            [
             0.0,
             "#440154"
            ],
            [
             0.1111111111111111,
             "#482878"
            ],
            [
             0.2222222222222222,
             "#3e4989"
            ],
            [
             0.3333333333333333,
             "#31688e"
            ],
            [
             0.4444444444444444,
             "#26828e"
            ],
            [
             0.5555555555555556,
             "#1f9e89"
            ],
            [
             0.6666666666666666,
             "#35b779"
            ],
            [
             0.7777777777777778,
             "#6ece58"
            ],
            [
             0.8888888888888888,
             "#b5de2b"
            ],
            [
             1.0,
             "#fde725"
            ]
           ],
           "sequentialminus": [
            [
             0.0,
             "#440154"
            ],
            [
             0.1111111111111111,
             "#482878"
            ],
            [
             0.2222222222222222,
             "#3e4989"
            ],
            [
             0.3333333333333333,
             "#31688e"
            ],
            [
             0.4444444444444444,
             "#26828e"
            ],
            [
             0.5555555555555556,
             "#1f9e89"
            ],
            [
             0.6666666666666666,
             "#35b779"
            ],
            [
             0.7777777777777778,
             "#6ece58"
            ],
            [
             0.8888888888888888,
             "#b5de2b"
            ],
            [
             1.0,
             "#fde725"
            ]
           ]
          },
          "colorway": [
           "#1F77B4",
           "#FF7F0E",
           "#2CA02C",
           "#D62728",
           "#9467BD",
           "#8C564B",
           "#E377C2",
           "#7F7F7F",
           "#BCBD22",
           "#17BECF"
          ],
          "font": {
           "color": "rgb(36,36,36)"
          },
          "geo": {
           "bgcolor": "white",
           "lakecolor": "white",
           "landcolor": "white",
           "showlakes": true,
           "showland": true,
           "subunitcolor": "white"
          },
          "hoverlabel": {
           "align": "left"
          },
          "hovermode": "closest",
          "mapbox": {
           "style": "light"
          },
          "paper_bgcolor": "white",
          "plot_bgcolor": "white",
          "polar": {
           "angularaxis": {
            "gridcolor": "rgb(232,232,232)",
            "linecolor": "rgb(36,36,36)",
            "showgrid": false,
            "showline": true,
            "ticks": "outside"
           },
           "bgcolor": "white",
           "radialaxis": {
            "gridcolor": "rgb(232,232,232)",
            "linecolor": "rgb(36,36,36)",
            "showgrid": false,
            "showline": true,
            "ticks": "outside"
           }
          },
          "scene": {
           "xaxis": {
            "backgroundcolor": "white",
            "gridcolor": "rgb(232,232,232)",
            "gridwidth": 2,
            "linecolor": "rgb(36,36,36)",
            "showbackground": true,
            "showgrid": false,
            "showline": true,
            "ticks": "outside",
            "zeroline": false,
            "zerolinecolor": "rgb(36,36,36)"
           },
           "yaxis": {
            "backgroundcolor": "white",
            "gridcolor": "rgb(232,232,232)",
            "gridwidth": 2,
            "linecolor": "rgb(36,36,36)",
            "showbackground": true,
            "showgrid": false,
            "showline": true,
            "ticks": "outside",
            "zeroline": false,
            "zerolinecolor": "rgb(36,36,36)"
           },
           "zaxis": {
            "backgroundcolor": "white",
            "gridcolor": "rgb(232,232,232)",
            "gridwidth": 2,
            "linecolor": "rgb(36,36,36)",
            "showbackground": true,
            "showgrid": false,
            "showline": true,
            "ticks": "outside",
            "zeroline": false,
            "zerolinecolor": "rgb(36,36,36)"
           }
          },
          "shapedefaults": {
           "fillcolor": "black",
           "line": {
            "width": 0
           },
           "opacity": 0.3
          },
          "ternary": {
           "aaxis": {
            "gridcolor": "rgb(232,232,232)",
            "linecolor": "rgb(36,36,36)",
            "showgrid": false,
            "showline": true,
            "ticks": "outside"
           },
           "baxis": {
            "gridcolor": "rgb(232,232,232)",
            "linecolor": "rgb(36,36,36)",
            "showgrid": false,
            "showline": true,
            "ticks": "outside"
           },
           "bgcolor": "white",
           "caxis": {
            "gridcolor": "rgb(232,232,232)",
            "linecolor": "rgb(36,36,36)",
            "showgrid": false,
            "showline": true,
            "ticks": "outside"
           }
          },
          "title": {
           "x": 0.05
          },
          "xaxis": {
           "automargin": true,
           "gridcolor": "rgb(232,232,232)",
           "linecolor": "rgb(36,36,36)",
           "showgrid": false,
           "showline": true,
           "ticks": "outside",
           "title": {
            "standoff": 15
           },
           "zeroline": false,
           "zerolinecolor": "rgb(36,36,36)"
          },
          "yaxis": {
           "automargin": true,
           "gridcolor": "rgb(232,232,232)",
           "linecolor": "rgb(36,36,36)",
           "showgrid": false,
           "showline": true,
           "ticks": "outside",
           "title": {
            "standoff": 15
           },
           "zeroline": false,
           "zerolinecolor": "rgb(36,36,36)"
          },
          "margin": {
           "b": 0,
           "l": 20,
           "r": 20,
           "t": 40
          }
         }
        }
       },
       "config": {
        "plotlyServerURL": "https://plot.ly"
       }
      },
      "text/html": "<div>                            <div id=\"e79e439f-f3e6-449b-8db4-2ee8b1823939\" class=\"plotly-graph-div\" style=\"height:525px; width:100%;\"></div>            <script type=\"text/javascript\">                require([\"plotly\"], function(Plotly) {                    window.PLOTLYENV=window.PLOTLYENV || {};                                    if (document.getElementById(\"e79e439f-f3e6-449b-8db4-2ee8b1823939\")) {                    Plotly.newPlot(                        \"e79e439f-f3e6-449b-8db4-2ee8b1823939\",                        [{\"colorscale\":[[0.0,\"rgb(241, 236, 236)\"],[0.09090909090909091,\"rgb(230, 209, 203)\"],[0.18181818181818182,\"rgb(221, 182, 170)\"],[0.2727272727272727,\"rgb(213, 156, 137)\"],[0.36363636363636365,\"rgb(205, 129, 103)\"],[0.45454545454545453,\"rgb(196, 102, 73)\"],[0.5454545454545454,\"rgb(186, 74, 47)\"],[0.6363636363636364,\"rgb(172, 44, 36)\"],[0.7272727272727273,\"rgb(149, 19, 39)\"],[0.8181818181818182,\"rgb(120, 14, 40)\"],[0.9090909090909091,\"rgb(89, 13, 31)\"],[1.0,\"rgb(60, 9, 17)\"]],\"x\":[0,0,0,0,0,0,0,0,0,0,1,1,1,1,1,1,1,1,1,1,2,2,2,2,2,2,2,2,2,2,3,3,3,3,3,3,3,3,3,3,4,4,4,4,4,4,4,4,4,4,5,5,5,5,5,5,5,5,5,5,6,6,6,6,6,6,6,6,6,6,7,7,7,7,7,7,7,7,7,7,8,8,8,8,8,8,8,8,8,8,9,9,9,9,9,9,9,9,9,9],\"y\":[0.0,0.5555555555555556,1.1111111111111112,1.6666666666666667,2.2222222222222223,2.7777777777777777,3.3333333333333335,3.8888888888888893,4.444444444444445,5.0,0.0,0.5555555555555556,1.1111111111111112,1.6666666666666667,2.2222222222222223,2.7777777777777777,3.3333333333333335,3.8888888888888893,4.444444444444445,5.0,0.0,0.5555555555555556,1.1111111111111112,1.6666666666666667,2.2222222222222223,2.7777777777777777,3.3333333333333335,3.8888888888888893,4.444444444444445,5.0,0.0,0.5555555555555556,1.1111111111111112,1.6666666666666667,2.2222222222222223,2.7777777777777777,3.3333333333333335,3.8888888888888893,4.444444444444445,5.0,0.0,0.5555555555555556,1.1111111111111112,1.6666666666666667,2.2222222222222223,2.7777777777777777,3.3333333333333335,3.8888888888888893,4.444444444444445,5.0,0.0,0.5555555555555556,1.1111111111111112,1.6666666666666667,2.2222222222222223,2.7777777777777777,3.3333333333333335,3.8888888888888893,4.444444444444445,5.0,0.0,0.5555555555555556,1.1111111111111112,1.6666666666666667,2.2222222222222223,2.7777777777777777,3.3333333333333335,3.8888888888888893,4.444444444444445,5.0,0.0,0.5555555555555556,1.1111111111111112,1.6666666666666667,2.2222222222222223,2.7777777777777777,3.3333333333333335,3.8888888888888893,4.444444444444445,5.0,0.0,0.5555555555555556,1.1111111111111112,1.6666666666666667,2.2222222222222223,2.7777777777777777,3.3333333333333335,3.8888888888888893,4.444444444444445,5.0,0.0,0.5555555555555556,1.1111111111111112,1.6666666666666667,2.2222222222222223,2.7777777777777777,3.3333333333333335,3.8888888888888893,4.444444444444445,5.0],\"z\":[2.8173839575434734,3.1558658702874522,4.0273084944700255,5.42008663295938,7.648262868825377,11.544480147245414,12.133322600907318,17.762597664525863,21.266699562624343,29.489447908305902,5.8614977394132435,6.185894159027627,7.555364315645289,8.696109629353415,11.90080532789825,13.16689911049474,17.88174940821515,21.169794888041995,24.306519848216897,32.8291010963154,5.7494709949287355,5.753280546482696,7.278881140763765,8.737166052466524,10.388876937857452,14.20036939767773,16.8563798786773,23.910328395095828,30.539539682474402,35.65738597870991,5.863840499962979,5.960161949924066,7.372464337113932,9.604996494541814,12.477343919369734,13.826109609013255,22.092593817527494,23.14076346787756,27.21531322433765,43.70829943764352,5.570826609226685,5.731530061369254,6.926414140998647,9.6039085680576,11.414094544389313,15.094067595836595,21.309461425111433,23.71476077491815,27.506048573508007,40.00786411042471,5.570826609226682,6.254412031901827,6.774681211364022,9.356189899224457,12.586822549468167,13.60374100044325,18.28897895279286,25.546479760353474,30.530372558184563,29.729965447976422,5.5708266092267555,6.017613988096068,7.017997941343673,10.121211752344758,13.628390797163624,13.063520262344426,21.93910518631281,25.797960599306816,43.803201650618206,40.717638617387856,5.570826609226694,5.857360256427642,8.025020787073123,9.871780347230562,14.694686299009295,17.976229066570834,27.636132034736768,31.539176171268803,40.77895713110952,48.96062502210222,5.5708266092263985,6.388843302181635,7.669842973596479,11.17215601967641,14.868638254491632,21.51370602792056,26.127354407283356,33.74356840107423,37.26861615405287,42.33281880491268,5.570826609226658,6.122334689783502,7.957411160523064,12.809037474444258,15.757652460996317,23.435942806684523,30.395417939262938,35.83758613350115,69.88096790056693,75.49076746809757],\"type\":\"heatmap\"}],                        {\"title\":{\"text\":\"$\\\\text{(6) Average Train } MSE \\\\text{ As Function of } \\\\left(k,\\\\sigma^2\\\\right)$\"},\"xaxis\":{\"title\":{\"text\":\"$k$ - Fitted Polynomial Degree\"}},\"yaxis\":{\"title\":{\"text\":\"$\\\\sigma^2$ - Noise Levels\"}},\"template\":{\"data\":{\"barpolar\":[{\"marker\":{\"line\":{\"color\":\"white\",\"width\":0.5},\"pattern\":{\"fillmode\":\"overlay\",\"size\":10,\"solidity\":0.2}},\"type\":\"barpolar\"}],\"bar\":[{\"error_x\":{\"color\":\"rgb(36,36,36)\"},\"error_y\":{\"color\":\"rgb(36,36,36)\"},\"marker\":{\"line\":{\"color\":\"white\",\"width\":0.5},\"pattern\":{\"fillmode\":\"overlay\",\"size\":10,\"solidity\":0.2}},\"type\":\"bar\"}],\"carpet\":[{\"aaxis\":{\"endlinecolor\":\"rgb(36,36,36)\",\"gridcolor\":\"white\",\"linecolor\":\"white\",\"minorgridcolor\":\"white\",\"startlinecolor\":\"rgb(36,36,36)\"},\"baxis\":{\"endlinecolor\":\"rgb(36,36,36)\",\"gridcolor\":\"white\",\"linecolor\":\"white\",\"minorgridcolor\":\"white\",\"startlinecolor\":\"rgb(36,36,36)\"},\"type\":\"carpet\"}],\"choropleth\":[{\"colorbar\":{\"outlinewidth\":1,\"tickcolor\":\"rgb(36,36,36)\",\"ticks\":\"outside\"},\"type\":\"choropleth\"}],\"contourcarpet\":[{\"colorbar\":{\"outlinewidth\":1,\"tickcolor\":\"rgb(36,36,36)\",\"ticks\":\"outside\"},\"type\":\"contourcarpet\"}],\"contour\":[{\"colorbar\":{\"outlinewidth\":1,\"tickcolor\":\"rgb(36,36,36)\",\"ticks\":\"outside\"},\"colorscale\":[[0.0,\"#440154\"],[0.1111111111111111,\"#482878\"],[0.2222222222222222,\"#3e4989\"],[0.3333333333333333,\"#31688e\"],[0.4444444444444444,\"#26828e\"],[0.5555555555555556,\"#1f9e89\"],[0.6666666666666666,\"#35b779\"],[0.7777777777777778,\"#6ece58\"],[0.8888888888888888,\"#b5de2b\"],[1.0,\"#fde725\"]],\"type\":\"contour\"}],\"heatmapgl\":[{\"colorbar\":{\"outlinewidth\":1,\"tickcolor\":\"rgb(36,36,36)\",\"ticks\":\"outside\"},\"colorscale\":[[0.0,\"#440154\"],[0.1111111111111111,\"#482878\"],[0.2222222222222222,\"#3e4989\"],[0.3333333333333333,\"#31688e\"],[0.4444444444444444,\"#26828e\"],[0.5555555555555556,\"#1f9e89\"],[0.6666666666666666,\"#35b779\"],[0.7777777777777778,\"#6ece58\"],[0.8888888888888888,\"#b5de2b\"],[1.0,\"#fde725\"]],\"type\":\"heatmapgl\"}],\"heatmap\":[{\"colorbar\":{\"outlinewidth\":1,\"tickcolor\":\"rgb(36,36,36)\",\"ticks\":\"outside\"},\"colorscale\":[[0.0,\"#440154\"],[0.1111111111111111,\"#482878\"],[0.2222222222222222,\"#3e4989\"],[0.3333333333333333,\"#31688e\"],[0.4444444444444444,\"#26828e\"],[0.5555555555555556,\"#1f9e89\"],[0.6666666666666666,\"#35b779\"],[0.7777777777777778,\"#6ece58\"],[0.8888888888888888,\"#b5de2b\"],[1.0,\"#fde725\"]],\"type\":\"heatmap\"}],\"histogram2dcontour\":[{\"colorbar\":{\"outlinewidth\":1,\"tickcolor\":\"rgb(36,36,36)\",\"ticks\":\"outside\"},\"colorscale\":[[0.0,\"#440154\"],[0.1111111111111111,\"#482878\"],[0.2222222222222222,\"#3e4989\"],[0.3333333333333333,\"#31688e\"],[0.4444444444444444,\"#26828e\"],[0.5555555555555556,\"#1f9e89\"],[0.6666666666666666,\"#35b779\"],[0.7777777777777778,\"#6ece58\"],[0.8888888888888888,\"#b5de2b\"],[1.0,\"#fde725\"]],\"type\":\"histogram2dcontour\"}],\"histogram2d\":[{\"colorbar\":{\"outlinewidth\":1,\"tickcolor\":\"rgb(36,36,36)\",\"ticks\":\"outside\"},\"colorscale\":[[0.0,\"#440154\"],[0.1111111111111111,\"#482878\"],[0.2222222222222222,\"#3e4989\"],[0.3333333333333333,\"#31688e\"],[0.4444444444444444,\"#26828e\"],[0.5555555555555556,\"#1f9e89\"],[0.6666666666666666,\"#35b779\"],[0.7777777777777778,\"#6ece58\"],[0.8888888888888888,\"#b5de2b\"],[1.0,\"#fde725\"]],\"type\":\"histogram2d\"}],\"histogram\":[{\"marker\":{\"line\":{\"color\":\"white\",\"width\":0.6}},\"type\":\"histogram\"}],\"mesh3d\":[{\"colorbar\":{\"outlinewidth\":1,\"tickcolor\":\"rgb(36,36,36)\",\"ticks\":\"outside\"},\"type\":\"mesh3d\"}],\"parcoords\":[{\"line\":{\"colorbar\":{\"outlinewidth\":1,\"tickcolor\":\"rgb(36,36,36)\",\"ticks\":\"outside\"}},\"type\":\"parcoords\"}],\"pie\":[{\"automargin\":true,\"type\":\"pie\"}],\"scatter3d\":[{\"line\":{\"colorbar\":{\"outlinewidth\":1,\"tickcolor\":\"rgb(36,36,36)\",\"ticks\":\"outside\"}},\"marker\":{\"colorbar\":{\"outlinewidth\":1,\"tickcolor\":\"rgb(36,36,36)\",\"ticks\":\"outside\"}},\"type\":\"scatter3d\"}],\"scattercarpet\":[{\"marker\":{\"colorbar\":{\"outlinewidth\":1,\"tickcolor\":\"rgb(36,36,36)\",\"ticks\":\"outside\"}},\"type\":\"scattercarpet\"}],\"scattergeo\":[{\"marker\":{\"colorbar\":{\"outlinewidth\":1,\"tickcolor\":\"rgb(36,36,36)\",\"ticks\":\"outside\"}},\"type\":\"scattergeo\"}],\"scattergl\":[{\"marker\":{\"colorbar\":{\"outlinewidth\":1,\"tickcolor\":\"rgb(36,36,36)\",\"ticks\":\"outside\"}},\"type\":\"scattergl\"}],\"scattermapbox\":[{\"marker\":{\"colorbar\":{\"outlinewidth\":1,\"tickcolor\":\"rgb(36,36,36)\",\"ticks\":\"outside\"}},\"type\":\"scattermapbox\"}],\"scatterpolargl\":[{\"marker\":{\"colorbar\":{\"outlinewidth\":1,\"tickcolor\":\"rgb(36,36,36)\",\"ticks\":\"outside\"}},\"type\":\"scatterpolargl\"}],\"scatterpolar\":[{\"marker\":{\"colorbar\":{\"outlinewidth\":1,\"tickcolor\":\"rgb(36,36,36)\",\"ticks\":\"outside\"}},\"type\":\"scatterpolar\"}],\"scatter\":[{\"marker\":{\"colorbar\":{\"outlinewidth\":1,\"tickcolor\":\"rgb(36,36,36)\",\"ticks\":\"outside\"}},\"type\":\"scatter\"}],\"scatterternary\":[{\"marker\":{\"colorbar\":{\"outlinewidth\":1,\"tickcolor\":\"rgb(36,36,36)\",\"ticks\":\"outside\"}},\"type\":\"scatterternary\"}],\"surface\":[{\"colorbar\":{\"outlinewidth\":1,\"tickcolor\":\"rgb(36,36,36)\",\"ticks\":\"outside\"},\"colorscale\":[[0.0,\"#440154\"],[0.1111111111111111,\"#482878\"],[0.2222222222222222,\"#3e4989\"],[0.3333333333333333,\"#31688e\"],[0.4444444444444444,\"#26828e\"],[0.5555555555555556,\"#1f9e89\"],[0.6666666666666666,\"#35b779\"],[0.7777777777777778,\"#6ece58\"],[0.8888888888888888,\"#b5de2b\"],[1.0,\"#fde725\"]],\"type\":\"surface\"}],\"table\":[{\"cells\":{\"fill\":{\"color\":\"rgb(237,237,237)\"},\"line\":{\"color\":\"white\"}},\"header\":{\"fill\":{\"color\":\"rgb(217,217,217)\"},\"line\":{\"color\":\"white\"}},\"type\":\"table\"}]},\"layout\":{\"annotationdefaults\":{\"arrowhead\":0,\"arrowwidth\":1},\"autotypenumbers\":\"strict\",\"coloraxis\":{\"colorbar\":{\"outlinewidth\":1,\"tickcolor\":\"rgb(36,36,36)\",\"ticks\":\"outside\"}},\"colorscale\":{\"diverging\":[[0.0,\"rgb(103,0,31)\"],[0.1,\"rgb(178,24,43)\"],[0.2,\"rgb(214,96,77)\"],[0.3,\"rgb(244,165,130)\"],[0.4,\"rgb(253,219,199)\"],[0.5,\"rgb(247,247,247)\"],[0.6,\"rgb(209,229,240)\"],[0.7,\"rgb(146,197,222)\"],[0.8,\"rgb(67,147,195)\"],[0.9,\"rgb(33,102,172)\"],[1.0,\"rgb(5,48,97)\"]],\"sequential\":[[0.0,\"#440154\"],[0.1111111111111111,\"#482878\"],[0.2222222222222222,\"#3e4989\"],[0.3333333333333333,\"#31688e\"],[0.4444444444444444,\"#26828e\"],[0.5555555555555556,\"#1f9e89\"],[0.6666666666666666,\"#35b779\"],[0.7777777777777778,\"#6ece58\"],[0.8888888888888888,\"#b5de2b\"],[1.0,\"#fde725\"]],\"sequentialminus\":[[0.0,\"#440154\"],[0.1111111111111111,\"#482878\"],[0.2222222222222222,\"#3e4989\"],[0.3333333333333333,\"#31688e\"],[0.4444444444444444,\"#26828e\"],[0.5555555555555556,\"#1f9e89\"],[0.6666666666666666,\"#35b779\"],[0.7777777777777778,\"#6ece58\"],[0.8888888888888888,\"#b5de2b\"],[1.0,\"#fde725\"]]},\"colorway\":[\"#1F77B4\",\"#FF7F0E\",\"#2CA02C\",\"#D62728\",\"#9467BD\",\"#8C564B\",\"#E377C2\",\"#7F7F7F\",\"#BCBD22\",\"#17BECF\"],\"font\":{\"color\":\"rgb(36,36,36)\"},\"geo\":{\"bgcolor\":\"white\",\"lakecolor\":\"white\",\"landcolor\":\"white\",\"showlakes\":true,\"showland\":true,\"subunitcolor\":\"white\"},\"hoverlabel\":{\"align\":\"left\"},\"hovermode\":\"closest\",\"mapbox\":{\"style\":\"light\"},\"paper_bgcolor\":\"white\",\"plot_bgcolor\":\"white\",\"polar\":{\"angularaxis\":{\"gridcolor\":\"rgb(232,232,232)\",\"linecolor\":\"rgb(36,36,36)\",\"showgrid\":false,\"showline\":true,\"ticks\":\"outside\"},\"bgcolor\":\"white\",\"radialaxis\":{\"gridcolor\":\"rgb(232,232,232)\",\"linecolor\":\"rgb(36,36,36)\",\"showgrid\":false,\"showline\":true,\"ticks\":\"outside\"}},\"scene\":{\"xaxis\":{\"backgroundcolor\":\"white\",\"gridcolor\":\"rgb(232,232,232)\",\"gridwidth\":2,\"linecolor\":\"rgb(36,36,36)\",\"showbackground\":true,\"showgrid\":false,\"showline\":true,\"ticks\":\"outside\",\"zeroline\":false,\"zerolinecolor\":\"rgb(36,36,36)\"},\"yaxis\":{\"backgroundcolor\":\"white\",\"gridcolor\":\"rgb(232,232,232)\",\"gridwidth\":2,\"linecolor\":\"rgb(36,36,36)\",\"showbackground\":true,\"showgrid\":false,\"showline\":true,\"ticks\":\"outside\",\"zeroline\":false,\"zerolinecolor\":\"rgb(36,36,36)\"},\"zaxis\":{\"backgroundcolor\":\"white\",\"gridcolor\":\"rgb(232,232,232)\",\"gridwidth\":2,\"linecolor\":\"rgb(36,36,36)\",\"showbackground\":true,\"showgrid\":false,\"showline\":true,\"ticks\":\"outside\",\"zeroline\":false,\"zerolinecolor\":\"rgb(36,36,36)\"}},\"shapedefaults\":{\"fillcolor\":\"black\",\"line\":{\"width\":0},\"opacity\":0.3},\"ternary\":{\"aaxis\":{\"gridcolor\":\"rgb(232,232,232)\",\"linecolor\":\"rgb(36,36,36)\",\"showgrid\":false,\"showline\":true,\"ticks\":\"outside\"},\"baxis\":{\"gridcolor\":\"rgb(232,232,232)\",\"linecolor\":\"rgb(36,36,36)\",\"showgrid\":false,\"showline\":true,\"ticks\":\"outside\"},\"bgcolor\":\"white\",\"caxis\":{\"gridcolor\":\"rgb(232,232,232)\",\"linecolor\":\"rgb(36,36,36)\",\"showgrid\":false,\"showline\":true,\"ticks\":\"outside\"}},\"title\":{\"x\":0.05},\"xaxis\":{\"automargin\":true,\"gridcolor\":\"rgb(232,232,232)\",\"linecolor\":\"rgb(36,36,36)\",\"showgrid\":false,\"showline\":true,\"ticks\":\"outside\",\"title\":{\"standoff\":15},\"zeroline\":false,\"zerolinecolor\":\"rgb(36,36,36)\"},\"yaxis\":{\"automargin\":true,\"gridcolor\":\"rgb(232,232,232)\",\"linecolor\":\"rgb(36,36,36)\",\"showgrid\":false,\"showline\":true,\"ticks\":\"outside\",\"title\":{\"standoff\":15},\"zeroline\":false,\"zerolinecolor\":\"rgb(36,36,36)\"},\"margin\":{\"b\":0,\"l\":20,\"r\":20,\"t\":40}}}},                        {\"responsive\": true}                    ).then(function(){\n                            \nvar gd = document.getElementById('e79e439f-f3e6-449b-8db4-2ee8b1823939');\nvar x = new MutationObserver(function (mutations, observer) {{\n        var display = window.getComputedStyle(gd).display;\n        if (!display || display === 'none') {{\n            console.log([gd, 'removed!']);\n            Plotly.purge(gd);\n            observer.disconnect();\n        }}\n}});\n\n// Listen for the removal of the full notebook cells\nvar notebookContainer = gd.closest('#notebook-container');\nif (notebookContainer) {{\n    x.observe(notebookContainer, {childList: true});\n}}\n\n// Listen for the clearing of the current output cell\nvar outputEl = gd.closest('.output');\nif (outputEl) {{\n    x.observe(outputEl, {childList: true});\n}}\n\n                        })                };                });            </script>        </div>"
     },
     "metadata": {},
     "output_type": "display_data"
    }
   ],
   "source": [
    "# Generate the x values of the test set\n",
    "testX = np.linspace(-1.2, 2, 40)[1::2].reshape(-1,1)\n",
    "\n",
    "# Generate the noisy y values of the test set. Set the noise level (the scale parameter) according to the specific setting\n",
    "\n",
    "\n",
    "df = []\n",
    "for setting in ParameterGrid(dict(k=range(10), s=np.linspace(0, 5, 10), repetition=range(10))):\n",
    "    testY = response(testX) + np.random.normal(scale=setting[\"s\"], size=len(y_))\n",
    "    y = y_ + np.random.normal(scale=setting[\"s\"], size=len(y_))\n",
    "    y_hat = make_pipeline(PolynomialFeatures(setting[\"k\"]), LinearRegression(fit_intercept=False)).fit(X, y).predict(testX)\n",
    "\n",
    "    df.append([setting[\"k\"], setting[\"s\"], np.mean((testY-y_hat)**2)])\n",
    "\n",
    "df = pd.DataFrame.from_records(df, columns=[\"k\", \"sigma\",\"mse\"]).groupby([\"k\",\"sigma\"]).mean().reset_index()\n",
    "\n",
    "go.Figure(go.Heatmap(x=df.k, y=df.sigma, z=df.mse, colorscale=\"amp\"),\n",
    "          layout=go.Layout(title=r\"$\\text{(6) Average Train } MSE \\text{ As Function of } \\left(k,\\sigma^2\\right)$\",\n",
    "                           xaxis_title=r\"$k$ - Fitted Polynomial Degree\",\n",
    "                           yaxis_title=r\"$\\sigma^2$ - Noise Levels\")).show()"
   ]
  }
 ],
 "metadata": {
  "kernelspec": {
   "name": "python3",
   "language": "python",
   "display_name": "Python 3 (ipykernel)"
  },
  "language_info": {
   "codemirror_mode": {
    "name": "ipython",
    "version": 3
   },
   "file_extension": ".py",
   "mimetype": "text/x-python",
   "name": "python",
   "nbconvert_exporter": "python",
   "pygments_lexer": "ipython3",
   "version": "3.7.10"
  }
 },
 "nbformat": 4,
 "nbformat_minor": 1
}